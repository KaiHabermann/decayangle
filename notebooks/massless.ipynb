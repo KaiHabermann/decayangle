{
 "cells": [
  {
   "cell_type": "code",
   "execution_count": 18,
   "id": "d3c18bd4",
   "metadata": {},
   "outputs": [
    {
     "name": "stdout",
     "output_type": "stream",
     "text": [
      "WignerAngles(phi_rf=np.float64(-0.7711208335042921), theta_rf=np.float64(0.2852255466688586), psi_rf=np.float64(0.8192845930750647))\n",
      "WignerAngles(phi_rf=np.float64(-2.658612655956471), theta_rf=np.float64(0.0), psi_rf=np.float64(2.658612655956471))\n",
      "WignerAngles(phi_rf=np.float64(-0.29797703756834193), theta_rf=np.float64(2.9802322387695312e-08), psi_rf=np.float64(0.2979770375683418))\n",
      "Check inverse\n",
      "False\n",
      "False\n",
      "False\n"
     ]
    },
    {
     "name": "stderr",
     "output_type": "stream",
     "text": [
      "/home/kai/Proects/decayangle/src/decayangle/kinematics.py:657: RuntimeWarning: divide by zero encountered in scalar divide\n",
      "  return 0.5 * cb.log((b + 1) / (1 - b))\n",
      "/home/kai/Proects/decayangle/src/decayangle/kinematics.py:317: RuntimeWarning: invalid value encountered in matmul\n",
      "  rotation_matrix_4_4_z(phi)\n",
      "/home/kai/Proects/decayangle/src/decayangle/kinematics.py:67: RuntimeWarning: invalid value encountered in multiply\n",
      "  (cb.cosh(xi / 2) * eye + cb.sinh(xi / 2) * sigma_z), [0, 1], [-2, -1]\n",
      "/home/kai/Proects/decayangle/src/decayangle/kinematics.py:67: RuntimeWarning: invalid value encountered in add\n",
      "  (cb.cosh(xi / 2) * eye + cb.sinh(xi / 2) * sigma_z), [0, 1], [-2, -1]\n"
     ]
    }
   ],
   "source": [
    "import numpy as np\n",
    "\n",
    "from decayangle.decay_topology import Topology\n",
    "from decayangle.config import config as cfg\n",
    "\n",
    "cfg.sorting = \"off\"\n",
    "\n",
    "\n",
    "\n",
    "momenta = {\n",
    "    1: np.array([0.2, -0.1, -0.5, (0.1**2 + 0.5**2 + 0.2**2)**0.5]),\n",
    "    2: np.array([0.1, 0, -0.5, 1]),\n",
    "    3: np.array([-0.3, 0.1, 1, 2]),\n",
    "}\n",
    "\n",
    "from decayangle.kinematics import mass, gamma\n",
    "\n",
    "reference = Topology(0, ((3,1),2))\n",
    "topology = Topology(0, ((1,2),3))\n",
    "momenta = reference.to_rest_frame(momenta)\n",
    "sum_momenta = np.sum(list(momenta.values()), axis=0)\n",
    "\n",
    "massless_frame = (1 ,2)\n",
    "alternative_massless_frame = (1, 3)\n",
    "\n",
    "# wigner_rotation = reference.relative_wigner_angles(topology, momenta, frame_for_massless=massless_frame)\n",
    "path, node_dict = reference.path_to(1)\n",
    "\n",
    "particle = 1\n",
    "\n",
    "b1 = reference.boost(particle, momenta, frame_for_massless=massless_frame)\n",
    "b2 = topology.boost(particle, momenta, frame_for_massless=massless_frame)\n",
    "\n",
    "rot1 = b1 @ b2.inverse()\n",
    "print(rot1.wigner_angles())\n",
    "\n",
    "b1 = reference.boost(particle, momenta, frame_for_massless=alternative_massless_frame)\n",
    "b2 = topology.boost(particle, momenta, frame_for_massless=alternative_massless_frame)\n",
    "rot2 = b1 @ b2.inverse()\n",
    "print(rot2.wigner_angles())\n",
    "\n",
    "b1 = reference.boost(particle, momenta,)\n",
    "b2 = topology.boost(particle, momenta,)\n",
    "rot3 = b1 @ b2.inverse()\n",
    "print(rot3.wigner_angles())\n",
    "\n",
    "\n",
    "def check_unity(rot):\n",
    "    return np.allclose(rot.matrix_2x2, np.eye(2)) and np.allclose(rot.matrix_4x4, np.eye(4))\n",
    "\n",
    "print(\"Check inverse\")\n",
    "print(check_unity(rot1 @ rot2.inverse()))\n",
    "print(check_unity(rot1 @ rot3.inverse()))\n",
    "print(check_unity(rot2 @ rot3.inverse()))\n",
    "\n",
    "\n",
    "\n"
   ]
  }
 ],
 "metadata": {
  "kernelspec": {
   "display_name": "default",
   "language": "python",
   "name": "python3"
  },
  "language_info": {
   "codemirror_mode": {
    "name": "ipython",
    "version": 3
   },
   "file_extension": ".py",
   "mimetype": "text/x-python",
   "name": "python",
   "nbconvert_exporter": "python",
   "pygments_lexer": "ipython3",
   "version": "3.12.5"
  }
 },
 "nbformat": 4,
 "nbformat_minor": 5
}
