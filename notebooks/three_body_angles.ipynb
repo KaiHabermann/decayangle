{
 "cells": [
  {
   "cell_type": "code",
   "execution_count": null,
   "metadata": {},
   "outputs": [],
   "source": [
    "import phasespace as phsp\n",
    "import numpy as np\n",
    "m0 = 5000\n",
    "m1 = 200\n",
    "m2 = 1000\n",
    "m3 = 998\n",
    "\n",
    "# arbitrary masses, since it does not really matter, if the particles do exist or not\n",
    "# Also I couldn't remermber masses for particles, so here we go\n",
    "\n",
    "weights, p = phsp.nbody_decay(m0, [m1, m2, m3]).generate(1)\n",
    "\n",
    "\n",
    "global_momenta = {\n",
    "    i + 1: np.array(p[f\"p_{i}\"])\n",
    "        for i in range(3)\n",
    "}\n",
    "global_momenta"
   ]
  },
  {
   "cell_type": "code",
   "execution_count": null,
   "metadata": {},
   "outputs": [],
   "source": [
    "import numpy as np\n",
    "from decayangle.lorentz import LorentzTrafo\n",
    "from decayangle.decay_topology import Topology\n",
    "from decayangle.config import config as cfg\n",
    "import matplotlib.pyplot as plt\n",
    "\n",
    "\n",
    "topology = Topology(root=0, decay_topology=((3, 1), 2))\n",
    "reference = Topology(root=0, decay_topology=((1, 2), 3))\n",
    "print(topology)\n",
    "print(reference)\n",
    "\n",
    "def make_four_vectors(phi_rf, theta_rf, psi_rf):\n",
    "    import numpy as np\n",
    "    # Make sure, the sorting is turned off\n",
    "    cfg.sorting = \"off\"\n",
    "    momenta = topology.to_rest_frame(global_momenta)\n",
    "    momenta_rotated = topology.align_with_daughter(momenta, 2)\n",
    "    rotation = LorentzTrafo(0, 0, 0, phi_rf, theta_rf, psi_rf)\n",
    "    momenta_rotated = reference.root.transform(rotation, momenta_rotated)\n",
    "    momenta_rotated = topology.to_rest_frame(momenta_rotated)\n",
    "\n",
    "    return momenta_rotated\n"
   ]
  },
  {
   "cell_type": "code",
   "execution_count": null,
   "metadata": {},
   "outputs": [],
   "source": [
    "N = 100\n",
    "x = np.linspace(1e-5, np.pi - 1e-5, N)\n",
    "y = np.linspace(-np.pi + 1e-5, np.pi - 1e-5, N)\n",
    "\n",
    "X, Y = np.meshgrid(x, y)\n",
    "momenta_23_rotated = make_four_vectors(0.7, X, Y)\n",
    "\n",
    "from decayangle.kinematics import gamma\n",
    "\n",
    "\n",
    "\n"
   ]
  },
  {
   "cell_type": "code",
   "execution_count": null,
   "metadata": {},
   "outputs": [],
   "source": [
    "result_full = topology.relative_wigner_angles(reference, momenta_23_rotated)\n",
    "\n",
    "result_psi = result_full[1].psi_rf\n",
    "result_phi = result_full[1].phi_rf\n",
    "result_theta = result_full[1].theta_rf\n",
    "result = result_psi + result_phi\n",
    "\n",
    "def fmod_4(val):\n",
    "    return np.round(val/np.pi, 6)\n",
    "    return np.round(np.fmod(val/np.pi, 4), 6)\n",
    "    return np.round(np.fmod(val/np.pi + 4,4),8)\n"
   ]
  },
  {
   "cell_type": "code",
   "execution_count": null,
   "metadata": {},
   "outputs": [],
   "source": [
    "img = plt.imshow(fmod_4(result), cmap='hot', origin='lower',\n",
    "                 extent=[x.min(), x.max(), y.min(), y.max()], aspect='auto')\n",
    "\n",
    "plt.colorbar(label=r\"$\\psi_{3}^{(1)}(1) + \\phi_{3}^{(1)}(1)$ in multiples of $\\pi$\")\n",
    "plt.xlabel(r'$\\theta_{rf}$')\n",
    "plt.ylabel(r'$\\psi_{rf}$')\n",
    "plt.title(r\"$\\psi_{3}^{(1)}(1) + \\phi_{3}^{(1)}(1)$\")\n",
    "plt.savefig('test.png', dpi = 1200)\n",
    "plt.show()\n",
    "plt.close('all')"
   ]
  },
  {
   "cell_type": "code",
   "execution_count": null,
   "metadata": {},
   "outputs": [],
   "source": [
    "img = plt.imshow(fmod_4(result_phi), cmap='hot', origin='lower',\n",
    "                 extent=[x.min(), x.max(), y.min(), y.max()], aspect='auto')\n",
    "\n",
    "plt.colorbar(label=r\"$\\phi_{3}^{(1)}(1) in multiples of $\\pi$\")\n",
    "plt.xlabel(r'$\\theta_{rf}$')\n",
    "plt.ylabel(r'$\\psi_{rf}$')\n",
    "plt.title(r\"$\\phi_{3}^{(1)}(1)$\")\n",
    "plt.savefig('test_phi.png', dpi = 1200)\n",
    "plt.show()\n",
    "plt.close('all')"
   ]
  },
  {
   "cell_type": "code",
   "execution_count": null,
   "metadata": {},
   "outputs": [],
   "source": [
    "img = plt.imshow(result_psi, cmap='hot', origin='lower',\n",
    "                 extent=[x.min(), x.max(), y.min(), y.max()], aspect='auto')\n",
    "\n",
    "plt.colorbar(label=r\"$\\psi_{3}^{(1)}(1)$ in multiples of $\\pi$\")\n",
    "plt.xlabel(r'$\\theta_{rf}$')\n",
    "plt.ylabel(r'$\\psi_{rf}$')\n",
    "plt.title(r\"$\\psi_{3}^{(1)}(1)$\")\n",
    "plt.savefig('test_psi.png', dpi = 1200)\n",
    "plt.show()\n",
    "plt.close('all')"
   ]
  },
  {
   "cell_type": "code",
   "execution_count": null,
   "metadata": {},
   "outputs": [],
   "source": [
    "img = plt.imshow(fmod_4(result_theta), cmap='hot', origin='lower',\n",
    "                 extent=[x.min(), x.max(), y.min(), y.max()], aspect='auto')\n",
    "\n",
    "plt.colorbar(label=r\"$\\theta_{3}^{(1)}(1)$ in multiples of $\\pi$\")\n",
    "plt.xlabel(r'$\\theta_{rf}$')\n",
    "plt.ylabel(r'$\\psi_{rf}$')\n",
    "plt.title(r\"$\\theta_{3}^{(1)}(1)$\")\n",
    "plt.savefig('test_theta.png', dpi = 1200)\n",
    "plt.show()\n",
    "plt.close('all')"
   ]
  }
 ],
 "metadata": {
  "kernelspec": {
   "display_name": "decayangle",
   "language": "python",
   "name": "python3"
  },
  "language_info": {
   "codemirror_mode": {
    "name": "ipython",
    "version": 3
   },
   "file_extension": ".py",
   "mimetype": "text/x-python",
   "name": "python",
   "nbconvert_exporter": "python",
   "pygments_lexer": "ipython3",
   "version": "3.11.8"
  }
 },
 "nbformat": 4,
 "nbformat_minor": 2
}
