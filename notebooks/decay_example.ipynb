{
 "cells": [
  {
   "cell_type": "code",
   "execution_count": 1,
   "metadata": {},
   "outputs": [
    {
     "name": "stdout",
     "output_type": "stream",
     "text": [
      "( 0 -> 1, ( (2, 3) -> 2, 3 ) )\n",
      "( 0 -> 2, ( (1, 3) -> 1, 3 ) )\n",
      "( 0 -> ( (1, 2) -> 1, 2 ), 3 )\n"
     ]
    }
   ],
   "source": [
    "from decayangle.DecayTopology import TopologyGroup\n",
    "\n",
    "# Find the possible the decay topologies\n",
    "tg = TopologyGroup(0, [1,2,3])\n",
    "for decay_tree in tg.trees:\n",
    "    print(decay_tree)"
   ]
  },
  {
   "cell_type": "code",
   "execution_count": 3,
   "metadata": {},
   "outputs": [
    {
     "name": "stdout",
     "output_type": "stream",
     "text": [
      "{1: 9.42477796076938, 2: 9.42477796076938, 3: 9.42477796076938}\n",
      "{1: 4.71238898038469, 2: 1.5707963267948968, 3: 7.853981633974483}\n",
      "{1: 7.853981633974483, 2: 4.71238898038469, 3: -1.5707963267948966}\n"
     ]
    }
   ],
   "source": [
    "import numpy as np\n",
    "from decayangle.DecayTopology import Node\n",
    "momenta = { \n",
    "    1: np.array([0, 0, -0.9, 1]),\n",
    "    2: np.array([0, 0.15, 0.4,1]),\n",
    "    3: np.array([ 0, 0.3, 0.3,1]),\n",
    "    4: np.array([ 0, 0.25, -0.4,1]),\n",
    "}\n",
    "\n",
    "reference_tree = tg.trees[0]\n",
    "momenta = reference_tree.to_rest_frame(momenta)\n",
    "\n",
    "amplitude = 0\n",
    "for tree in tg.trees:\n",
    "    final_state_rotations = {\n",
    "        target:reference_tree.relative_wigner_angles(tree, target, momenta)\n",
    "        for target in [Node(1), Node(2), Node(3)]\n",
    "    }\n",
    "    print(final_state_rotations)\n"
   ]
  }
 ],
 "metadata": {
  "kernelspec": {
   "display_name": "decayangle",
   "language": "python",
   "name": "python3"
  },
  "language_info": {
   "codemirror_mode": {
    "name": "ipython",
    "version": 3
   },
   "file_extension": ".py",
   "mimetype": "text/x-python",
   "name": "python",
   "nbconvert_exporter": "python",
   "pygments_lexer": "ipython3",
   "version": "3.12.2"
  }
 },
 "nbformat": 4,
 "nbformat_minor": 2
}
