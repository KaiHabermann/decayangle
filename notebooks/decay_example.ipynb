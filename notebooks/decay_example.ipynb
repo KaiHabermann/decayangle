{
 "cells": [
  {
   "cell_type": "markdown",
   "metadata": {},
   "source": [
    "# Warning: Unfinished Document. Work in Progress."
   ]
  },
  {
   "cell_type": "code",
   "execution_count": 79,
   "metadata": {},
   "outputs": [
    {
     "name": "stdout",
     "output_type": "stream",
     "text": [
      "Requirement already satisfied: particle in /home/kai/Envs/decayangle_dev/lib/python3.12/site-packages (0.24.0)\n",
      "Requirement already satisfied: attrs>=19.2 in /home/kai/Envs/decayangle_dev/lib/python3.12/site-packages (from particle) (23.2.0)\n",
      "Requirement already satisfied: hepunits>=2.0.0 in /home/kai/Envs/decayangle_dev/lib/python3.12/site-packages (from particle) (2.3.4)\n",
      "Requirement already satisfied: typing-extensions>=4.5 in /home/kai/Envs/decayangle_dev/lib/python3.12/site-packages (from particle) (4.12.2)\n",
      "\n",
      "\u001b[1m[\u001b[0m\u001b[34;49mnotice\u001b[0m\u001b[1;39;49m]\u001b[0m\u001b[39;49m A new release of pip is available: \u001b[0m\u001b[31;49m24.0\u001b[0m\u001b[39;49m -> \u001b[0m\u001b[32;49m24.2\u001b[0m\n",
      "\u001b[1m[\u001b[0m\u001b[34;49mnotice\u001b[0m\u001b[1;39;49m]\u001b[0m\u001b[39;49m To update, run: \u001b[0m\u001b[32;49mpip install --upgrade pip\u001b[0m\n",
      "Note: you may need to restart the kernel to use updated packages.\n",
      "Requirement already satisfied: sympy in /home/kai/Envs/decayangle_dev/lib/python3.12/site-packages (1.13.1)\n",
      "Requirement already satisfied: mpmath<1.4,>=1.1.0 in /home/kai/Envs/decayangle_dev/lib/python3.12/site-packages (from sympy) (1.3.0)\n",
      "\n",
      "\u001b[1m[\u001b[0m\u001b[34;49mnotice\u001b[0m\u001b[1;39;49m]\u001b[0m\u001b[39;49m A new release of pip is available: \u001b[0m\u001b[31;49m24.0\u001b[0m\u001b[39;49m -> \u001b[0m\u001b[32;49m24.2\u001b[0m\n",
      "\u001b[1m[\u001b[0m\u001b[34;49mnotice\u001b[0m\u001b[1;39;49m]\u001b[0m\u001b[39;49m To update, run: \u001b[0m\u001b[32;49mpip install --upgrade pip\u001b[0m\n",
      "Note: you may need to restart the kernel to use updated packages.\n"
     ]
    }
   ],
   "source": [
    "%pip install particle\n",
    "%pip install sympy"
   ]
  },
  {
   "cell_type": "markdown",
   "metadata": {},
   "source": [
    "Lets start by defining a decay. In the code beow you can see how to define a simple utility, which given momenta will be able to calculate all needed rotations.\n",
    "\n",
    "For simplicity we will choose a simple\n",
    "As you see, the isobars are always isolated, meaning no isobar is the predecessor of another isobar. This makes the the full amplitude straightforward to calculate."
   ]
  },
  {
   "cell_type": "code",
   "execution_count": 80,
   "metadata": {},
   "outputs": [
    {
     "name": "stdout",
     "output_type": "stream",
     "text": [
      "Topology: ( 0 -> ( (2, 3) -> 2, 3 ), 1 )\n",
      "Topology: ( 0 -> ( (3, 1) -> 3, 1 ), 2 )\n",
      "Topology: ( 0 -> ( (1, 2) -> 1, 2 ), 3 )\n"
     ]
    }
   ],
   "source": [
    "from decayangle.decay_topology import TopologyCollection, Node, Topology\n",
    "from decayangle.config import config as cfg\n",
    "cfg.sorting = \"off\"\n",
    "# We can switch the backend to jax if we like, but this is usually not advisable\n",
    "# Angles should be precomputed and thus jax is slower than numpy in most cases\n",
    "# cfg.backend=\"jax\"\n",
    "# print(cfg.backend)\n",
    "\n",
    "tg = TopologyCollection(\n",
    "    topologies=[\n",
    "        Topology(0, ((2,3), 1)),\n",
    "        Topology(0, ((3,1), 2)),\n",
    "        Topology(0, ((1,2), 3)),\n",
    "    ]\n",
    ")\n",
    "for decay_topology in tg.topologies:\n",
    "    print(decay_topology)"
   ]
  },
  {
   "cell_type": "markdown",
   "metadata": {},
   "source": [
    "First lets define some basic utility functions. This is not something you need to understand 100% on the first try.\n",
    "What we do is set up the basic functional setup to be able to perform a three body analysis, which is the simplest case. "
   ]
  },
  {
   "cell_type": "code",
   "execution_count": 81,
   "metadata": {},
   "outputs": [],
   "source": [
    "from typing import NamedTuple, Callable\n",
    "from math import prod\n",
    "from particle import Particle\n",
    "import numpy as np\n",
    "\n",
    "def wigner_small_d(theta, j, m1, m2):\n",
    "    \"\"\"Calculate Wigner small-d function. Needs sympy.\n",
    "      theta : angle\n",
    "      j : spin (in units of 1/2, e.g. 1 for spin=1/2)\n",
    "      m1 and m2 : spin projections (in units of 1/2)\n",
    "\n",
    "    :param theta:\n",
    "    :param j:\n",
    "    :param m1: before rotation\n",
    "    :param m2: after rotation\n",
    "\n",
    "    \"\"\"\n",
    "    from sympy import Rational\n",
    "    from sympy.abc import x\n",
    "    from sympy.utilities.lambdify import lambdify\n",
    "    from sympy.physics.quantum.spin import Rotation as Wigner\n",
    "    j,m1,m2 = int(j),int(m1),int(m2)\n",
    "    d = Wigner.d(Rational(j, 2), Rational(m2, 2), Rational(m1, 2), x).doit().evalf()\n",
    "    d = lambdify(x, d, \"numpy\")(theta)\n",
    "    # d = np.array(d)\n",
    "    # d[np.isnan(d)] = 0\n",
    "    d = np.nan_to_num(d, copy=True, nan=0.0)\n",
    "    return d\n",
    "\n",
    "def wigner_capital_d(phi, theta, psi, j, m1, m2):\n",
    "    return np.exp(-1j*phi * m2) * wigner_small_d(theta, j, m1, m2) * np.exp(-1j*psi * m1) \n",
    "\n",
    "\n",
    "    \n",
    "def BWResonance(spin, mass, width):\n",
    "    \"\"\"Create a Breit-Wigner resonance function for a given spin.\n",
    "    Args:\n",
    "        spin (int): spin quantum number multiplied by 2\n",
    "    \"\"\"\n",
    "    def f(s, L):\n",
    "        return np.sqrt(s) / (s - mass**2 + 1j * mass * width)\n",
    "    return f\n",
    "\n",
    "class resonance:\n",
    "    def __init__(self, spin, parity, mass, width, name, mother:Particle, bachelor:Particle, isobar: tuple):\n",
    "        self.spin = spin\n",
    "        self.mass = mass\n",
    "        self.width = width\n",
    "        self.lineshape = BWResonance(spin, mass, width)\n",
    "        self.parity = parity\n",
    "        self.name = name\n",
    "        self.mother = mother\n",
    "        self.bachelor = bachelor\n",
    "        self.isobar = isobar\n",
    "\n",
    "\n",
    "    @property\n",
    "    def possible_helicities(self):\n",
    "        return list(range(-self.spin, self.spin+1, 2))\n",
    "    \n",
    "    @property\n",
    "    def isbar_spins(self):\n",
    "        return [p.spin for p in self.isobar]\n",
    "    \n",
    "    @property\n",
    "    def isobar_parities(self):\n",
    "        return [p.parity for p in self.isobar]\n",
    "\n",
    "    def LS_couplings_mother_decay(self):\n",
    "        allowed_ls = []\n",
    "        LSCoupling = NamedTuple('LSCoupling', [('L', int), ('S', int), ('coupling', complex)])\n",
    "        for L in range(0, self.mother.spin + self.spin + self.bachelor.spin + 6, 2):\n",
    "            for S in range(abs(self.spin - self.bachelor.spin), abs(self.spin + self.bachelor.spin) + 1, 2):\n",
    "                if abs(L - S) <= self.mother.spin <= L + S:\n",
    "                    allowed_ls.append((L, S))\n",
    "        return {\n",
    "            f\"{self.name}:motherDecay:L{L}.S{S}\": LSCoupling(L, S, 1 + 0j) for L, S in allowed_ls\n",
    "        }\n",
    "    \n",
    "    def LS_coupling_resonance_decay(self):\n",
    "        allowed_ls = []\n",
    "        LSCoupling = NamedTuple('LSCoupling', [('L', int), ('S', int), ('coupling', complex)])\n",
    "        for L in range(0, self.spin + sum(self.isbar_spins) + self.mother.spin, 2):\n",
    "            for S in range(abs(self.isbar_spins[0] - self.isbar_spins[1]), sum(self.isbar_spins) + 1, 2):\n",
    "                if abs(L - S) <= self.spin <= L + S: # check J double\n",
    "                    if prod(self.isobar_parities) * (-1)**(L) == self.parity: # check parity\n",
    "                        allowed_ls.append((L, S))\n",
    "        return {\n",
    "            f\"{self.name}:resonanceDecay:L{L}.S{S}\": LSCoupling(L, S, 1 + 0j) for L, S in allowed_ls\n",
    "        }\n",
    "            \n",
    "    def clebsch_gordan(self, j1, m1, j2, m2, J, M):\n",
    "        \"\"\"\n",
    "        Return clebsch-Gordan coefficient. Note that all arguments should be multiplied by 2\n",
    "        (e.g. 1 for spin 1/2, 2 for spin 1 etc.). Needs sympy.\n",
    "        \"\"\"\n",
    "        from sympy.physics.quantum.cg import CG\n",
    "        from sympy import Rational\n",
    "        cg = CG(\n",
    "                Rational(j1, 2),\n",
    "                Rational(m1, 2),\n",
    "                Rational(j2, 2),\n",
    "                Rational(m2, 2),\n",
    "                Rational(J, 2),\n",
    "                Rational(M, 2),\n",
    "            ).doit().evalf()\n",
    "        cg = float(cg)\n",
    "        if str(cg) == \"nan\":\n",
    "            raise ValueError(f\"CG({j1/2},{m1/2},{j2/2},{m2/2},{J/2},{M/2}) is not a number\")\n",
    "        return cg\n",
    "    \n",
    "    def helicity_coupling_times_lineshape(self, s, hi_, hj_, convention=\"helicity\"):\n",
    "        ls_resonance_decay = self.LS_coupling_resonance_decay()\n",
    "        pi, pj = self.isobar\n",
    "        h = sum(\n",
    "            ls.coupling * self.lineshape(s, ls.L) * \n",
    "            self.clebsch_gordan(pi.spin, hi_, pj.spin, -hj_, ls.S,hi_ - hj_) * \n",
    "            self.clebsch_gordan(ls.S, hi_ - hj_, ls.L, 0 , self.spin, hi_ - hj_)\n",
    "            for ls in ls_resonance_decay.values()\n",
    "        )\n",
    "        if convention == \"minus_phi\":\n",
    "            # TODO insert phase difference here\n",
    "            pass\n",
    "\n",
    "        return h * (-1)**(pj.spin - hj_)\n",
    "\n",
    "    \n",
    "    \n",
    "    def h_mother(self,hk_, hiso_, convention=\"helicity\") -> float:\n",
    "        \"\"\"\n",
    "        Calculate the helicity amplitude for the mother particle decay.\n",
    "        The phase is (-1)**(pk.spin - hk_) comes as a consequence of the definition of the two particle state.\n",
    "        H = (-1)**(pk.spin - hk_) H_tilde\n",
    "        H_tilde = sum_{ls} coupling_ls * CG(pi.spin, hi_, pj.spin, -hj_, ls.S, hi_ - hj_) * CG(ls.S, hi_ - hj_, ls.L, 0, J, hi_ - hj_)\n",
    "        H_tilde = \n",
    "        \"\"\"\n",
    "        mother_decay = self.LS_couplings_mother_decay()\n",
    "        pk = self.bachelor\n",
    "        h= sum(\n",
    "            ls.coupling *  self.clebsch_gordan(self.spin, hiso_, pk.spin, -hk_, ls.S, hiso_ - hk_) * self.clebsch_gordan(ls.S, hiso_ - hk_, ls.L, 0 , self.mother.spin, hiso_ - hk_)\n",
    "            for ls in mother_decay.values()\n",
    "        ) \n",
    "        \n",
    "        if convention == \"minus_phi\":\n",
    "            # TODO insert phase difference here\n",
    "            pass\n",
    "        \n",
    "        return h* (-1)**(pk.spin - hk_) \n",
    "\n",
    "possible_helicities = lambda spin: list(range(-spin, spin+1, 2))"
   ]
  },
  {
   "cell_type": "markdown",
   "metadata": {},
   "source": [
    "The particle porperites can be fetched directly from the PDG, with the help of the particles project.\n",
    "\n",
    "We go for a decay of $\\Lambda_b \\rightarrow \\Lambda_c^+ \\overline{D}^0 K^-$"
   ]
  },
  {
   "cell_type": "code",
   "execution_count": 82,
   "metadata": {},
   "outputs": [
    {
     "name": "stdout",
     "output_type": "stream",
     "text": [
      "Particle 0: Lambda(b)0 spin: 1 helicities: [-1, 1]\n",
      "Particle 1: D0 spin: 0 helicities: [0]\n",
      "Particle 2: Lambda(c)+ spin: 1 helicities: [-1, 1]\n",
      "Particle 3: K- spin: 0 helicities: [0]\n"
     ]
    }
   ],
   "source": [
    "# shortcut to get the pdg parameters for our particles\n",
    "class particle:\n",
    "    def __init__(self, p):\n",
    "        self.p = p \n",
    "    \n",
    "    @property\n",
    "    def spin(self):\n",
    "        return int(self.p.J * 2)\n",
    "\n",
    "    @property\n",
    "    def parity(self):\n",
    "        return self.p.P\n",
    "\n",
    "    def __getattr__(self, attr):\n",
    "        return getattr(self.p, attr)\n",
    "    \n",
    "    def helicities(self):\n",
    "        return possible_helicities(self.spin)\n",
    "\n",
    "p0 = particle(Particle.findall('Lambda(b)0')[0])\n",
    "p1 = particle(Particle.findall('D0')[0])\n",
    "p2 = particle(Particle.findall('Lambda(c)+')[0])\n",
    "p3 = particle(Particle.findall('K-')[0])\n",
    "\n",
    "particles = {\n",
    "    0: p0,\n",
    "    1: p1,\n",
    "    2: p2,\n",
    "    3: p3\n",
    "}\n",
    "\n",
    "for i in range(4):\n",
    "    print(f\"Particle {i}: {particles[i].name} spin: {particles[i].spin} helicities: {particles[i].helicities()}\")\n"
   ]
  },
  {
   "cell_type": "markdown",
   "metadata": {},
   "source": [
    "Now we have the main components for the amplitude. We can describe the lineshape for as single resonance, we can compute helicity couplings and we can calculate all the angles. Only thing left to do is write the loops for the sums. The final form should look somewhat like this:\n",
    "\n",
    "$\\sum_{\\mathrm{topologys}}\\sum_{\\{\\lambda\\}}\\sum_{\\{\\lambda^{'}\\}} R(m,\\{\\lambda^{'}\\}) d(\\theta, \\lambda_k^{'}, \\lambda_{ij}^{'}) d(\\phi_1,\\lambda^{'}_1,\\lambda_1)d(\\phi_2,\\lambda^{'}_2,\\lambda_2)d(\\phi_3,\\lambda^{'}_3,\\lambda_3)$\n",
    "\n",
    "This simply describes the sum over all different possible decay topologys, and the sum over all possible helicities.\n",
    "A second sum over the primes helicities $\\{\\lambda^{'}\\}$ in conjunction with the wigner rotation $d(\\theta, \\lambda_k^{'}, \\lambda_{ij}^{'})$ describes the needed basis change after the rotation to move the $(ij)$ isobar onto the z axis.\n",
    "\n",
    "The rotations $d(\\phi_1,\\lambda^{'}_1,\\lambda_1)d(\\phi_2,\\lambda^{'}_2,\\lambda_2)d(\\phi_3,\\lambda^{'}_3,\\lambda_3)$ describe the rotations rotating the final states of the different chains to a common constellation.\n",
    "\n",
    "The $R(m,\\{\\lambda^{'}\\})$ is the lineshape of the resonance together with the couplings $H_{0 \\rightarrow (ij)\\, k}^{\\lambda_0, \\lambda_{(ij) }- \\lambda_k} \\cdot X(m,L) \\cdot H_{(ij) \\rightarrow i\\, j}^{\\lambda_{(ij)}, \\lambda_i^{'} - \\lambda_j^{'}}$. \n",
    "The couplings $H$ are called helicity couplings "
   ]
  },
  {
   "cell_type": "code",
   "execution_count": 83,
   "metadata": {},
   "outputs": [
    {
     "name": "stdout",
     "output_type": "stream",
     "text": [
      "WARNING:tensorflow:6 out of the last 6 calls to <function GenParticle._recursive_generate at 0x7f0cf27c4180> triggered tf.function retracing. Tracing is expensive and the excessive number of tracings could be due to (1) creating @tf.function repeatedly in a loop, (2) passing tensors with different shapes, (3) passing Python objects instead of tensors. For (1), please define your @tf.function outside of the loop. For (2), @tf.function has reduce_retracing=True option that can avoid unnecessary retracing. For (3), please refer to https://www.tensorflow.org/guide/function#controlling_retracing and https://www.tensorflow.org/api_docs/python/tf/function for  more details.\n"
     ]
    }
   ],
   "source": [
    "import phasespace as phsp\n",
    "\n",
    "def generate_momenta(n=1_000):\n",
    "    weights, p = phsp.nbody_decay(particles[0].mass, [\n",
    "    particles[1].mass,\n",
    "    particles[2].mass,\n",
    "    particles[3].mass\n",
    "    ]).generate(n, seed=1)\n",
    "\n",
    "\n",
    "    momenta = {\n",
    "        i + 1: np.array(p[f\"p_{i}\"])\n",
    "            for i, _ in enumerate( [1,2,3])\n",
    "    }\n",
    "    return momenta, weights\n",
    "\n",
    "momenta, weights = generate_momenta(1)\n"
   ]
  },
  {
   "cell_type": "markdown",
   "metadata": {},
   "source": [
    "Next we want to define the structure of the amplitude"
   ]
  },
  {
   "cell_type": "code",
   "execution_count": 84,
   "metadata": {},
   "outputs": [],
   "source": [
    "reference_topology = tg.topologies[0]\n",
    "momenta = reference_topology.to_rest_frame(momenta)\n",
    "momenta = reference_topology.align_with_daughter(momenta)\n",
    "\n",
    "# We can define resonances based on the isobar they can appear in \n",
    "resonance_lineshapes = {\n",
    "    (1, 3): [ \n",
    "                resonance(0, 1, 2800, 30, 'D2800', p0, p2, (p1, p3)),\n",
    "                # resonance(1, 1, 2800, 80, 'D2800', p0, p2, (p1, p3)) \n",
    "            ], \n",
    "    (2 ,3): [\n",
    "                resonance(1, -1, 2900, 20, 'Xi_c', p0, p1, (p2, p3)),\n",
    "                resonance(3, -1, 3200, 20, 'Xi_c2', p0, p1, (p2, p3)),\n",
    "                # resonance(5, -1, 3600, 20, 'Xi_c2', p0, p1, (p2, p3)),\n",
    "                # resonance(5, -1, 3500, 20, 'Xi_c2', p0, p1, (p2, p3)),\n",
    "                # resonance(5, -1, 3100, 20, 'Xi_c2', p0, p1, (p2, p3)),\n",
    "\n",
    "            ]   \n",
    "    }"
   ]
  },
  {
   "cell_type": "markdown",
   "metadata": {},
   "source": [
    "Now we need to get the values for our rotations. For this we can simply iterate through all the possible decay topologys, the ```TopologyCollection``` Object generates for us."
   ]
  },
  {
   "cell_type": "code",
   "execution_count": 85,
   "metadata": {},
   "outputs": [],
   "source": [
    "for topology in tg.topologies:\n",
    "        final_state_rotations = reference_topology.relative_wigner_angles(topology, momenta)\n",
    "        isobars = topology.helicity_angles(momenta)\n",
    "\n",
    "topo = tg.topologies[0]\n",
    "h = topo.helicity_angles(momenta)"
   ]
  },
  {
   "cell_type": "markdown",
   "metadata": {},
   "source": [
    "For each topology, we see, that we get exactly one isobar constellation. We also see, that of the two angles we compute, only one is non 0 (or $\\pi$).\n",
    "\n",
    "This is expected, as we are already in the decay plane. Thus this angle should go to 0. Computing it could be left out."
   ]
  },
  {
   "cell_type": "code",
   "execution_count": 86,
   "metadata": {},
   "outputs": [],
   "source": [
    "from functools import partial\n",
    "\n",
    "# particle 1 \n",
    "spin1 = p1.spin\n",
    "helicities1 = possible_helicities(spin1)\n",
    "\n",
    "# particle 2\n",
    "spin2 = p2.spin\n",
    "helicities2 = possible_helicities(spin2)\n",
    "\n",
    "# particle 3\n",
    "spin3 = p3.spin\n",
    "helicities3 = possible_helicities(spin3)\n",
    "\n",
    "spin0 = p0.spin\n",
    "helicities0 = possible_helicities(spin0)\n",
    "\n",
    "# precompute the angles\n",
    "final_state_rotations = {\n",
    "    topology.tuple: reference_topology.relative_wigner_angles(topology, momenta)\n",
    "    for topology in tg.topologies\n",
    "}\n",
    "helicity_angles = {\n",
    "    topology.tuple: topology.helicity_angles(momenta)\n",
    "    for topology in tg.topologies\n",
    "}\n",
    "\n",
    "def f(h0, h1, h2, h3, resonance_lineshapes=resonance_lineshapes):\n",
    "    helicity_list = [h0, h1, h2, h3]\n",
    "    spin_list = [spin0, spin1, spin2, spin3]\n",
    "    amplitude = 0\n",
    "    for topology in tg.topologies:\n",
    "        final_state_rotation = final_state_rotations[topology.tuple]\n",
    "        isobars = helicity_angles[topology.tuple]\n",
    "        for (isobar, bachelor), (phi, theta) in isobars.items():\n",
    "            if isobar not in resonance_lineshapes:\n",
    "                # guard clause against key errors\n",
    "                continue\n",
    "            # determinethe correct helicities\n",
    "            (i,j), k = isobar, bachelor\n",
    "            hi ,hj, hk = helicity_list[i], helicity_list[j], helicity_list[k]\n",
    "            si, sj, sk = spin_list[i], spin_list[j], spin_list[k]\n",
    "            \n",
    "            theta_ij = isobars[isobar].theta_rf\n",
    "            phi_ij = isobars[isobar].phi_rf\n",
    "\n",
    "            amplitude += sum(\n",
    "                resonance.helicity_coupling_times_lineshape(topology.nodes[isobar].mass(momenta)**2,hi_, hj_) * \n",
    "                wigner_capital_d(phi, theta, 0 ,spin0, h0,  h_iso - hk_) * # mother decay\n",
    "                wigner_capital_d(phi_ij, theta_ij, 0, resonance.spin, h_iso,hi_-hj)* # isobar decay\n",
    "                wigner_capital_d(*final_state_rotation[i], si, hi, hi_) * \n",
    "                wigner_capital_d(*final_state_rotation[j], sj, hj, hj_) * \n",
    "                wigner_capital_d(*final_state_rotation[k], sk, hk, hk_) * \n",
    "                resonance.h_mother(hk_, h_iso)\n",
    "                for resonance in resonance_lineshapes.get(isobar, [])\n",
    "                for h_iso in resonance.possible_helicities\n",
    "                for hk_ in particles[bachelor].helicities()\n",
    "                for hi_ in particles[i].helicities()\n",
    "                for hj_ in particles[j].helicities()\n",
    "            )\n",
    "    return amplitude\n"
   ]
  },
  {
   "cell_type": "code",
   "execution_count": 87,
   "metadata": {},
   "outputs": [],
   "source": [
    "# precompute the angles\n",
    "final_state_rotations_minus_phi = {\n",
    "    topology.tuple: reference_topology.relative_wigner_angles(topology, momenta, convention='minus_phi')\n",
    "    for topology in tg.topologies\n",
    "}\n",
    "helicity_angles_minus_phi = {\n",
    "    topology.tuple: topology.helicity_angles(momenta, convention='minus_phi')\n",
    "    for topology in tg.topologies\n",
    "}\n",
    "\n",
    "def f_minus_phi(h0, h1, h2, h3, resonance_lineshapes=resonance_lineshapes):\n",
    "    helicity_list = [h0, h1, h2, h3]\n",
    "    spin_list = [spin0, spin1, spin2, spin3]\n",
    "    amplitude = 0\n",
    "    for topology in tg.topologies:\n",
    "        final_state_rotation = final_state_rotations_minus_phi[topology.tuple]\n",
    "        isobars = helicity_angles_minus_phi[topology.tuple]\n",
    "        for (isobar, bachelor), (phi, theta) in isobars.items():\n",
    "            if isobar not in resonance_lineshapes:\n",
    "                # guard clause against key errors\n",
    "                continue\n",
    "            # determinethe correct helicities\n",
    "            (i,j), k = isobar, bachelor\n",
    "            hi ,hj, hk = helicity_list[i], helicity_list[j], helicity_list[k]\n",
    "            si, sj, sk = spin_list[i], spin_list[j], spin_list[k]\n",
    "            \n",
    "            theta_ij = isobars[isobar].theta_rf\n",
    "            phi_ij = isobars[isobar].phi_rf\n",
    "\n",
    "            amplitude += sum(\n",
    "                resonance.helicity_coupling_times_lineshape(topology.nodes[isobar].mass(momenta)**2,hi_, hj_, convention=\"minus_phi\") * \n",
    "                wigner_capital_d(phi, theta, -phi ,spin0, h0,  h_iso - hk_) * # mother decay\n",
    "                wigner_capital_d(phi_ij, theta_ij, -phi_ij, resonance.spin, h_iso,hi_-hj_)* # isobar decay\n",
    "                wigner_capital_d(*final_state_rotation[i], si, hi, hi_) * \n",
    "                wigner_capital_d(*final_state_rotation[j], sj, hj, hj_) * \n",
    "                wigner_capital_d(*final_state_rotation[k], sk, hk, hk_) * \n",
    "                resonance.h_mother(hk_, h_iso,convention=\"minus_phi\")\n",
    "                for resonance in resonance_lineshapes.get(isobar, [])\n",
    "                for h_iso in resonance.possible_helicities\n",
    "                for hk_ in particles[bachelor].helicities()\n",
    "                for hi_ in particles[i].helicities()\n",
    "                for hj_ in particles[j].helicities()\n",
    "            )\n",
    "    return amplitude\n"
   ]
  },
  {
   "cell_type": "code",
   "execution_count": 88,
   "metadata": {},
   "outputs": [],
   "source": [
    "import matplotlib.pyplot as plt\n",
    "from decayangle.kinematics import mass_squared\n",
    "\n",
    "m2_12 = mass_squared(momenta[1] + momenta[2])**0.5\n",
    "m2_13 = mass_squared(momenta[1] + momenta[3])**0.5\n",
    "m2_23 = mass_squared(momenta[2] + momenta[3])**0.5\n"
   ]
  },
  {
   "cell_type": "code",
   "execution_count": 93,
   "metadata": {},
   "outputs": [
    {
     "name": "stdout",
     "output_type": "stream",
     "text": [
      "Single Channel [1.] [5.32759036e-05] [5.32759036e-05]\n",
      "Multiple Channel [1.] [4.40282274e-05] [4.40282274e-05]\n"
     ]
    }
   ],
   "source": [
    "resonance_lineshapes_1 = {\n",
    "    (1, 3): [ \n",
    "                # resonance(0, 1, 2800, 30, 'D2800', p0, p2, (p1, p3)),\n",
    "                # resonance(1, 1, 2800, 80, 'D2800', p0, p2, (p1, p3)) \n",
    "            ], \n",
    "    (2 ,3): [\n",
    "                resonance(1, -1, 2900, 20, 'Xi_c', p0, p1, (p2, p3)),\n",
    "                resonance(3, -1, 3200, 20, 'Xi_c2', p0, p1, (p2, p3)),\n",
    "                resonance(5, -1, 3600, 20, 'Xi_c2', p0, p1, (p2, p3)),\n",
    "                resonance(5, -1, 3500, 20, 'Xi_c2', p0, p1, (p2, p3)),\n",
    "                resonance(5, -1, 3100, 20, 'Xi_c2', p0, p1, (p2, p3)),\n",
    "\n",
    "            ]   \n",
    "    }\n",
    "\n",
    "resonance_lineshapes_2 = {\n",
    "    (1, 3): [ \n",
    "                resonance(0, 1, 2800, 30, 'D2800', p0, p2, (p1, p3)),\n",
    "                resonance(2, 1, 2800, 80, 'D2800', p0, p2, (p1, p3)) ,\n",
    "                resonance(2, 1, 2850, 80, 'D2800', p0, p2, (p1, p3)) ,\n",
    "                resonance(0, 1, 2800, 80, 'D2800', p0, p2, (p1, p3)) ,\n",
    "                resonance(2, 1, 2800, 80, 'D2800', p0, p2, (p1, p3)) ,\n",
    "\n",
    "\n",
    "            ], \n",
    "    (2 ,3): [\n",
    "                resonance(1, -1, 2900, 30, 'Xi_c', p0, p1, (p2, p3)),\n",
    "                resonance(3, -1, 3200, 60, 'Xi_c2', p0, p1, (p2, p3)),\n",
    "                resonance(5, -1, 3600, 40, 'Xi_c2', p0, p1, (p2, p3)),\n",
    "                resonance(5, -1, 3500, 60, 'Xi_c2', p0, p1, (p2, p3)),\n",
    "                resonance(5, -1, 3100, 20, 'Xi_c2', p0, p1, (p2, p3)),\n",
    "\n",
    "            ]   \n",
    "    }\n",
    "\n",
    "\n",
    "def unpolarized(f, resonances):\n",
    "    return sum(\n",
    "        abs(f(l1, l2, l3, l4, resonance_lineshapes=resonances))**2\n",
    "        for l1 in helicities0\n",
    "        for l2 in helicities1\n",
    "        for l3 in helicities2\n",
    "        for l4 in helicities3\n",
    "    )\n",
    "a2_1 = unpolarized(f, resonance_lineshapes_1)\n",
    "a2_2 = unpolarized(f_minus_phi, resonance_lineshapes_1)\n",
    "print(\"Single Channel\",a2_1/a2_2, a2_1, a2_2)\n",
    "\n",
    "\n",
    "a1_1 = unpolarized(f, resonance_lineshapes_2)\n",
    "a1_2 = unpolarized(f_minus_phi, resonance_lineshapes_2)\n",
    "\n",
    "print(\"Multiple Channel\", a1_1/a1_2, a1_1, a1_2)"
   ]
  },
  {
   "cell_type": "code",
   "execution_count": 90,
   "metadata": {},
   "outputs": [
    {
     "name": "stdout",
     "output_type": "stream",
     "text": [
      "(1, 3)\n",
      "D2800 S=0 P1\n",
      "Lambda(b)0 -> (D2800 -> D0 K-) Lambda(c)+\n",
      "Mother decay\n",
      "D2800:motherDecay:L0.S1 LSCoupling(L=0, S=1, coupling=(1+0j))\n",
      "D2800:motherDecay:L2.S1 LSCoupling(L=2, S=1, coupling=(1+0j))\n",
      "Isobar decay\n",
      "D2800:resonanceDecay:L0.S0 LSCoupling(L=0, S=0, coupling=(1+0j))\n",
      "(2, 3)\n",
      "Xi_c S=1 P-1\n",
      "Lambda(b)0 -> (Xi_c -> Lambda(c)+ K-) D0\n",
      "Mother decay\n",
      "Xi_c:motherDecay:L0.S1 LSCoupling(L=0, S=1, coupling=(1+0j))\n",
      "Xi_c:motherDecay:L2.S1 LSCoupling(L=2, S=1, coupling=(1+0j))\n",
      "Isobar decay\n",
      "Xi_c:resonanceDecay:L0.S1 LSCoupling(L=0, S=1, coupling=(1+0j))\n",
      "Xi_c:resonanceDecay:L2.S1 LSCoupling(L=2, S=1, coupling=(1+0j))\n"
     ]
    }
   ],
   "source": [
    "\n",
    "for k,v in resonance_lineshapes_2.items():\n",
    "    print(k)\n",
    "    for r in v:\n",
    "        print(f\"{r.name} S={r.spin} P{r.parity}\")\n",
    "        print(f\"{r.mother.name} -> ({r.name} -> {r.isobar[0].name} {r.isobar[1].name}) {r.bachelor.name}\")\n",
    "        print(\"Mother decay\")\n",
    "        for key, value in r.LS_couplings_mother_decay().items():\n",
    "            print(key, value)\n",
    "        print(\"Isobar decay\")\n",
    "        for key, value in r.LS_coupling_resonance_decay().items():\n",
    "            print(key, value)"
   ]
  },
  {
   "cell_type": "code",
   "execution_count": 91,
   "metadata": {},
   "outputs": [
    {
     "name": "stderr",
     "output_type": "stream",
     "text": [
      "/tmp/ipykernel_54572/274469970.py:2: RuntimeWarning: invalid value encountered in divide\n",
      "  a= plt.hist2d(m2_12, m2_23, bins=100, weights=a1/ a2 *weights, norm=LogNorm())\n"
     ]
    },
    {
     "ename": "ValueError",
     "evalue": "Invalid vmin or vmax",
     "output_type": "error",
     "traceback": [
      "\u001b[0;31m---------------------------------------------------------------------------\u001b[0m",
      "\u001b[0;31mValueError\u001b[0m                                Traceback (most recent call last)",
      "\u001b[1;32m/home/kai/Proects/decayangle/notebooks/decay_example.ipynb Cell 21\u001b[0m line \u001b[0;36m3\n\u001b[1;32m      <a href='vscode-notebook-cell:/home/kai/Proects/decayangle/notebooks/decay_example.ipynb#Y405sZmlsZQ%3D%3D?line=0'>1</a>\u001b[0m \u001b[39mfrom\u001b[39;00m \u001b[39mmatplotlib\u001b[39;00m\u001b[39m.\u001b[39;00m\u001b[39mcolors\u001b[39;00m \u001b[39mimport\u001b[39;00m LogNorm\n\u001b[1;32m      <a href='vscode-notebook-cell:/home/kai/Proects/decayangle/notebooks/decay_example.ipynb#Y405sZmlsZQ%3D%3D?line=1'>2</a>\u001b[0m a\u001b[39m=\u001b[39m plt\u001b[39m.\u001b[39mhist2d(m2_12, m2_23, bins\u001b[39m=\u001b[39m\u001b[39m100\u001b[39m, weights\u001b[39m=\u001b[39ma1\u001b[39m/\u001b[39m a2 \u001b[39m*\u001b[39mweights, norm\u001b[39m=\u001b[39mLogNorm())\n\u001b[0;32m----> <a href='vscode-notebook-cell:/home/kai/Proects/decayangle/notebooks/decay_example.ipynb#Y405sZmlsZQ%3D%3D?line=2'>3</a>\u001b[0m plt\u001b[39m.\u001b[39;49mcolorbar()\n\u001b[1;32m      <a href='vscode-notebook-cell:/home/kai/Proects/decayangle/notebooks/decay_example.ipynb#Y405sZmlsZQ%3D%3D?line=3'>4</a>\u001b[0m plt\u001b[39m.\u001b[39mylabel(\u001b[39mr\u001b[39m\u001b[39m\"\u001b[39m\u001b[39m$M(\u001b[39m\u001b[39m\\\u001b[39m\u001b[39mLambda_c\u001b[39m\u001b[39m\\\u001b[39m\u001b[39m, K)$\u001b[39m\u001b[39m\"\u001b[39m)\n\u001b[1;32m      <a href='vscode-notebook-cell:/home/kai/Proects/decayangle/notebooks/decay_example.ipynb#Y405sZmlsZQ%3D%3D?line=4'>5</a>\u001b[0m plt\u001b[39m.\u001b[39mxlabel(\u001b[39mr\u001b[39m\u001b[39m\"\u001b[39m\u001b[39m$M(\u001b[39m\u001b[39m\\\u001b[39m\u001b[39mLambda_c \u001b[39m\u001b[39m\\\u001b[39m\u001b[39m,D^0)$\u001b[39m\u001b[39m\"\u001b[39m)\n",
      "File \u001b[0;32m~/Envs/decayangle_dev/lib/python3.12/site-packages/matplotlib/pyplot.py:2516\u001b[0m, in \u001b[0;36mcolorbar\u001b[0;34m(mappable, cax, ax, **kwargs)\u001b[0m\n\u001b[1;32m   2511\u001b[0m     \u001b[39mif\u001b[39;00m mappable \u001b[39mis\u001b[39;00m \u001b[39mNone\u001b[39;00m:\n\u001b[1;32m   2512\u001b[0m         \u001b[39mraise\u001b[39;00m \u001b[39mRuntimeError\u001b[39;00m(\u001b[39m'\u001b[39m\u001b[39mNo mappable was found to use for colorbar \u001b[39m\u001b[39m'\u001b[39m\n\u001b[1;32m   2513\u001b[0m                            \u001b[39m'\u001b[39m\u001b[39mcreation. First define a mappable such as \u001b[39m\u001b[39m'\u001b[39m\n\u001b[1;32m   2514\u001b[0m                            \u001b[39m'\u001b[39m\u001b[39man image (with imshow) or a contour set (\u001b[39m\u001b[39m'\u001b[39m\n\u001b[1;32m   2515\u001b[0m                            \u001b[39m'\u001b[39m\u001b[39mwith contourf).\u001b[39m\u001b[39m'\u001b[39m)\n\u001b[0;32m-> 2516\u001b[0m ret \u001b[39m=\u001b[39m gcf()\u001b[39m.\u001b[39;49mcolorbar(mappable, cax\u001b[39m=\u001b[39;49mcax, ax\u001b[39m=\u001b[39;49max, \u001b[39m*\u001b[39;49m\u001b[39m*\u001b[39;49mkwargs)\n\u001b[1;32m   2517\u001b[0m \u001b[39mreturn\u001b[39;00m ret\n",
      "File \u001b[0;32m~/Envs/decayangle_dev/lib/python3.12/site-packages/matplotlib/figure.py:1253\u001b[0m, in \u001b[0;36mFigureBase.colorbar\u001b[0;34m(self, mappable, cax, ax, use_gridspec, **kwargs)\u001b[0m\n\u001b[1;32m   1245\u001b[0m         _api\u001b[39m.\u001b[39mwarn_external(\n\u001b[1;32m   1246\u001b[0m                 \u001b[39mf\u001b[39m\u001b[39m'\u001b[39m\u001b[39mAdding colorbar to a different Figure \u001b[39m\u001b[39m'\u001b[39m\n\u001b[1;32m   1247\u001b[0m                 \u001b[39mf\u001b[39m\u001b[39m'\u001b[39m\u001b[39m{\u001b[39;00m\u001b[39mrepr\u001b[39m(mappable\u001b[39m.\u001b[39mfigure)\u001b[39m}\u001b[39;00m\u001b[39m than \u001b[39m\u001b[39m'\u001b[39m\n\u001b[1;32m   1248\u001b[0m                 \u001b[39mf\u001b[39m\u001b[39m'\u001b[39m\u001b[39m{\u001b[39;00m\u001b[39mrepr\u001b[39m(\u001b[39mself\u001b[39m\u001b[39m.\u001b[39mfigure)\u001b[39m}\u001b[39;00m\u001b[39m which \u001b[39m\u001b[39m'\u001b[39m\n\u001b[1;32m   1249\u001b[0m                 \u001b[39mf\u001b[39m\u001b[39m'\u001b[39m\u001b[39mfig.colorbar is called on.\u001b[39m\u001b[39m'\u001b[39m)\n\u001b[1;32m   1251\u001b[0m NON_COLORBAR_KEYS \u001b[39m=\u001b[39m [  \u001b[39m# remove kws that cannot be passed to Colorbar\u001b[39;00m\n\u001b[1;32m   1252\u001b[0m     \u001b[39m'\u001b[39m\u001b[39mfraction\u001b[39m\u001b[39m'\u001b[39m, \u001b[39m'\u001b[39m\u001b[39mpad\u001b[39m\u001b[39m'\u001b[39m, \u001b[39m'\u001b[39m\u001b[39mshrink\u001b[39m\u001b[39m'\u001b[39m, \u001b[39m'\u001b[39m\u001b[39maspect\u001b[39m\u001b[39m'\u001b[39m, \u001b[39m'\u001b[39m\u001b[39manchor\u001b[39m\u001b[39m'\u001b[39m, \u001b[39m'\u001b[39m\u001b[39mpanchor\u001b[39m\u001b[39m'\u001b[39m]\n\u001b[0;32m-> 1253\u001b[0m cb \u001b[39m=\u001b[39m cbar\u001b[39m.\u001b[39;49mColorbar(cax, mappable, \u001b[39m*\u001b[39;49m\u001b[39m*\u001b[39;49m{\n\u001b[1;32m   1254\u001b[0m     k: v \u001b[39mfor\u001b[39;49;00m k, v \u001b[39min\u001b[39;49;00m kwargs\u001b[39m.\u001b[39;49mitems() \u001b[39mif\u001b[39;49;00m k \u001b[39mnot\u001b[39;49;00m \u001b[39min\u001b[39;49;00m NON_COLORBAR_KEYS})\n\u001b[1;32m   1255\u001b[0m cax\u001b[39m.\u001b[39mfigure\u001b[39m.\u001b[39mstale \u001b[39m=\u001b[39m \u001b[39mTrue\u001b[39;00m\n\u001b[1;32m   1256\u001b[0m \u001b[39mreturn\u001b[39;00m cb\n",
      "File \u001b[0;32m~/Envs/decayangle_dev/lib/python3.12/site-packages/matplotlib/colorbar.py:391\u001b[0m, in \u001b[0;36mColorbar.__init__\u001b[0;34m(self, ax, mappable, cmap, norm, alpha, values, boundaries, orientation, ticklocation, extend, spacing, ticks, format, drawedges, extendfrac, extendrect, label, location)\u001b[0m\n\u001b[1;32m    388\u001b[0m \u001b[39mself\u001b[39m\u001b[39m.\u001b[39mticklocation \u001b[39m=\u001b[39m ticklocation\n\u001b[1;32m    390\u001b[0m \u001b[39mself\u001b[39m\u001b[39m.\u001b[39mset_label(label)\n\u001b[0;32m--> 391\u001b[0m \u001b[39mself\u001b[39;49m\u001b[39m.\u001b[39;49m_reset_locator_formatter_scale()\n\u001b[1;32m    393\u001b[0m \u001b[39mif\u001b[39;00m np\u001b[39m.\u001b[39miterable(ticks):\n\u001b[1;32m    394\u001b[0m     \u001b[39mself\u001b[39m\u001b[39m.\u001b[39m_locator \u001b[39m=\u001b[39m ticker\u001b[39m.\u001b[39mFixedLocator(ticks, nbins\u001b[39m=\u001b[39m\u001b[39mlen\u001b[39m(ticks))\n",
      "File \u001b[0;32m~/Envs/decayangle_dev/lib/python3.12/site-packages/matplotlib/colorbar.py:1153\u001b[0m, in \u001b[0;36mColorbar._reset_locator_formatter_scale\u001b[0;34m(self)\u001b[0m\n\u001b[1;32m   1147\u001b[0m \u001b[39mdef\u001b[39;00m \u001b[39m_reset_locator_formatter_scale\u001b[39m(\u001b[39mself\u001b[39m):\n\u001b[1;32m   1148\u001b[0m \u001b[39m    \u001b[39m\u001b[39m\"\"\"\u001b[39;00m\n\u001b[1;32m   1149\u001b[0m \u001b[39m    Reset the locator et al to defaults.  Any user-hardcoded changes\u001b[39;00m\n\u001b[1;32m   1150\u001b[0m \u001b[39m    need to be re-entered if this gets called (either at init, or when\u001b[39;00m\n\u001b[1;32m   1151\u001b[0m \u001b[39m    the mappable normal gets changed: Colorbar.update_normal)\u001b[39;00m\n\u001b[1;32m   1152\u001b[0m \u001b[39m    \"\"\"\u001b[39;00m\n\u001b[0;32m-> 1153\u001b[0m     \u001b[39mself\u001b[39;49m\u001b[39m.\u001b[39;49m_process_values()\n\u001b[1;32m   1154\u001b[0m     \u001b[39mself\u001b[39m\u001b[39m.\u001b[39m_locator \u001b[39m=\u001b[39m \u001b[39mNone\u001b[39;00m\n\u001b[1;32m   1155\u001b[0m     \u001b[39mself\u001b[39m\u001b[39m.\u001b[39m_minorlocator \u001b[39m=\u001b[39m \u001b[39mNone\u001b[39;00m\n",
      "File \u001b[0;32m~/Envs/decayangle_dev/lib/python3.12/site-packages/matplotlib/colorbar.py:1087\u001b[0m, in \u001b[0;36mColorbar._process_values\u001b[0;34m(self)\u001b[0m\n\u001b[1;32m   1085\u001b[0m     \u001b[39mself\u001b[39m\u001b[39m.\u001b[39mnorm\u001b[39m.\u001b[39mvmin \u001b[39m=\u001b[39m \u001b[39m0\u001b[39m\n\u001b[1;32m   1086\u001b[0m     \u001b[39mself\u001b[39m\u001b[39m.\u001b[39mnorm\u001b[39m.\u001b[39mvmax \u001b[39m=\u001b[39m \u001b[39m1\u001b[39m\n\u001b[0;32m-> 1087\u001b[0m \u001b[39mself\u001b[39;49m\u001b[39m.\u001b[39;49mnorm\u001b[39m.\u001b[39;49mvmin, \u001b[39mself\u001b[39m\u001b[39m.\u001b[39mnorm\u001b[39m.\u001b[39mvmax \u001b[39m=\u001b[39m mtransforms\u001b[39m.\u001b[39mnonsingular(\n\u001b[1;32m   1088\u001b[0m     \u001b[39mself\u001b[39m\u001b[39m.\u001b[39mnorm\u001b[39m.\u001b[39mvmin, \u001b[39mself\u001b[39m\u001b[39m.\u001b[39mnorm\u001b[39m.\u001b[39mvmax, expander\u001b[39m=\u001b[39m\u001b[39m0.1\u001b[39m)\n\u001b[1;32m   1089\u001b[0m \u001b[39mif\u001b[39;00m (\u001b[39mnot\u001b[39;00m \u001b[39misinstance\u001b[39m(\u001b[39mself\u001b[39m\u001b[39m.\u001b[39mnorm, colors\u001b[39m.\u001b[39mBoundaryNorm) \u001b[39mand\u001b[39;00m\n\u001b[1;32m   1090\u001b[0m         (\u001b[39mself\u001b[39m\u001b[39m.\u001b[39mboundaries \u001b[39mis\u001b[39;00m \u001b[39mNone\u001b[39;00m)):\n\u001b[1;32m   1091\u001b[0m     b \u001b[39m=\u001b[39m \u001b[39mself\u001b[39m\u001b[39m.\u001b[39mnorm\u001b[39m.\u001b[39minverse(b)\n",
      "File \u001b[0;32m~/Envs/decayangle_dev/lib/python3.12/site-packages/matplotlib/colors.py:1293\u001b[0m, in \u001b[0;36mNormalize.vmin\u001b[0;34m(self, value)\u001b[0m\n\u001b[1;32m   1291\u001b[0m \u001b[39mif\u001b[39;00m value \u001b[39m!=\u001b[39m \u001b[39mself\u001b[39m\u001b[39m.\u001b[39m_vmin:\n\u001b[1;32m   1292\u001b[0m     \u001b[39mself\u001b[39m\u001b[39m.\u001b[39m_vmin \u001b[39m=\u001b[39m value\n\u001b[0;32m-> 1293\u001b[0m     \u001b[39mself\u001b[39;49m\u001b[39m.\u001b[39;49m_changed()\n",
      "File \u001b[0;32m~/Envs/decayangle_dev/lib/python3.12/site-packages/matplotlib/colors.py:1321\u001b[0m, in \u001b[0;36mNormalize._changed\u001b[0;34m(self)\u001b[0m\n\u001b[1;32m   1316\u001b[0m \u001b[39mdef\u001b[39;00m \u001b[39m_changed\u001b[39m(\u001b[39mself\u001b[39m):\n\u001b[1;32m   1317\u001b[0m \u001b[39m    \u001b[39m\u001b[39m\"\"\"\u001b[39;00m\n\u001b[1;32m   1318\u001b[0m \u001b[39m    Call this whenever the norm is changed to notify all the\u001b[39;00m\n\u001b[1;32m   1319\u001b[0m \u001b[39m    callback listeners to the 'changed' signal.\u001b[39;00m\n\u001b[1;32m   1320\u001b[0m \u001b[39m    \"\"\"\u001b[39;00m\n\u001b[0;32m-> 1321\u001b[0m     \u001b[39mself\u001b[39;49m\u001b[39m.\u001b[39;49mcallbacks\u001b[39m.\u001b[39;49mprocess(\u001b[39m'\u001b[39;49m\u001b[39mchanged\u001b[39;49m\u001b[39m'\u001b[39;49m)\n",
      "File \u001b[0;32m~/Envs/decayangle_dev/lib/python3.12/site-packages/matplotlib/cbook.py:303\u001b[0m, in \u001b[0;36mCallbackRegistry.process\u001b[0;34m(self, s, *args, **kwargs)\u001b[0m\n\u001b[1;32m    301\u001b[0m \u001b[39mexcept\u001b[39;00m \u001b[39mException\u001b[39;00m \u001b[39mas\u001b[39;00m exc:\n\u001b[1;32m    302\u001b[0m     \u001b[39mif\u001b[39;00m \u001b[39mself\u001b[39m\u001b[39m.\u001b[39mexception_handler \u001b[39mis\u001b[39;00m \u001b[39mnot\u001b[39;00m \u001b[39mNone\u001b[39;00m:\n\u001b[0;32m--> 303\u001b[0m         \u001b[39mself\u001b[39;49m\u001b[39m.\u001b[39;49mexception_handler(exc)\n\u001b[1;32m    304\u001b[0m     \u001b[39melse\u001b[39;00m:\n\u001b[1;32m    305\u001b[0m         \u001b[39mraise\u001b[39;00m\n",
      "File \u001b[0;32m~/Envs/decayangle_dev/lib/python3.12/site-packages/matplotlib/cbook.py:87\u001b[0m, in \u001b[0;36m_exception_printer\u001b[0;34m(exc)\u001b[0m\n\u001b[1;32m     85\u001b[0m \u001b[39mdef\u001b[39;00m \u001b[39m_exception_printer\u001b[39m(exc):\n\u001b[1;32m     86\u001b[0m     \u001b[39mif\u001b[39;00m _get_running_interactive_framework() \u001b[39min\u001b[39;00m [\u001b[39m\"\u001b[39m\u001b[39mheadless\u001b[39m\u001b[39m\"\u001b[39m, \u001b[39mNone\u001b[39;00m]:\n\u001b[0;32m---> 87\u001b[0m         \u001b[39mraise\u001b[39;00m exc\n\u001b[1;32m     88\u001b[0m     \u001b[39melse\u001b[39;00m:\n\u001b[1;32m     89\u001b[0m         traceback\u001b[39m.\u001b[39mprint_exc()\n",
      "File \u001b[0;32m~/Envs/decayangle_dev/lib/python3.12/site-packages/matplotlib/cbook.py:298\u001b[0m, in \u001b[0;36mCallbackRegistry.process\u001b[0;34m(self, s, *args, **kwargs)\u001b[0m\n\u001b[1;32m    296\u001b[0m \u001b[39mif\u001b[39;00m func \u001b[39mis\u001b[39;00m \u001b[39mnot\u001b[39;00m \u001b[39mNone\u001b[39;00m:\n\u001b[1;32m    297\u001b[0m     \u001b[39mtry\u001b[39;00m:\n\u001b[0;32m--> 298\u001b[0m         func(\u001b[39m*\u001b[39;49margs, \u001b[39m*\u001b[39;49m\u001b[39m*\u001b[39;49mkwargs)\n\u001b[1;32m    299\u001b[0m     \u001b[39m# this does not capture KeyboardInterrupt, SystemExit,\u001b[39;00m\n\u001b[1;32m    300\u001b[0m     \u001b[39m# and GeneratorExit\u001b[39;00m\n\u001b[1;32m    301\u001b[0m     \u001b[39mexcept\u001b[39;00m \u001b[39mException\u001b[39;00m \u001b[39mas\u001b[39;00m exc:\n",
      "File \u001b[0;32m~/Envs/decayangle_dev/lib/python3.12/site-packages/matplotlib/cm.py:604\u001b[0m, in \u001b[0;36mScalarMappable.changed\u001b[0;34m(self)\u001b[0m\n\u001b[1;32m    599\u001b[0m \u001b[39mdef\u001b[39;00m \u001b[39mchanged\u001b[39m(\u001b[39mself\u001b[39m):\n\u001b[1;32m    600\u001b[0m \u001b[39m    \u001b[39m\u001b[39m\"\"\"\u001b[39;00m\n\u001b[1;32m    601\u001b[0m \u001b[39m    Call this whenever the mappable is changed to notify all the\u001b[39;00m\n\u001b[1;32m    602\u001b[0m \u001b[39m    callbackSM listeners to the 'changed' signal.\u001b[39;00m\n\u001b[1;32m    603\u001b[0m \u001b[39m    \"\"\"\u001b[39;00m\n\u001b[0;32m--> 604\u001b[0m     \u001b[39mself\u001b[39;49m\u001b[39m.\u001b[39;49mcallbacks\u001b[39m.\u001b[39;49mprocess(\u001b[39m'\u001b[39;49m\u001b[39mchanged\u001b[39;49m\u001b[39m'\u001b[39;49m, \u001b[39mself\u001b[39;49m)\n\u001b[1;32m    605\u001b[0m     \u001b[39mself\u001b[39m\u001b[39m.\u001b[39mstale \u001b[39m=\u001b[39m \u001b[39mTrue\u001b[39;00m\n",
      "File \u001b[0;32m~/Envs/decayangle_dev/lib/python3.12/site-packages/matplotlib/cbook.py:303\u001b[0m, in \u001b[0;36mCallbackRegistry.process\u001b[0;34m(self, s, *args, **kwargs)\u001b[0m\n\u001b[1;32m    301\u001b[0m \u001b[39mexcept\u001b[39;00m \u001b[39mException\u001b[39;00m \u001b[39mas\u001b[39;00m exc:\n\u001b[1;32m    302\u001b[0m     \u001b[39mif\u001b[39;00m \u001b[39mself\u001b[39m\u001b[39m.\u001b[39mexception_handler \u001b[39mis\u001b[39;00m \u001b[39mnot\u001b[39;00m \u001b[39mNone\u001b[39;00m:\n\u001b[0;32m--> 303\u001b[0m         \u001b[39mself\u001b[39;49m\u001b[39m.\u001b[39;49mexception_handler(exc)\n\u001b[1;32m    304\u001b[0m     \u001b[39melse\u001b[39;00m:\n\u001b[1;32m    305\u001b[0m         \u001b[39mraise\u001b[39;00m\n",
      "File \u001b[0;32m~/Envs/decayangle_dev/lib/python3.12/site-packages/matplotlib/cbook.py:87\u001b[0m, in \u001b[0;36m_exception_printer\u001b[0;34m(exc)\u001b[0m\n\u001b[1;32m     85\u001b[0m \u001b[39mdef\u001b[39;00m \u001b[39m_exception_printer\u001b[39m(exc):\n\u001b[1;32m     86\u001b[0m     \u001b[39mif\u001b[39;00m _get_running_interactive_framework() \u001b[39min\u001b[39;00m [\u001b[39m\"\u001b[39m\u001b[39mheadless\u001b[39m\u001b[39m\"\u001b[39m, \u001b[39mNone\u001b[39;00m]:\n\u001b[0;32m---> 87\u001b[0m         \u001b[39mraise\u001b[39;00m exc\n\u001b[1;32m     88\u001b[0m     \u001b[39melse\u001b[39;00m:\n\u001b[1;32m     89\u001b[0m         traceback\u001b[39m.\u001b[39mprint_exc()\n",
      "File \u001b[0;32m~/Envs/decayangle_dev/lib/python3.12/site-packages/matplotlib/cbook.py:298\u001b[0m, in \u001b[0;36mCallbackRegistry.process\u001b[0;34m(self, s, *args, **kwargs)\u001b[0m\n\u001b[1;32m    296\u001b[0m \u001b[39mif\u001b[39;00m func \u001b[39mis\u001b[39;00m \u001b[39mnot\u001b[39;00m \u001b[39mNone\u001b[39;00m:\n\u001b[1;32m    297\u001b[0m     \u001b[39mtry\u001b[39;00m:\n\u001b[0;32m--> 298\u001b[0m         func(\u001b[39m*\u001b[39;49margs, \u001b[39m*\u001b[39;49m\u001b[39m*\u001b[39;49mkwargs)\n\u001b[1;32m    299\u001b[0m     \u001b[39m# this does not capture KeyboardInterrupt, SystemExit,\u001b[39;00m\n\u001b[1;32m    300\u001b[0m     \u001b[39m# and GeneratorExit\u001b[39;00m\n\u001b[1;32m    301\u001b[0m     \u001b[39mexcept\u001b[39;00m \u001b[39mException\u001b[39;00m \u001b[39mas\u001b[39;00m exc:\n",
      "File \u001b[0;32m~/Envs/decayangle_dev/lib/python3.12/site-packages/matplotlib/colorbar.py:501\u001b[0m, in \u001b[0;36mColorbar.update_normal\u001b[0;34m(self, mappable)\u001b[0m\n\u001b[1;32m    498\u001b[0m     \u001b[39mself\u001b[39m\u001b[39m.\u001b[39mnorm \u001b[39m=\u001b[39m mappable\u001b[39m.\u001b[39mnorm\n\u001b[1;32m    499\u001b[0m     \u001b[39mself\u001b[39m\u001b[39m.\u001b[39m_reset_locator_formatter_scale()\n\u001b[0;32m--> 501\u001b[0m \u001b[39mself\u001b[39;49m\u001b[39m.\u001b[39;49m_draw_all()\n\u001b[1;32m    502\u001b[0m \u001b[39mif\u001b[39;00m \u001b[39misinstance\u001b[39m(\u001b[39mself\u001b[39m\u001b[39m.\u001b[39mmappable, contour\u001b[39m.\u001b[39mContourSet):\n\u001b[1;32m    503\u001b[0m     CS \u001b[39m=\u001b[39m \u001b[39mself\u001b[39m\u001b[39m.\u001b[39mmappable\n",
      "File \u001b[0;32m~/Envs/decayangle_dev/lib/python3.12/site-packages/matplotlib/colorbar.py:528\u001b[0m, in \u001b[0;36mColorbar._draw_all\u001b[0;34m(self)\u001b[0m\n\u001b[1;32m    522\u001b[0m \u001b[39mself\u001b[39m\u001b[39m.\u001b[39m_short_axis()\u001b[39m.\u001b[39mset_ticks([], minor\u001b[39m=\u001b[39m\u001b[39mTrue\u001b[39;00m)\n\u001b[1;32m    524\u001b[0m \u001b[39m# Set self._boundaries and self._values, including extensions.\u001b[39;00m\n\u001b[1;32m    525\u001b[0m \u001b[39m# self._boundaries are the edges of each square of color, and\u001b[39;00m\n\u001b[1;32m    526\u001b[0m \u001b[39m# self._values are the value to map into the norm to get the\u001b[39;00m\n\u001b[1;32m    527\u001b[0m \u001b[39m# color:\u001b[39;00m\n\u001b[0;32m--> 528\u001b[0m \u001b[39mself\u001b[39;49m\u001b[39m.\u001b[39;49m_process_values()\n\u001b[1;32m    529\u001b[0m \u001b[39m# Set self.vmin and self.vmax to first and last boundary, excluding\u001b[39;00m\n\u001b[1;32m    530\u001b[0m \u001b[39m# extensions:\u001b[39;00m\n\u001b[1;32m    531\u001b[0m \u001b[39mself\u001b[39m\u001b[39m.\u001b[39mvmin, \u001b[39mself\u001b[39m\u001b[39m.\u001b[39mvmax \u001b[39m=\u001b[39m \u001b[39mself\u001b[39m\u001b[39m.\u001b[39m_boundaries[\u001b[39mself\u001b[39m\u001b[39m.\u001b[39m_inside][[\u001b[39m0\u001b[39m, \u001b[39m-\u001b[39m\u001b[39m1\u001b[39m]]\n",
      "File \u001b[0;32m~/Envs/decayangle_dev/lib/python3.12/site-packages/matplotlib/colorbar.py:1091\u001b[0m, in \u001b[0;36mColorbar._process_values\u001b[0;34m(self)\u001b[0m\n\u001b[1;32m   1087\u001b[0m \u001b[39mself\u001b[39m\u001b[39m.\u001b[39mnorm\u001b[39m.\u001b[39mvmin, \u001b[39mself\u001b[39m\u001b[39m.\u001b[39mnorm\u001b[39m.\u001b[39mvmax \u001b[39m=\u001b[39m mtransforms\u001b[39m.\u001b[39mnonsingular(\n\u001b[1;32m   1088\u001b[0m     \u001b[39mself\u001b[39m\u001b[39m.\u001b[39mnorm\u001b[39m.\u001b[39mvmin, \u001b[39mself\u001b[39m\u001b[39m.\u001b[39mnorm\u001b[39m.\u001b[39mvmax, expander\u001b[39m=\u001b[39m\u001b[39m0.1\u001b[39m)\n\u001b[1;32m   1089\u001b[0m \u001b[39mif\u001b[39;00m (\u001b[39mnot\u001b[39;00m \u001b[39misinstance\u001b[39m(\u001b[39mself\u001b[39m\u001b[39m.\u001b[39mnorm, colors\u001b[39m.\u001b[39mBoundaryNorm) \u001b[39mand\u001b[39;00m\n\u001b[1;32m   1090\u001b[0m         (\u001b[39mself\u001b[39m\u001b[39m.\u001b[39mboundaries \u001b[39mis\u001b[39;00m \u001b[39mNone\u001b[39;00m)):\n\u001b[0;32m-> 1091\u001b[0m     b \u001b[39m=\u001b[39m \u001b[39mself\u001b[39;49m\u001b[39m.\u001b[39;49mnorm\u001b[39m.\u001b[39;49minverse(b)\n\u001b[1;32m   1093\u001b[0m \u001b[39mself\u001b[39m\u001b[39m.\u001b[39m_boundaries \u001b[39m=\u001b[39m np\u001b[39m.\u001b[39masarray(b, dtype\u001b[39m=\u001b[39m\u001b[39mfloat\u001b[39m)\n\u001b[1;32m   1094\u001b[0m \u001b[39mself\u001b[39m\u001b[39m.\u001b[39m_values \u001b[39m=\u001b[39m \u001b[39m0.5\u001b[39m \u001b[39m*\u001b[39m (\u001b[39mself\u001b[39m\u001b[39m.\u001b[39m_boundaries[:\u001b[39m-\u001b[39m\u001b[39m1\u001b[39m] \u001b[39m+\u001b[39m \u001b[39mself\u001b[39m\u001b[39m.\u001b[39m_boundaries[\u001b[39m1\u001b[39m:])\n",
      "File \u001b[0;32m~/Envs/decayangle_dev/lib/python3.12/site-packages/matplotlib/colors.py:1801\u001b[0m, in \u001b[0;36m_make_norm_from_scale.<locals>.Norm.inverse\u001b[0;34m(self, value)\u001b[0m\n\u001b[1;32m   1799\u001b[0m t_vmin, t_vmax \u001b[39m=\u001b[39m \u001b[39mself\u001b[39m\u001b[39m.\u001b[39m_trf\u001b[39m.\u001b[39mtransform([\u001b[39mself\u001b[39m\u001b[39m.\u001b[39mvmin, \u001b[39mself\u001b[39m\u001b[39m.\u001b[39mvmax])\n\u001b[1;32m   1800\u001b[0m \u001b[39mif\u001b[39;00m \u001b[39mnot\u001b[39;00m np\u001b[39m.\u001b[39misfinite([t_vmin, t_vmax])\u001b[39m.\u001b[39mall():\n\u001b[0;32m-> 1801\u001b[0m     \u001b[39mraise\u001b[39;00m \u001b[39mValueError\u001b[39;00m(\u001b[39m\"\u001b[39m\u001b[39mInvalid vmin or vmax\u001b[39m\u001b[39m\"\u001b[39m)\n\u001b[1;32m   1802\u001b[0m value, is_scalar \u001b[39m=\u001b[39m \u001b[39mself\u001b[39m\u001b[39m.\u001b[39mprocess_value(value)\n\u001b[1;32m   1803\u001b[0m rescaled \u001b[39m=\u001b[39m value \u001b[39m*\u001b[39m (t_vmax \u001b[39m-\u001b[39m t_vmin)\n",
      "\u001b[0;31mValueError\u001b[0m: Invalid vmin or vmax"
     ]
    },
    {
     "name": "stdout",
     "output_type": "stream",
     "text": [
      "Error in callback <function _draw_all_if_interactive at 0x7f0c447ad300> (for post_execute), with arguments args (),kwargs {}:\n"
     ]
    },
    {
     "ename": "ValueError",
     "evalue": "Invalid vmin or vmax",
     "output_type": "error",
     "traceback": [
      "\u001b[0;31m---------------------------------------------------------------------------\u001b[0m",
      "\u001b[0;31mValueError\u001b[0m                                Traceback (most recent call last)",
      "File \u001b[0;32m~/Envs/decayangle_dev/lib/python3.12/site-packages/matplotlib/pyplot.py:268\u001b[0m, in \u001b[0;36m_draw_all_if_interactive\u001b[0;34m()\u001b[0m\n\u001b[1;32m    266\u001b[0m \u001b[39mdef\u001b[39;00m \u001b[39m_draw_all_if_interactive\u001b[39m() \u001b[39m-\u001b[39m\u001b[39m>\u001b[39m \u001b[39mNone\u001b[39;00m:\n\u001b[1;32m    267\u001b[0m     \u001b[39mif\u001b[39;00m matplotlib\u001b[39m.\u001b[39mis_interactive():\n\u001b[0;32m--> 268\u001b[0m         draw_all()\n",
      "File \u001b[0;32m~/Envs/decayangle_dev/lib/python3.12/site-packages/matplotlib/_pylab_helpers.py:131\u001b[0m, in \u001b[0;36mGcf.draw_all\u001b[0;34m(cls, force)\u001b[0m\n\u001b[1;32m    129\u001b[0m \u001b[39mfor\u001b[39;00m manager \u001b[39min\u001b[39;00m \u001b[39mcls\u001b[39m\u001b[39m.\u001b[39mget_all_fig_managers():\n\u001b[1;32m    130\u001b[0m     \u001b[39mif\u001b[39;00m force \u001b[39mor\u001b[39;00m manager\u001b[39m.\u001b[39mcanvas\u001b[39m.\u001b[39mfigure\u001b[39m.\u001b[39mstale:\n\u001b[0;32m--> 131\u001b[0m         manager\u001b[39m.\u001b[39;49mcanvas\u001b[39m.\u001b[39;49mdraw_idle()\n",
      "File \u001b[0;32m~/Envs/decayangle_dev/lib/python3.12/site-packages/matplotlib/backend_bases.py:1905\u001b[0m, in \u001b[0;36mFigureCanvasBase.draw_idle\u001b[0;34m(self, *args, **kwargs)\u001b[0m\n\u001b[1;32m   1903\u001b[0m \u001b[39mif\u001b[39;00m \u001b[39mnot\u001b[39;00m \u001b[39mself\u001b[39m\u001b[39m.\u001b[39m_is_idle_drawing:\n\u001b[1;32m   1904\u001b[0m     \u001b[39mwith\u001b[39;00m \u001b[39mself\u001b[39m\u001b[39m.\u001b[39m_idle_draw_cntx():\n\u001b[0;32m-> 1905\u001b[0m         \u001b[39mself\u001b[39;49m\u001b[39m.\u001b[39;49mdraw(\u001b[39m*\u001b[39;49margs, \u001b[39m*\u001b[39;49m\u001b[39m*\u001b[39;49mkwargs)\n",
      "File \u001b[0;32m~/Envs/decayangle_dev/lib/python3.12/site-packages/matplotlib/backends/backend_agg.py:387\u001b[0m, in \u001b[0;36mFigureCanvasAgg.draw\u001b[0;34m(self)\u001b[0m\n\u001b[1;32m    384\u001b[0m \u001b[39m# Acquire a lock on the shared font cache.\u001b[39;00m\n\u001b[1;32m    385\u001b[0m \u001b[39mwith\u001b[39;00m (\u001b[39mself\u001b[39m\u001b[39m.\u001b[39mtoolbar\u001b[39m.\u001b[39m_wait_cursor_for_draw_cm() \u001b[39mif\u001b[39;00m \u001b[39mself\u001b[39m\u001b[39m.\u001b[39mtoolbar\n\u001b[1;32m    386\u001b[0m       \u001b[39melse\u001b[39;00m nullcontext()):\n\u001b[0;32m--> 387\u001b[0m     \u001b[39mself\u001b[39;49m\u001b[39m.\u001b[39;49mfigure\u001b[39m.\u001b[39;49mdraw(\u001b[39mself\u001b[39;49m\u001b[39m.\u001b[39;49mrenderer)\n\u001b[1;32m    388\u001b[0m     \u001b[39m# A GUI class may be need to update a window using this draw, so\u001b[39;00m\n\u001b[1;32m    389\u001b[0m     \u001b[39m# don't forget to call the superclass.\u001b[39;00m\n\u001b[1;32m    390\u001b[0m     \u001b[39msuper\u001b[39m()\u001b[39m.\u001b[39mdraw()\n",
      "File \u001b[0;32m~/Envs/decayangle_dev/lib/python3.12/site-packages/matplotlib/artist.py:95\u001b[0m, in \u001b[0;36m_finalize_rasterization.<locals>.draw_wrapper\u001b[0;34m(artist, renderer, *args, **kwargs)\u001b[0m\n\u001b[1;32m     93\u001b[0m \u001b[39m@wraps\u001b[39m(draw)\n\u001b[1;32m     94\u001b[0m \u001b[39mdef\u001b[39;00m \u001b[39mdraw_wrapper\u001b[39m(artist, renderer, \u001b[39m*\u001b[39margs, \u001b[39m*\u001b[39m\u001b[39m*\u001b[39mkwargs):\n\u001b[0;32m---> 95\u001b[0m     result \u001b[39m=\u001b[39m draw(artist, renderer, \u001b[39m*\u001b[39;49margs, \u001b[39m*\u001b[39;49m\u001b[39m*\u001b[39;49mkwargs)\n\u001b[1;32m     96\u001b[0m     \u001b[39mif\u001b[39;00m renderer\u001b[39m.\u001b[39m_rasterizing:\n\u001b[1;32m     97\u001b[0m         renderer\u001b[39m.\u001b[39mstop_rasterizing()\n",
      "File \u001b[0;32m~/Envs/decayangle_dev/lib/python3.12/site-packages/matplotlib/artist.py:72\u001b[0m, in \u001b[0;36mallow_rasterization.<locals>.draw_wrapper\u001b[0;34m(artist, renderer)\u001b[0m\n\u001b[1;32m     69\u001b[0m     \u001b[39mif\u001b[39;00m artist\u001b[39m.\u001b[39mget_agg_filter() \u001b[39mis\u001b[39;00m \u001b[39mnot\u001b[39;00m \u001b[39mNone\u001b[39;00m:\n\u001b[1;32m     70\u001b[0m         renderer\u001b[39m.\u001b[39mstart_filter()\n\u001b[0;32m---> 72\u001b[0m     \u001b[39mreturn\u001b[39;00m draw(artist, renderer)\n\u001b[1;32m     73\u001b[0m \u001b[39mfinally\u001b[39;00m:\n\u001b[1;32m     74\u001b[0m     \u001b[39mif\u001b[39;00m artist\u001b[39m.\u001b[39mget_agg_filter() \u001b[39mis\u001b[39;00m \u001b[39mnot\u001b[39;00m \u001b[39mNone\u001b[39;00m:\n",
      "File \u001b[0;32m~/Envs/decayangle_dev/lib/python3.12/site-packages/matplotlib/figure.py:3162\u001b[0m, in \u001b[0;36mFigure.draw\u001b[0;34m(self, renderer)\u001b[0m\n\u001b[1;32m   3159\u001b[0m             \u001b[39m# ValueError can occur when resizing a window.\u001b[39;00m\n\u001b[1;32m   3161\u001b[0m     \u001b[39mself\u001b[39m\u001b[39m.\u001b[39mpatch\u001b[39m.\u001b[39mdraw(renderer)\n\u001b[0;32m-> 3162\u001b[0m     mimage\u001b[39m.\u001b[39;49m_draw_list_compositing_images(\n\u001b[1;32m   3163\u001b[0m         renderer, \u001b[39mself\u001b[39;49m, artists, \u001b[39mself\u001b[39;49m\u001b[39m.\u001b[39;49msuppressComposite)\n\u001b[1;32m   3165\u001b[0m     renderer\u001b[39m.\u001b[39mclose_group(\u001b[39m'\u001b[39m\u001b[39mfigure\u001b[39m\u001b[39m'\u001b[39m)\n\u001b[1;32m   3166\u001b[0m \u001b[39mfinally\u001b[39;00m:\n",
      "File \u001b[0;32m~/Envs/decayangle_dev/lib/python3.12/site-packages/matplotlib/image.py:132\u001b[0m, in \u001b[0;36m_draw_list_compositing_images\u001b[0;34m(renderer, parent, artists, suppress_composite)\u001b[0m\n\u001b[1;32m    130\u001b[0m \u001b[39mif\u001b[39;00m not_composite \u001b[39mor\u001b[39;00m \u001b[39mnot\u001b[39;00m has_images:\n\u001b[1;32m    131\u001b[0m     \u001b[39mfor\u001b[39;00m a \u001b[39min\u001b[39;00m artists:\n\u001b[0;32m--> 132\u001b[0m         a\u001b[39m.\u001b[39;49mdraw(renderer)\n\u001b[1;32m    133\u001b[0m \u001b[39melse\u001b[39;00m:\n\u001b[1;32m    134\u001b[0m     \u001b[39m# Composite any adjacent images together\u001b[39;00m\n\u001b[1;32m    135\u001b[0m     image_group \u001b[39m=\u001b[39m []\n",
      "File \u001b[0;32m~/Envs/decayangle_dev/lib/python3.12/site-packages/matplotlib/artist.py:72\u001b[0m, in \u001b[0;36mallow_rasterization.<locals>.draw_wrapper\u001b[0;34m(artist, renderer)\u001b[0m\n\u001b[1;32m     69\u001b[0m     \u001b[39mif\u001b[39;00m artist\u001b[39m.\u001b[39mget_agg_filter() \u001b[39mis\u001b[39;00m \u001b[39mnot\u001b[39;00m \u001b[39mNone\u001b[39;00m:\n\u001b[1;32m     70\u001b[0m         renderer\u001b[39m.\u001b[39mstart_filter()\n\u001b[0;32m---> 72\u001b[0m     \u001b[39mreturn\u001b[39;00m draw(artist, renderer)\n\u001b[1;32m     73\u001b[0m \u001b[39mfinally\u001b[39;00m:\n\u001b[1;32m     74\u001b[0m     \u001b[39mif\u001b[39;00m artist\u001b[39m.\u001b[39mget_agg_filter() \u001b[39mis\u001b[39;00m \u001b[39mnot\u001b[39;00m \u001b[39mNone\u001b[39;00m:\n",
      "File \u001b[0;32m~/Envs/decayangle_dev/lib/python3.12/site-packages/matplotlib/axes/_base.py:3143\u001b[0m, in \u001b[0;36m_AxesBase.draw\u001b[0;34m(self, renderer)\u001b[0m\n\u001b[1;32m   3140\u001b[0m \u001b[39mif\u001b[39;00m artists_rasterized:\n\u001b[1;32m   3141\u001b[0m     _draw_rasterized(\u001b[39mself\u001b[39m\u001b[39m.\u001b[39mfigure, artists_rasterized, renderer)\n\u001b[0;32m-> 3143\u001b[0m mimage\u001b[39m.\u001b[39;49m_draw_list_compositing_images(\n\u001b[1;32m   3144\u001b[0m     renderer, \u001b[39mself\u001b[39;49m, artists, \u001b[39mself\u001b[39;49m\u001b[39m.\u001b[39;49mfigure\u001b[39m.\u001b[39;49msuppressComposite)\n\u001b[1;32m   3146\u001b[0m renderer\u001b[39m.\u001b[39mclose_group(\u001b[39m'\u001b[39m\u001b[39maxes\u001b[39m\u001b[39m'\u001b[39m)\n\u001b[1;32m   3147\u001b[0m \u001b[39mself\u001b[39m\u001b[39m.\u001b[39mstale \u001b[39m=\u001b[39m \u001b[39mFalse\u001b[39;00m\n",
      "File \u001b[0;32m~/Envs/decayangle_dev/lib/python3.12/site-packages/matplotlib/image.py:132\u001b[0m, in \u001b[0;36m_draw_list_compositing_images\u001b[0;34m(renderer, parent, artists, suppress_composite)\u001b[0m\n\u001b[1;32m    130\u001b[0m \u001b[39mif\u001b[39;00m not_composite \u001b[39mor\u001b[39;00m \u001b[39mnot\u001b[39;00m has_images:\n\u001b[1;32m    131\u001b[0m     \u001b[39mfor\u001b[39;00m a \u001b[39min\u001b[39;00m artists:\n\u001b[0;32m--> 132\u001b[0m         a\u001b[39m.\u001b[39;49mdraw(renderer)\n\u001b[1;32m    133\u001b[0m \u001b[39melse\u001b[39;00m:\n\u001b[1;32m    134\u001b[0m     \u001b[39m# Composite any adjacent images together\u001b[39;00m\n\u001b[1;32m    135\u001b[0m     image_group \u001b[39m=\u001b[39m []\n",
      "File \u001b[0;32m~/Envs/decayangle_dev/lib/python3.12/site-packages/matplotlib/artist.py:72\u001b[0m, in \u001b[0;36mallow_rasterization.<locals>.draw_wrapper\u001b[0;34m(artist, renderer)\u001b[0m\n\u001b[1;32m     69\u001b[0m     \u001b[39mif\u001b[39;00m artist\u001b[39m.\u001b[39mget_agg_filter() \u001b[39mis\u001b[39;00m \u001b[39mnot\u001b[39;00m \u001b[39mNone\u001b[39;00m:\n\u001b[1;32m     70\u001b[0m         renderer\u001b[39m.\u001b[39mstart_filter()\n\u001b[0;32m---> 72\u001b[0m     \u001b[39mreturn\u001b[39;00m draw(artist, renderer)\n\u001b[1;32m     73\u001b[0m \u001b[39mfinally\u001b[39;00m:\n\u001b[1;32m     74\u001b[0m     \u001b[39mif\u001b[39;00m artist\u001b[39m.\u001b[39mget_agg_filter() \u001b[39mis\u001b[39;00m \u001b[39mnot\u001b[39;00m \u001b[39mNone\u001b[39;00m:\n",
      "File \u001b[0;32m~/Envs/decayangle_dev/lib/python3.12/site-packages/matplotlib/collections.py:2179\u001b[0m, in \u001b[0;36mQuadMesh.draw\u001b[0;34m(self, renderer)\u001b[0m\n\u001b[1;32m   2176\u001b[0m     ys \u001b[39m=\u001b[39m \u001b[39mself\u001b[39m\u001b[39m.\u001b[39mconvert_yunits(offsets[:, \u001b[39m1\u001b[39m])\n\u001b[1;32m   2177\u001b[0m     offsets \u001b[39m=\u001b[39m np\u001b[39m.\u001b[39mcolumn_stack([xs, ys])\n\u001b[0;32m-> 2179\u001b[0m \u001b[39mself\u001b[39;49m\u001b[39m.\u001b[39;49mupdate_scalarmappable()\n\u001b[1;32m   2181\u001b[0m \u001b[39mif\u001b[39;00m \u001b[39mnot\u001b[39;00m transform\u001b[39m.\u001b[39mis_affine:\n\u001b[1;32m   2182\u001b[0m     coordinates \u001b[39m=\u001b[39m \u001b[39mself\u001b[39m\u001b[39m.\u001b[39m_coordinates\u001b[39m.\u001b[39mreshape((\u001b[39m-\u001b[39m\u001b[39m1\u001b[39m, \u001b[39m2\u001b[39m))\n",
      "File \u001b[0;32m~/Envs/decayangle_dev/lib/python3.12/site-packages/matplotlib/collections.py:920\u001b[0m, in \u001b[0;36mCollection.update_scalarmappable\u001b[0;34m(self)\u001b[0m\n\u001b[1;32m    918\u001b[0m         \u001b[39m# pcolormesh, scatter, maybe others flatten their _A\u001b[39;00m\n\u001b[1;32m    919\u001b[0m         \u001b[39mself\u001b[39m\u001b[39m.\u001b[39m_alpha \u001b[39m=\u001b[39m \u001b[39mself\u001b[39m\u001b[39m.\u001b[39m_alpha\u001b[39m.\u001b[39mreshape(\u001b[39mself\u001b[39m\u001b[39m.\u001b[39m_A\u001b[39m.\u001b[39mshape)\n\u001b[0;32m--> 920\u001b[0m     \u001b[39mself\u001b[39m\u001b[39m.\u001b[39m_mapped_colors \u001b[39m=\u001b[39m \u001b[39mself\u001b[39;49m\u001b[39m.\u001b[39;49mto_rgba(\u001b[39mself\u001b[39;49m\u001b[39m.\u001b[39;49m_A, \u001b[39mself\u001b[39;49m\u001b[39m.\u001b[39;49m_alpha)\n\u001b[1;32m    922\u001b[0m \u001b[39mif\u001b[39;00m \u001b[39mself\u001b[39m\u001b[39m.\u001b[39m_face_is_mapped:\n\u001b[1;32m    923\u001b[0m     \u001b[39mself\u001b[39m\u001b[39m.\u001b[39m_facecolors \u001b[39m=\u001b[39m \u001b[39mself\u001b[39m\u001b[39m.\u001b[39m_mapped_colors\n",
      "File \u001b[0;32m~/Envs/decayangle_dev/lib/python3.12/site-packages/matplotlib/cm.py:430\u001b[0m, in \u001b[0;36mScalarMappable.to_rgba\u001b[0;34m(self, x, alpha, bytes, norm)\u001b[0m\n\u001b[1;32m    428\u001b[0m x \u001b[39m=\u001b[39m ma\u001b[39m.\u001b[39masarray(x)\n\u001b[1;32m    429\u001b[0m \u001b[39mif\u001b[39;00m norm:\n\u001b[0;32m--> 430\u001b[0m     x \u001b[39m=\u001b[39m \u001b[39mself\u001b[39;49m\u001b[39m.\u001b[39;49mnorm(x)\n\u001b[1;32m    431\u001b[0m rgba \u001b[39m=\u001b[39m \u001b[39mself\u001b[39m\u001b[39m.\u001b[39mcmap(x, alpha\u001b[39m=\u001b[39malpha, \u001b[39mbytes\u001b[39m\u001b[39m=\u001b[39m\u001b[39mbytes\u001b[39m)\n\u001b[1;32m    432\u001b[0m \u001b[39mreturn\u001b[39;00m rgba\n",
      "File \u001b[0;32m~/Envs/decayangle_dev/lib/python3.12/site-packages/matplotlib/colors.py:1788\u001b[0m, in \u001b[0;36m_make_norm_from_scale.<locals>.Norm.__call__\u001b[0;34m(self, value, clip)\u001b[0m\n\u001b[1;32m   1786\u001b[0m t_vmin, t_vmax \u001b[39m=\u001b[39m \u001b[39mself\u001b[39m\u001b[39m.\u001b[39m_trf\u001b[39m.\u001b[39mtransform([\u001b[39mself\u001b[39m\u001b[39m.\u001b[39mvmin, \u001b[39mself\u001b[39m\u001b[39m.\u001b[39mvmax])\n\u001b[1;32m   1787\u001b[0m \u001b[39mif\u001b[39;00m \u001b[39mnot\u001b[39;00m np\u001b[39m.\u001b[39misfinite([t_vmin, t_vmax])\u001b[39m.\u001b[39mall():\n\u001b[0;32m-> 1788\u001b[0m     \u001b[39mraise\u001b[39;00m \u001b[39mValueError\u001b[39;00m(\u001b[39m\"\u001b[39m\u001b[39mInvalid vmin or vmax\u001b[39m\u001b[39m\"\u001b[39m)\n\u001b[1;32m   1789\u001b[0m t_value \u001b[39m-\u001b[39m\u001b[39m=\u001b[39m t_vmin\n\u001b[1;32m   1790\u001b[0m t_value \u001b[39m/\u001b[39m\u001b[39m=\u001b[39m (t_vmax \u001b[39m-\u001b[39m t_vmin)\n",
      "\u001b[0;31mValueError\u001b[0m: Invalid vmin or vmax"
     ]
    },
    {
     "ename": "ValueError",
     "evalue": "Invalid vmin or vmax",
     "output_type": "error",
     "traceback": [
      "\u001b[0;31m---------------------------------------------------------------------------\u001b[0m",
      "\u001b[0;31mValueError\u001b[0m                                Traceback (most recent call last)",
      "File \u001b[0;32m~/Envs/decayangle_dev/lib/python3.12/site-packages/IPython/core/formatters.py:343\u001b[0m, in \u001b[0;36mBaseFormatter.__call__\u001b[0;34m(self, obj)\u001b[0m\n\u001b[1;32m    341\u001b[0m     \u001b[39mpass\u001b[39;00m\n\u001b[1;32m    342\u001b[0m \u001b[39melse\u001b[39;00m:\n\u001b[0;32m--> 343\u001b[0m     \u001b[39mreturn\u001b[39;00m printer(obj)\n\u001b[1;32m    344\u001b[0m \u001b[39m# Finally look for special method names\u001b[39;00m\n\u001b[1;32m    345\u001b[0m method \u001b[39m=\u001b[39m get_real_method(obj, \u001b[39mself\u001b[39m\u001b[39m.\u001b[39mprint_method)\n",
      "File \u001b[0;32m~/Envs/decayangle_dev/lib/python3.12/site-packages/IPython/core/pylabtools.py:170\u001b[0m, in \u001b[0;36mprint_figure\u001b[0;34m(fig, fmt, bbox_inches, base64, **kwargs)\u001b[0m\n\u001b[1;32m    167\u001b[0m     \u001b[39mfrom\u001b[39;00m \u001b[39mmatplotlib\u001b[39;00m\u001b[39m.\u001b[39;00m\u001b[39mbackend_bases\u001b[39;00m \u001b[39mimport\u001b[39;00m FigureCanvasBase\n\u001b[1;32m    168\u001b[0m     FigureCanvasBase(fig)\n\u001b[0;32m--> 170\u001b[0m fig\u001b[39m.\u001b[39;49mcanvas\u001b[39m.\u001b[39;49mprint_figure(bytes_io, \u001b[39m*\u001b[39;49m\u001b[39m*\u001b[39;49mkw)\n\u001b[1;32m    171\u001b[0m data \u001b[39m=\u001b[39m bytes_io\u001b[39m.\u001b[39mgetvalue()\n\u001b[1;32m    172\u001b[0m \u001b[39mif\u001b[39;00m fmt \u001b[39m==\u001b[39m \u001b[39m'\u001b[39m\u001b[39msvg\u001b[39m\u001b[39m'\u001b[39m:\n",
      "File \u001b[0;32m~/Envs/decayangle_dev/lib/python3.12/site-packages/matplotlib/backend_bases.py:2175\u001b[0m, in \u001b[0;36mFigureCanvasBase.print_figure\u001b[0;34m(self, filename, dpi, facecolor, edgecolor, orientation, format, bbox_inches, pad_inches, bbox_extra_artists, backend, **kwargs)\u001b[0m\n\u001b[1;32m   2172\u001b[0m     \u001b[39m# we do this instead of `self.figure.draw_without_rendering`\u001b[39;00m\n\u001b[1;32m   2173\u001b[0m     \u001b[39m# so that we can inject the orientation\u001b[39;00m\n\u001b[1;32m   2174\u001b[0m     \u001b[39mwith\u001b[39;00m \u001b[39mgetattr\u001b[39m(renderer, \u001b[39m\"\u001b[39m\u001b[39m_draw_disabled\u001b[39m\u001b[39m\"\u001b[39m, nullcontext)():\n\u001b[0;32m-> 2175\u001b[0m         \u001b[39mself\u001b[39;49m\u001b[39m.\u001b[39;49mfigure\u001b[39m.\u001b[39;49mdraw(renderer)\n\u001b[1;32m   2176\u001b[0m \u001b[39mif\u001b[39;00m bbox_inches:\n\u001b[1;32m   2177\u001b[0m     \u001b[39mif\u001b[39;00m bbox_inches \u001b[39m==\u001b[39m \u001b[39m\"\u001b[39m\u001b[39mtight\u001b[39m\u001b[39m\"\u001b[39m:\n",
      "File \u001b[0;32m~/Envs/decayangle_dev/lib/python3.12/site-packages/matplotlib/artist.py:95\u001b[0m, in \u001b[0;36m_finalize_rasterization.<locals>.draw_wrapper\u001b[0;34m(artist, renderer, *args, **kwargs)\u001b[0m\n\u001b[1;32m     93\u001b[0m \u001b[39m@wraps\u001b[39m(draw)\n\u001b[1;32m     94\u001b[0m \u001b[39mdef\u001b[39;00m \u001b[39mdraw_wrapper\u001b[39m(artist, renderer, \u001b[39m*\u001b[39margs, \u001b[39m*\u001b[39m\u001b[39m*\u001b[39mkwargs):\n\u001b[0;32m---> 95\u001b[0m     result \u001b[39m=\u001b[39m draw(artist, renderer, \u001b[39m*\u001b[39;49margs, \u001b[39m*\u001b[39;49m\u001b[39m*\u001b[39;49mkwargs)\n\u001b[1;32m     96\u001b[0m     \u001b[39mif\u001b[39;00m renderer\u001b[39m.\u001b[39m_rasterizing:\n\u001b[1;32m     97\u001b[0m         renderer\u001b[39m.\u001b[39mstop_rasterizing()\n",
      "File \u001b[0;32m~/Envs/decayangle_dev/lib/python3.12/site-packages/matplotlib/artist.py:72\u001b[0m, in \u001b[0;36mallow_rasterization.<locals>.draw_wrapper\u001b[0;34m(artist, renderer)\u001b[0m\n\u001b[1;32m     69\u001b[0m     \u001b[39mif\u001b[39;00m artist\u001b[39m.\u001b[39mget_agg_filter() \u001b[39mis\u001b[39;00m \u001b[39mnot\u001b[39;00m \u001b[39mNone\u001b[39;00m:\n\u001b[1;32m     70\u001b[0m         renderer\u001b[39m.\u001b[39mstart_filter()\n\u001b[0;32m---> 72\u001b[0m     \u001b[39mreturn\u001b[39;00m draw(artist, renderer)\n\u001b[1;32m     73\u001b[0m \u001b[39mfinally\u001b[39;00m:\n\u001b[1;32m     74\u001b[0m     \u001b[39mif\u001b[39;00m artist\u001b[39m.\u001b[39mget_agg_filter() \u001b[39mis\u001b[39;00m \u001b[39mnot\u001b[39;00m \u001b[39mNone\u001b[39;00m:\n",
      "File \u001b[0;32m~/Envs/decayangle_dev/lib/python3.12/site-packages/matplotlib/figure.py:3162\u001b[0m, in \u001b[0;36mFigure.draw\u001b[0;34m(self, renderer)\u001b[0m\n\u001b[1;32m   3159\u001b[0m             \u001b[39m# ValueError can occur when resizing a window.\u001b[39;00m\n\u001b[1;32m   3161\u001b[0m     \u001b[39mself\u001b[39m\u001b[39m.\u001b[39mpatch\u001b[39m.\u001b[39mdraw(renderer)\n\u001b[0;32m-> 3162\u001b[0m     mimage\u001b[39m.\u001b[39;49m_draw_list_compositing_images(\n\u001b[1;32m   3163\u001b[0m         renderer, \u001b[39mself\u001b[39;49m, artists, \u001b[39mself\u001b[39;49m\u001b[39m.\u001b[39;49msuppressComposite)\n\u001b[1;32m   3165\u001b[0m     renderer\u001b[39m.\u001b[39mclose_group(\u001b[39m'\u001b[39m\u001b[39mfigure\u001b[39m\u001b[39m'\u001b[39m)\n\u001b[1;32m   3166\u001b[0m \u001b[39mfinally\u001b[39;00m:\n",
      "File \u001b[0;32m~/Envs/decayangle_dev/lib/python3.12/site-packages/matplotlib/image.py:132\u001b[0m, in \u001b[0;36m_draw_list_compositing_images\u001b[0;34m(renderer, parent, artists, suppress_composite)\u001b[0m\n\u001b[1;32m    130\u001b[0m \u001b[39mif\u001b[39;00m not_composite \u001b[39mor\u001b[39;00m \u001b[39mnot\u001b[39;00m has_images:\n\u001b[1;32m    131\u001b[0m     \u001b[39mfor\u001b[39;00m a \u001b[39min\u001b[39;00m artists:\n\u001b[0;32m--> 132\u001b[0m         a\u001b[39m.\u001b[39;49mdraw(renderer)\n\u001b[1;32m    133\u001b[0m \u001b[39melse\u001b[39;00m:\n\u001b[1;32m    134\u001b[0m     \u001b[39m# Composite any adjacent images together\u001b[39;00m\n\u001b[1;32m    135\u001b[0m     image_group \u001b[39m=\u001b[39m []\n",
      "File \u001b[0;32m~/Envs/decayangle_dev/lib/python3.12/site-packages/matplotlib/artist.py:72\u001b[0m, in \u001b[0;36mallow_rasterization.<locals>.draw_wrapper\u001b[0;34m(artist, renderer)\u001b[0m\n\u001b[1;32m     69\u001b[0m     \u001b[39mif\u001b[39;00m artist\u001b[39m.\u001b[39mget_agg_filter() \u001b[39mis\u001b[39;00m \u001b[39mnot\u001b[39;00m \u001b[39mNone\u001b[39;00m:\n\u001b[1;32m     70\u001b[0m         renderer\u001b[39m.\u001b[39mstart_filter()\n\u001b[0;32m---> 72\u001b[0m     \u001b[39mreturn\u001b[39;00m draw(artist, renderer)\n\u001b[1;32m     73\u001b[0m \u001b[39mfinally\u001b[39;00m:\n\u001b[1;32m     74\u001b[0m     \u001b[39mif\u001b[39;00m artist\u001b[39m.\u001b[39mget_agg_filter() \u001b[39mis\u001b[39;00m \u001b[39mnot\u001b[39;00m \u001b[39mNone\u001b[39;00m:\n",
      "File \u001b[0;32m~/Envs/decayangle_dev/lib/python3.12/site-packages/matplotlib/axes/_base.py:3143\u001b[0m, in \u001b[0;36m_AxesBase.draw\u001b[0;34m(self, renderer)\u001b[0m\n\u001b[1;32m   3140\u001b[0m \u001b[39mif\u001b[39;00m artists_rasterized:\n\u001b[1;32m   3141\u001b[0m     _draw_rasterized(\u001b[39mself\u001b[39m\u001b[39m.\u001b[39mfigure, artists_rasterized, renderer)\n\u001b[0;32m-> 3143\u001b[0m mimage\u001b[39m.\u001b[39;49m_draw_list_compositing_images(\n\u001b[1;32m   3144\u001b[0m     renderer, \u001b[39mself\u001b[39;49m, artists, \u001b[39mself\u001b[39;49m\u001b[39m.\u001b[39;49mfigure\u001b[39m.\u001b[39;49msuppressComposite)\n\u001b[1;32m   3146\u001b[0m renderer\u001b[39m.\u001b[39mclose_group(\u001b[39m'\u001b[39m\u001b[39maxes\u001b[39m\u001b[39m'\u001b[39m)\n\u001b[1;32m   3147\u001b[0m \u001b[39mself\u001b[39m\u001b[39m.\u001b[39mstale \u001b[39m=\u001b[39m \u001b[39mFalse\u001b[39;00m\n",
      "File \u001b[0;32m~/Envs/decayangle_dev/lib/python3.12/site-packages/matplotlib/image.py:132\u001b[0m, in \u001b[0;36m_draw_list_compositing_images\u001b[0;34m(renderer, parent, artists, suppress_composite)\u001b[0m\n\u001b[1;32m    130\u001b[0m \u001b[39mif\u001b[39;00m not_composite \u001b[39mor\u001b[39;00m \u001b[39mnot\u001b[39;00m has_images:\n\u001b[1;32m    131\u001b[0m     \u001b[39mfor\u001b[39;00m a \u001b[39min\u001b[39;00m artists:\n\u001b[0;32m--> 132\u001b[0m         a\u001b[39m.\u001b[39;49mdraw(renderer)\n\u001b[1;32m    133\u001b[0m \u001b[39melse\u001b[39;00m:\n\u001b[1;32m    134\u001b[0m     \u001b[39m# Composite any adjacent images together\u001b[39;00m\n\u001b[1;32m    135\u001b[0m     image_group \u001b[39m=\u001b[39m []\n",
      "File \u001b[0;32m~/Envs/decayangle_dev/lib/python3.12/site-packages/matplotlib/artist.py:72\u001b[0m, in \u001b[0;36mallow_rasterization.<locals>.draw_wrapper\u001b[0;34m(artist, renderer)\u001b[0m\n\u001b[1;32m     69\u001b[0m     \u001b[39mif\u001b[39;00m artist\u001b[39m.\u001b[39mget_agg_filter() \u001b[39mis\u001b[39;00m \u001b[39mnot\u001b[39;00m \u001b[39mNone\u001b[39;00m:\n\u001b[1;32m     70\u001b[0m         renderer\u001b[39m.\u001b[39mstart_filter()\n\u001b[0;32m---> 72\u001b[0m     \u001b[39mreturn\u001b[39;00m draw(artist, renderer)\n\u001b[1;32m     73\u001b[0m \u001b[39mfinally\u001b[39;00m:\n\u001b[1;32m     74\u001b[0m     \u001b[39mif\u001b[39;00m artist\u001b[39m.\u001b[39mget_agg_filter() \u001b[39mis\u001b[39;00m \u001b[39mnot\u001b[39;00m \u001b[39mNone\u001b[39;00m:\n",
      "File \u001b[0;32m~/Envs/decayangle_dev/lib/python3.12/site-packages/matplotlib/collections.py:2179\u001b[0m, in \u001b[0;36mQuadMesh.draw\u001b[0;34m(self, renderer)\u001b[0m\n\u001b[1;32m   2176\u001b[0m     ys \u001b[39m=\u001b[39m \u001b[39mself\u001b[39m\u001b[39m.\u001b[39mconvert_yunits(offsets[:, \u001b[39m1\u001b[39m])\n\u001b[1;32m   2177\u001b[0m     offsets \u001b[39m=\u001b[39m np\u001b[39m.\u001b[39mcolumn_stack([xs, ys])\n\u001b[0;32m-> 2179\u001b[0m \u001b[39mself\u001b[39;49m\u001b[39m.\u001b[39;49mupdate_scalarmappable()\n\u001b[1;32m   2181\u001b[0m \u001b[39mif\u001b[39;00m \u001b[39mnot\u001b[39;00m transform\u001b[39m.\u001b[39mis_affine:\n\u001b[1;32m   2182\u001b[0m     coordinates \u001b[39m=\u001b[39m \u001b[39mself\u001b[39m\u001b[39m.\u001b[39m_coordinates\u001b[39m.\u001b[39mreshape((\u001b[39m-\u001b[39m\u001b[39m1\u001b[39m, \u001b[39m2\u001b[39m))\n",
      "File \u001b[0;32m~/Envs/decayangle_dev/lib/python3.12/site-packages/matplotlib/collections.py:920\u001b[0m, in \u001b[0;36mCollection.update_scalarmappable\u001b[0;34m(self)\u001b[0m\n\u001b[1;32m    918\u001b[0m         \u001b[39m# pcolormesh, scatter, maybe others flatten their _A\u001b[39;00m\n\u001b[1;32m    919\u001b[0m         \u001b[39mself\u001b[39m\u001b[39m.\u001b[39m_alpha \u001b[39m=\u001b[39m \u001b[39mself\u001b[39m\u001b[39m.\u001b[39m_alpha\u001b[39m.\u001b[39mreshape(\u001b[39mself\u001b[39m\u001b[39m.\u001b[39m_A\u001b[39m.\u001b[39mshape)\n\u001b[0;32m--> 920\u001b[0m     \u001b[39mself\u001b[39m\u001b[39m.\u001b[39m_mapped_colors \u001b[39m=\u001b[39m \u001b[39mself\u001b[39;49m\u001b[39m.\u001b[39;49mto_rgba(\u001b[39mself\u001b[39;49m\u001b[39m.\u001b[39;49m_A, \u001b[39mself\u001b[39;49m\u001b[39m.\u001b[39;49m_alpha)\n\u001b[1;32m    922\u001b[0m \u001b[39mif\u001b[39;00m \u001b[39mself\u001b[39m\u001b[39m.\u001b[39m_face_is_mapped:\n\u001b[1;32m    923\u001b[0m     \u001b[39mself\u001b[39m\u001b[39m.\u001b[39m_facecolors \u001b[39m=\u001b[39m \u001b[39mself\u001b[39m\u001b[39m.\u001b[39m_mapped_colors\n",
      "File \u001b[0;32m~/Envs/decayangle_dev/lib/python3.12/site-packages/matplotlib/cm.py:430\u001b[0m, in \u001b[0;36mScalarMappable.to_rgba\u001b[0;34m(self, x, alpha, bytes, norm)\u001b[0m\n\u001b[1;32m    428\u001b[0m x \u001b[39m=\u001b[39m ma\u001b[39m.\u001b[39masarray(x)\n\u001b[1;32m    429\u001b[0m \u001b[39mif\u001b[39;00m norm:\n\u001b[0;32m--> 430\u001b[0m     x \u001b[39m=\u001b[39m \u001b[39mself\u001b[39;49m\u001b[39m.\u001b[39;49mnorm(x)\n\u001b[1;32m    431\u001b[0m rgba \u001b[39m=\u001b[39m \u001b[39mself\u001b[39m\u001b[39m.\u001b[39mcmap(x, alpha\u001b[39m=\u001b[39malpha, \u001b[39mbytes\u001b[39m\u001b[39m=\u001b[39m\u001b[39mbytes\u001b[39m)\n\u001b[1;32m    432\u001b[0m \u001b[39mreturn\u001b[39;00m rgba\n",
      "File \u001b[0;32m~/Envs/decayangle_dev/lib/python3.12/site-packages/matplotlib/colors.py:1788\u001b[0m, in \u001b[0;36m_make_norm_from_scale.<locals>.Norm.__call__\u001b[0;34m(self, value, clip)\u001b[0m\n\u001b[1;32m   1786\u001b[0m t_vmin, t_vmax \u001b[39m=\u001b[39m \u001b[39mself\u001b[39m\u001b[39m.\u001b[39m_trf\u001b[39m.\u001b[39mtransform([\u001b[39mself\u001b[39m\u001b[39m.\u001b[39mvmin, \u001b[39mself\u001b[39m\u001b[39m.\u001b[39mvmax])\n\u001b[1;32m   1787\u001b[0m \u001b[39mif\u001b[39;00m \u001b[39mnot\u001b[39;00m np\u001b[39m.\u001b[39misfinite([t_vmin, t_vmax])\u001b[39m.\u001b[39mall():\n\u001b[0;32m-> 1788\u001b[0m     \u001b[39mraise\u001b[39;00m \u001b[39mValueError\u001b[39;00m(\u001b[39m\"\u001b[39m\u001b[39mInvalid vmin or vmax\u001b[39m\u001b[39m\"\u001b[39m)\n\u001b[1;32m   1789\u001b[0m t_value \u001b[39m-\u001b[39m\u001b[39m=\u001b[39m t_vmin\n\u001b[1;32m   1790\u001b[0m t_value \u001b[39m/\u001b[39m\u001b[39m=\u001b[39m (t_vmax \u001b[39m-\u001b[39m t_vmin)\n",
      "\u001b[0;31mValueError\u001b[0m: Invalid vmin or vmax"
     ]
    },
    {
     "data": {
      "text/plain": [
       "<Figure size 640x480 with 2 Axes>"
      ]
     },
     "metadata": {},
     "output_type": "display_data"
    }
   ],
   "source": [
    "from matplotlib.colors import LogNorm\n",
    "a= plt.hist2d(m2_12, m2_23, bins=100, weights=a1/ a2 *weights, norm=LogNorm())\n",
    "plt.colorbar()\n",
    "plt.ylabel(r\"$M(\\Lambda_c\\, K)$\")\n",
    "plt.xlabel(r\"$M(\\Lambda_c \\,D^0)$\")"
   ]
  },
  {
   "cell_type": "code",
   "execution_count": null,
   "metadata": {},
   "outputs": [
    {
     "data": {
      "text/plain": [
       "Text(0.5, 0, '$M(D^0 \\\\, K)$')"
      ]
     },
     "execution_count": 13,
     "metadata": {},
     "output_type": "execute_result"
    },
    {
     "data": {
      "image/png": "[encoded data removed]",
      "text/plain": [
       "<Figure size 640x480 with 2 Axes>"
      ]
     },
     "metadata": {},
     "output_type": "display_data"
    }
   ],
   "source": [
    "a= plt.hist2d(m2_13, m2_23, bins=100, weights=a1/a2*weights, norm=LogNorm())\n",
    "plt.colorbar()\n",
    "plt.ylabel(r\"$M(\\Lambda_c\\, K)$\")\n",
    "plt.xlabel(r\"$M(D^0 \\, K)$\")"
   ]
  },
  {
   "cell_type": "code",
   "execution_count": null,
   "metadata": {},
   "outputs": [],
   "source": [
    "# n, bins, _ = np.histogram2d(m2_13, m2_23, bins=20, weights=full_amplitude *weights)\n",
    "# n2, bins, _ = np.histogram2d(m2_13, m2_23, bins=20, weights=full_amplitude_minus_phi*weights)\n",
    "# plt.imshow(n/n2, aspect='auto')\n",
    "# plt.colorbar()\n",
    "# print(np.min(np.nan_to_num(n/n2, 1.0)), np.max(np.nan_to_num(n/n2, 1.0)))"
   ]
  }
 ],
 "metadata": {
  "kernelspec": {
   "display_name": "decayangle",
   "language": "python",
   "name": "python3"
  },
  "language_info": {
   "codemirror_mode": {
    "name": "ipython",
    "version": 3
   },
   "file_extension": ".py",
   "mimetype": "text/x-python",
   "name": "python",
   "nbconvert_exporter": "python",
   "pygments_lexer": "ipython3",
   "version": "3.12.2"
  }
 },
 "nbformat": 4,
 "nbformat_minor": 2
}
