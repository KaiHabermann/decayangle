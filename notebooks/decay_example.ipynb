{
 "cells": [
  {
   "cell_type": "markdown",
   "metadata": {},
   "source": [
    "# Warning: Unfinished Document. Work in Progress."
   ]
  },
  {
   "cell_type": "code",
   "execution_count": 1,
   "metadata": {},
   "outputs": [
    {
     "name": "stdout",
     "output_type": "stream",
     "text": [
      "Requirement already satisfied: particle in /home/kai/anaconda3/envs/decayangle/lib/python3.12/site-packages (0.23.1)\n",
      "Requirement already satisfied: attrs>=19.2 in /home/kai/anaconda3/envs/decayangle/lib/python3.12/site-packages (from particle) (23.2.0)\n",
      "Requirement already satisfied: hepunits>=2.0.0 in /home/kai/anaconda3/envs/decayangle/lib/python3.12/site-packages (from particle) (2.3.3)\n",
      "Requirement already satisfied: typing-extensions>=4.5 in /home/kai/anaconda3/envs/decayangle/lib/python3.12/site-packages (from particle) (4.10.0)\n",
      "Note: you may need to restart the kernel to use updated packages.\n",
      "Requirement already satisfied: sympy in /home/kai/anaconda3/envs/decayangle/lib/python3.12/site-packages (1.12)\n",
      "Requirement already satisfied: mpmath>=0.19 in /home/kai/anaconda3/envs/decayangle/lib/python3.12/site-packages (from sympy) (1.3.0)\n",
      "Note: you may need to restart the kernel to use updated packages.\n"
     ]
    }
   ],
   "source": [
    "%pip install particle\n",
    "%pip install sympy"
   ]
  },
  {
   "cell_type": "markdown",
   "metadata": {},
   "source": [
    "Lets start by defining a decay. In the code beow you can see how to define a simple utility, which given momenta will be able to calculate all needed rotations.\n",
    "\n",
    "For simplicity we will choose a simple\n",
    "As you see, the isobars are always isolated, meaning no isobar is the predecessor of another isobar. This makes the the full amplitude straightforward to calculate."
   ]
  },
  {
   "cell_type": "code",
   "execution_count": 2,
   "metadata": {},
   "outputs": [
    {
     "name": "stdout",
     "output_type": "stream",
     "text": [
      "Topology: ( 0 -> ( (2, 3) -> 2, 3 ), 1 )\n",
      "Topology: ( 0 -> ( (1, 3) -> 1, 3 ), 2 )\n",
      "Topology: ( 0 -> ( (1, 2) -> 1, 2 ), 3 )\n"
     ]
    }
   ],
   "source": [
    "from decayangle.decay_topology import TopologyCollection, Node, Topology\n",
    "from decayangle.config import config as cfg\n",
    "\n",
    "# We can switch the backend to jax if we like, but this is usually not advisable\n",
    "# Angles should be precomputed and thus jax is slower than numpy in most cases\n",
    "# cfg.backend=\"jax\"\n",
    "# print(cfg.backend)\n",
    "\n",
    "# Find the possible the decay topologies\n",
    "tg = TopologyCollection(0, [1,2,3])\n",
    "for decay_topology in tg.topologies:\n",
    "    print(decay_topology)\n",
    "\n",
    "tg = TopologyCollection(\n",
    "    topologies=[\n",
    "        Topology(0, ((2,3), 1)),\n",
    "        Topology(0, ((3,1), 2)),\n",
    "        Topology(0, ((1,2), 3)),\n",
    "    ]\n",
    ")"
   ]
  },
  {
   "cell_type": "markdown",
   "metadata": {},
   "source": [
    "First lets define some basic utility functions. This is not something you need to understand 100% on the first try.\n",
    "What we do is set up the basic functional setup to be able to perform a three body analysis, which is the simplest case. "
   ]
  },
  {
   "cell_type": "code",
   "execution_count": 3,
   "metadata": {},
   "outputs": [],
   "source": [
    "from typing import NamedTuple, Callable\n",
    "from math import prod\n",
    "from particle import Particle\n",
    "import numpy as np\n",
    "\n",
    "def wigner_small_d(theta, j, m1, m2):\n",
    "    \"\"\"Calculate Wigner small-d function. Needs sympy.\n",
    "      theta : angle\n",
    "      j : spin (in units of 1/2, e.g. 1 for spin=1/2)\n",
    "      m1 and m2 : spin projections (in units of 1/2)\n",
    "\n",
    "    :param theta:\n",
    "    :param j:\n",
    "    :param m1: before rotation\n",
    "    :param m2: after rotation\n",
    "\n",
    "    \"\"\"\n",
    "    from sympy import Rational\n",
    "    from sympy.abc import x\n",
    "    from sympy.utilities.lambdify import lambdify\n",
    "    from sympy.physics.quantum.spin import Rotation as Wigner\n",
    "    j,m1,m2 = int(j),int(m1),int(m2)\n",
    "    d = Wigner.d(Rational(j, 2), Rational(m2, 2), Rational(m1, 2), x).doit().evalf()\n",
    "    d = lambdify(x, d, \"numpy\")(theta)\n",
    "    # d = np.array(d)\n",
    "    # d[np.isnan(d)] = 0\n",
    "    d = np.nan_to_num(d, copy=True, nan=0.0)\n",
    "    return d\n",
    "\n",
    "def wigner_capital_d(phi, theta, psi, j, m1, m2):\n",
    "    return np.exp(-1j*phi * m2) * wigner_small_d(theta, j, m1, m2) * np.exp(-1j*psi * m1) \n",
    "\n",
    "\n",
    "    \n",
    "def BWResonance(spin, mass, width):\n",
    "    \"\"\"Create a Breit-Wigner resonance function for a given spin.\n",
    "    Args:\n",
    "        spin (int): spin quantum number multiplied by 2\n",
    "    \"\"\"\n",
    "    def f(s, L):\n",
    "        return np.sqrt(s) / (s - mass**2 + 1j * mass * width)\n",
    "    return f\n",
    "\n",
    "class resonance:\n",
    "    def __init__(self, spin, parity, mass, width, name, mother:Particle, bachelor:Particle, isobar: tuple):\n",
    "        self.spin = spin\n",
    "        self.mass = mass\n",
    "        self.width = width\n",
    "        self.lineshape = BWResonance(spin, mass, width)\n",
    "        self.parity = parity\n",
    "        self.name = name\n",
    "        self.mother = mother\n",
    "        self.bachelor = bachelor\n",
    "        self.isobar = isobar\n",
    "\n",
    "\n",
    "    @property\n",
    "    def possible_helicities(self):\n",
    "        return list(range(-self.spin, self.spin+1, 2))\n",
    "    \n",
    "    @property\n",
    "    def isbar_spins(self):\n",
    "        return [p.spin for p in self.isobar]\n",
    "    \n",
    "    @property\n",
    "    def isobar_parities(self):\n",
    "        return [p.parity for p in self.isobar]\n",
    "\n",
    "    def LS_couplings_mother_decay(self):\n",
    "        allowed_ls = []\n",
    "        LSCoupling = NamedTuple('LSCoupling', [('L', int), ('S', int), ('coupling', complex)])\n",
    "        for L in range(0, self.mother.spin + self.spin + self.bachelor.spin + 6, 2):\n",
    "            for S in range(abs(L - self.mother.spin), L + self.mother.spin + 1, 2):\n",
    "                if abs(L - S) <= self.mother.spin <= L + S:\n",
    "                    allowed_ls.append((L, S))\n",
    "        return {\n",
    "            f\"{self.name}:motherDecay:L{L}.S{S}\": LSCoupling(L, S, 1 + 0j) for L, S in allowed_ls\n",
    "        }\n",
    "    \n",
    "    def LS_coupling_resonance_decay(self):\n",
    "        allowed_ls = []\n",
    "        LSCoupling = NamedTuple('LSCoupling', [('L', int), ('S', int), ('coupling', complex)])\n",
    "        for L in range(0, self.spin + sum(self.isbar_spins) + self.mother.spin, 2):\n",
    "            for S in range(abs(L - self.spin), L + self.spin + 1, 2):\n",
    "                if abs(L - S) <= self.spin <= L + S: # check J double\n",
    "                    if prod(self.isobar_parities) * (-1)**(L) == self.parity: # check parity\n",
    "                        allowed_ls.append((L, S))\n",
    "        return {\n",
    "            f\"{self.name}:resonanceDecay:L{L}.S{S}\": LSCoupling(L, S, 1 + 0j) for L, S in allowed_ls\n",
    "        }\n",
    "            \n",
    "    def clebsch_gordan(self, j1, m1, j2, m2, J, M):\n",
    "        \"\"\"\n",
    "        Return clebsch-Gordan coefficient. Note that all arguments should be multiplied by 2\n",
    "        (e.g. 1 for spin 1/2, 2 for spin 1 etc.). Needs sympy.\n",
    "        \"\"\"\n",
    "        from sympy.physics.quantum.cg import CG\n",
    "        from sympy import Rational\n",
    "        cg = CG(\n",
    "                Rational(j1, 2),\n",
    "                Rational(m1, 2),\n",
    "                Rational(j2, 2),\n",
    "                Rational(m2, 2),\n",
    "                Rational(J, 2),\n",
    "                Rational(M, 2),\n",
    "            ).doit().evalf()\n",
    "        cg = float(cg)\n",
    "        if str(cg) == \"nan\":\n",
    "            raise ValueError(f\"CG({j1/2},{m1/2},{j2/2},{m2/2},{J/2},{M/2}) is not a number\")\n",
    "        return cg\n",
    "    \n",
    "    def helicity_coupling_times_lineshape(self, s, hi_, hj_, convention=\"helicity\"):\n",
    "        ls_resonance_decay = self.LS_coupling_resonance_decay()\n",
    "        pi, pj = self.isobar\n",
    "        h = sum(\n",
    "            ls.coupling * self.lineshape(s, ls.L) * \n",
    "            self.clebsch_gordan(pi.spin, hi_, pj.spin, -hj_, ls.S,hi_ - hj_) * \n",
    "            self.clebsch_gordan(ls.S, hi_ - hj_, ls.L, 0 , self.spin, hi_ - hj_)\n",
    "            for ls in ls_resonance_decay.values()\n",
    "        )\n",
    "        if convention == \"minus_phi\":\n",
    "            # TODO insert phase difference here\n",
    "            pass\n",
    "\n",
    "        return h * (-1)**(pj.spin - hj_)\n",
    "\n",
    "    \n",
    "    \n",
    "    def h_mother(self,hk_, hiso_, convention=\"helicity\") -> float:\n",
    "        \"\"\"\n",
    "        Calculate the helicity amplitude for the mother particle decay.\n",
    "        The phase is (-1)**(pk.spin - hk_) comes as a consequence of the definition of the two particle state.\n",
    "        H = (-1)**(pk.spin - hk_) H_tilde\n",
    "        H_tilde = sum_{ls} coupling_ls * CG(pi.spin, hi_, pj.spin, -hj_, ls.S, hi_ - hj_) * CG(ls.S, hi_ - hj_, ls.L, 0, J, hi_ - hj_)\n",
    "        H_tilde = \n",
    "        \"\"\"\n",
    "        mother_decay = self.LS_couplings_mother_decay()\n",
    "        pk = self.bachelor\n",
    "        h= sum(\n",
    "            ls.coupling *  self.clebsch_gordan(self.spin, hiso_, pk.spin, -hk_, ls.S, hiso_ - hk_) * self.clebsch_gordan(ls.S, hiso_ - hk_, ls.L, 0 , self.mother.spin, hiso_ - hk_)\n",
    "            for ls in mother_decay.values()\n",
    "        ) \n",
    "        \n",
    "        if convention == \"minus_phi\":\n",
    "            # TODO insert phase difference here\n",
    "            pass\n",
    "        \n",
    "        return h* (-1)**(pk.spin - hk_) \n",
    "\n",
    "possible_helicities = lambda spin: list(range(-spin, spin+1, 2))"
   ]
  },
  {
   "cell_type": "markdown",
   "metadata": {},
   "source": [
    "The particle porperites can be fetched directly from the PDG, with the help of the particles project.\n",
    "\n",
    "We go for a decay of $\\Lambda_b \\rightarrow \\Lambda_c^+ \\overline{D}^0 K^-$"
   ]
  },
  {
   "cell_type": "code",
   "execution_count": 4,
   "metadata": {},
   "outputs": [
    {
     "name": "stdout",
     "output_type": "stream",
     "text": [
      "Particle 0: Lambda(b)0 spin: 1 helicities: [-1, 1]\n",
      "Particle 1: D0 spin: 0 helicities: [0]\n",
      "Particle 2: Lambda(c)+ spin: 1 helicities: [-1, 1]\n",
      "Particle 3: K- spin: 0 helicities: [0]\n"
     ]
    }
   ],
   "source": [
    "# shortcut to get the pdg parameters for our particles\n",
    "class particle:\n",
    "    def __init__(self, p):\n",
    "        self.p = p \n",
    "    \n",
    "    @property\n",
    "    def spin(self):\n",
    "        return int(self.p.J * 2)\n",
    "\n",
    "    @property\n",
    "    def parity(self):\n",
    "        return self.p.P\n",
    "\n",
    "    def __getattr__(self, attr):\n",
    "        return getattr(self.p, attr)\n",
    "    \n",
    "    def helicities(self):\n",
    "        return possible_helicities(self.spin)\n",
    "\n",
    "p0 = particle(Particle.findall('Lambda(b)0')[0])\n",
    "p1 = particle(Particle.findall('D0')[0])\n",
    "p2 = particle(Particle.findall('Lambda(c)+')[0])\n",
    "p3 = particle(Particle.findall('K-')[0])\n",
    "\n",
    "particles = {\n",
    "    0: p0,\n",
    "    1: p1,\n",
    "    2: p2,\n",
    "    3: p3\n",
    "}\n",
    "\n",
    "for i in range(4):\n",
    "    print(f\"Particle {i}: {particles[i].name} spin: {particles[i].spin} helicities: {particles[i].helicities()}\")\n"
   ]
  },
  {
   "cell_type": "markdown",
   "metadata": {},
   "source": [
    "Now we have the main components for the amplitude. We can describe the lineshape for as single resonance, we can compute helicity couplings and we can calculate all the angles. Only thing left to do is write the loops for the sums. The final form should look somewhat like this:\n",
    "\n",
    "$\\sum_{\\mathrm{topologys}}\\sum_{\\{\\lambda\\}}\\sum_{\\{\\lambda^{'}\\}} R(m,\\{\\lambda^{'}\\}) d(\\theta, \\lambda_k^{'}, \\lambda_{ij}^{'}) d(\\phi_1,\\lambda^{'}_1,\\lambda_1)d(\\phi_2,\\lambda^{'}_2,\\lambda_2)d(\\phi_3,\\lambda^{'}_3,\\lambda_3)$\n",
    "\n",
    "This simply describes the sum over all different possible decay topologys, and the sum over all possible helicities.\n",
    "A second sum over the primes helicities $\\{\\lambda^{'}\\}$ in conjunction with the wigner rotation $d(\\theta, \\lambda_k^{'}, \\lambda_{ij}^{'})$ describes the needed basis change after the rotation to move the $(ij)$ isobar onto the z axis.\n",
    "\n",
    "The rotations $d(\\phi_1,\\lambda^{'}_1,\\lambda_1)d(\\phi_2,\\lambda^{'}_2,\\lambda_2)d(\\phi_3,\\lambda^{'}_3,\\lambda_3)$ describe the rotations rotating the final states of the different chains to a common constellation.\n",
    "\n",
    "The $R(m,\\{\\lambda^{'}\\})$ is the lineshape of the resonance together with the couplings $H_{0 \\rightarrow (ij)\\, k}^{\\lambda_0, \\lambda_{(ij) }- \\lambda_k} \\cdot X(m,L) \\cdot H_{(ij) \\rightarrow i\\, j}^{\\lambda_{(ij)}, \\lambda_i^{'} - \\lambda_j^{'}}$. \n",
    "The couplings $H$ are called helicity couplings "
   ]
  },
  {
   "cell_type": "code",
   "execution_count": 5,
   "metadata": {},
   "outputs": [
    {
     "name": "stderr",
     "output_type": "stream",
     "text": [
      "2024-08-12 15:51:59.859470: W tensorflow/compiler/tf2tensorrt/utils/py_utils.cc:38] TF-TRT Warning: Could not find TensorRT\n",
      "2024-08-12 15:52:00.923839: W tensorflow/core/common_runtime/gpu/gpu_device.cc:2251] Cannot dlopen some GPU libraries. Please make sure the missing libraries mentioned above are installed properly if you would like to use GPU. Follow the guide at https://www.tensorflow.org/install/gpu for how to download and setup the required libraries for your platform.\n",
      "Skipping registering GPU devices...\n",
      "WARNING: All log messages before absl::InitializeLog() is called are written to STDERR\n",
      "I0000 00:00:1723470721.377477 2504585 service.cc:145] XLA service 0x7fee9c0063e0 initialized for platform Host (this does not guarantee that XLA will be used). Devices:\n",
      "I0000 00:00:1723470721.378174 2504585 service.cc:153]   StreamExecutor device (0): Host, Default Version\n",
      "I0000 00:00:1723470721.491976 2504586 device_compiler.h:188] Compiled cluster using XLA!  This line is logged at most once for the lifetime of the process.\n"
     ]
    }
   ],
   "source": [
    "import phasespace as phsp\n",
    "\n",
    "def generate_momenta(n=1_000):\n",
    "    weights, p = phsp.nbody_decay(particles[0].mass, [\n",
    "    particles[1].mass,\n",
    "    particles[2].mass,\n",
    "    particles[3].mass\n",
    "    ]).generate(n, seed=1)\n",
    "\n",
    "\n",
    "    momenta = {\n",
    "        i + 1: np.array(p[f\"p_{i}\"])\n",
    "            for i, _ in enumerate( [1,2,3])\n",
    "    }\n",
    "    return momenta, weights\n",
    "\n",
    "momenta, weights = generate_momenta(10)\n"
   ]
  },
  {
   "cell_type": "markdown",
   "metadata": {},
   "source": [
    "Next we want to define the structure of the amplitude"
   ]
  },
  {
   "cell_type": "code",
   "execution_count": 6,
   "metadata": {},
   "outputs": [],
   "source": [
    "reference_topology = tg.topologies[0]\n",
    "momenta = reference_topology.to_rest_frame(momenta)\n",
    "momenta = reference_topology.align_with_daughter(momenta)\n",
    "\n",
    "# We can define resonances based on the isobar they can appear in \n",
    "resonance_lineshapes = {\n",
    "    (1, 3): [ \n",
    "                resonance(0, 1, 2800, 30, 'D2800', p0, p2, (p1, p3)),\n",
    "                # resonance(1, 1, 2800, 80, 'D2800', p0, p2, (p1, p3)) \n",
    "            ], \n",
    "    (2 ,3): [\n",
    "                resonance(1, -1, 2900, 20, 'Xi_c', p0, p1, (p2, p3)),\n",
    "                resonance(3, -1, 3200, 20, 'Xi_c2', p0, p1, (p2, p3)),\n",
    "                # resonance(5, -1, 3600, 20, 'Xi_c2', p0, p1, (p2, p3)),\n",
    "                # resonance(5, -1, 3500, 20, 'Xi_c2', p0, p1, (p2, p3)),\n",
    "                # resonance(5, -1, 3100, 20, 'Xi_c2', p0, p1, (p2, p3)),\n",
    "\n",
    "            ]   \n",
    "    }"
   ]
  },
  {
   "cell_type": "markdown",
   "metadata": {},
   "source": [
    "Now we need to get the values for our rotations. For this we can simply iterate through all the possible decay topologys, the ```TopologyCollection``` Object generates for us."
   ]
  },
  {
   "cell_type": "code",
   "execution_count": 7,
   "metadata": {},
   "outputs": [
    {
     "name": "stderr",
     "output_type": "stream",
     "text": [
      "/home/kai/LHCb/decayangle/src/decayangle/kinematics.py:376: RuntimeWarning: invalid value encountered in divide\n",
      "  cosine_input = cb.where(abs(abs_mom) <= tol, 0, z_component(v) / abs_mom)\n"
     ]
    }
   ],
   "source": [
    "for topology in tg.topologies:\n",
    "        final_state_rotations = reference_topology.relative_wigner_angles(topology, momenta)\n",
    "        isobars = topology.helicity_angles(momenta)\n",
    "\n",
    "topo = tg.topologies[0]\n",
    "h = topo.helicity_angles(momenta)"
   ]
  },
  {
   "cell_type": "markdown",
   "metadata": {},
   "source": [
    "For each topology, we see, that we get exactly one isobar constellation. We also see, that of the two angles we compute, only one is non 0 (or $\\pi$).\n",
    "\n",
    "This is expected, as we are already in the decay plane. Thus this angle should go to 0. Computing it could be left out."
   ]
  },
  {
   "cell_type": "code",
   "execution_count": 8,
   "metadata": {},
   "outputs": [],
   "source": [
    "from functools import partial\n",
    "\n",
    "# particle 1 \n",
    "spin1 = p1.spin\n",
    "helicities1 = possible_helicities(spin1)\n",
    "\n",
    "# particle 2\n",
    "spin2 = p2.spin\n",
    "helicities2 = possible_helicities(spin2)\n",
    "\n",
    "# particle 3\n",
    "spin3 = p3.spin\n",
    "helicities3 = possible_helicities(spin3)\n",
    "\n",
    "spin0 = p0.spin\n",
    "helicities0 = possible_helicities(spin0)\n",
    "\n",
    "# precompute the angles\n",
    "final_state_rotations = {\n",
    "    topology.tuple: reference_topology.relative_wigner_angles(topology, momenta)\n",
    "    for topology in tg.topologies\n",
    "}\n",
    "helicity_angles = {\n",
    "    topology.tuple: topology.helicity_angles(momenta)\n",
    "    for topology in tg.topologies\n",
    "}\n",
    "\n",
    "def f(h0, h1, h2, h3, resonance_lineshapes=resonance_lineshapes):\n",
    "    helicity_list = [h0, h1, h2, h3]\n",
    "    spin_list = [spin0, spin1, spin2, spin3]\n",
    "    amplitude = 0\n",
    "    for topology in tg.topologies:\n",
    "        final_state_rotation = final_state_rotations[topology.tuple]\n",
    "        isobars = helicity_angles[topology.tuple]\n",
    "        for (isobar, bachelor), (phi, theta) in isobars.items():\n",
    "            if isobar not in resonance_lineshapes:\n",
    "                # guard clause against key errors\n",
    "                continue\n",
    "            # determinethe correct helicities\n",
    "            (i,j), k = isobar, bachelor\n",
    "            hi ,hj, hk = helicity_list[i], helicity_list[j], helicity_list[k]\n",
    "            si, sj, sk = spin_list[i], spin_list[j], spin_list[k]\n",
    "            \n",
    "            theta_ij = isobars[isobar].theta_rf\n",
    "            phi_ij = isobars[isobar].phi_rf\n",
    "\n",
    "            amplitude += sum(\n",
    "                resonance.helicity_coupling_times_lineshape(topology.nodes[isobar].mass(momenta)**2,hi_, hj_) * \n",
    "                wigner_capital_d(phi, theta, 0 ,spin0, h0,  h_iso - hk_) * # mother decay\n",
    "                wigner_capital_d(phi_ij, theta_ij, 0, resonance.spin, h_iso,hi_-hj)* # isobar decay\n",
    "                wigner_capital_d(*final_state_rotation[i], si, hi, hi_) * \n",
    "                wigner_capital_d(*final_state_rotation[j], sj, hj, hj_) * \n",
    "                wigner_capital_d(*final_state_rotation[k], sk, hk, hk_) * \n",
    "                resonance.h_mother(hk_, h_iso)\n",
    "                for resonance in resonance_lineshapes.get(isobar, [])\n",
    "                for h_iso in resonance.possible_helicities\n",
    "                for hk_ in particles[bachelor].helicities()\n",
    "                for hi_ in particles[i].helicities()\n",
    "                for hj_ in particles[j].helicities()\n",
    "            )\n",
    "    return amplitude\n"
   ]
  },
  {
   "cell_type": "code",
   "execution_count": 9,
   "metadata": {},
   "outputs": [],
   "source": [
    "# precompute the angles\n",
    "final_state_rotations_minus_phi = {\n",
    "    topology.tuple: reference_topology.relative_wigner_angles(topology, momenta, convention='minus_phi')\n",
    "    for topology in tg.topologies\n",
    "}\n",
    "helicity_angles_minus_phi = {\n",
    "    topology.tuple: topology.helicity_angles(momenta, convention='minus_phi')\n",
    "    for topology in tg.topologies\n",
    "}\n",
    "\n",
    "def f_minus_phi(h0, h1, h2, h3, resonance_lineshapes=resonance_lineshapes):\n",
    "    helicity_list = [h0, h1, h2, h3]\n",
    "    spin_list = [spin0, spin1, spin2, spin3]\n",
    "    amplitude = 0\n",
    "    for topology in tg.topologies:\n",
    "        final_state_rotation = final_state_rotations_minus_phi[topology.tuple]\n",
    "        isobars = helicity_angles_minus_phi[topology.tuple]\n",
    "        for (isobar, bachelor), (phi, theta) in isobars.items():\n",
    "            if isobar not in resonance_lineshapes:\n",
    "                # guard clause against key errors\n",
    "                continue\n",
    "            # determinethe correct helicities\n",
    "            (i,j), k = isobar, bachelor\n",
    "            hi ,hj, hk = helicity_list[i], helicity_list[j], helicity_list[k]\n",
    "            si, sj, sk = spin_list[i], spin_list[j], spin_list[k]\n",
    "            \n",
    "            theta_ij = isobars[isobar].theta_rf\n",
    "            phi_ij = isobars[isobar].phi_rf\n",
    "\n",
    "            amplitude += sum(\n",
    "                resonance.helicity_coupling_times_lineshape(topology.nodes[isobar].mass(momenta)**2,hi_, hj_, convention=\"minus_phi\") * \n",
    "                wigner_capital_d(phi, theta, -phi ,spin0, h0,  h_iso - hk_) * # mother decay\n",
    "                wigner_capital_d(phi_ij, theta_ij, -phi_ij, resonance.spin, h_iso,hi_-hj_)* # isobar decay\n",
    "                wigner_capital_d(*final_state_rotation[i], si, hi, hi_) * \n",
    "                wigner_capital_d(*final_state_rotation[j], sj, hj, hj_) * \n",
    "                wigner_capital_d(*final_state_rotation[k], sk, hk, hk_) * \n",
    "                resonance.h_mother(hk_, h_iso,convention=\"minus_phi\")\n",
    "                for resonance in resonance_lineshapes.get(isobar, [])\n",
    "                for h_iso in resonance.possible_helicities\n",
    "                for hk_ in particles[bachelor].helicities()\n",
    "                for hi_ in particles[i].helicities()\n",
    "                for hj_ in particles[j].helicities()\n",
    "            )\n",
    "    return amplitude\n"
   ]
  },
  {
   "cell_type": "code",
   "execution_count": 10,
   "metadata": {},
   "outputs": [],
   "source": [
    "import matplotlib.pyplot as plt\n",
    "from decayangle.kinematics import mass_squared\n",
    "\n",
    "m2_12 = mass_squared(momenta[1] + momenta[2])**0.5\n",
    "m2_13 = mass_squared(momenta[1] + momenta[3])**0.5\n",
    "m2_23 = mass_squared(momenta[2] + momenta[3])**0.5\n"
   ]
  },
  {
   "cell_type": "code",
   "execution_count": 16,
   "metadata": {},
   "outputs": [
    {
     "name": "stdout",
     "output_type": "stream",
     "text": [
      "[1. 1. 1. 1. 1. 1. 1. 1. 1. 1.]\n",
      "[0.55113598 1.21661467 0.48179646 1.99929375 1.38318565 1.89551324\n",
      " 0.86621391 0.83223117 1.04418585 1.70130778]\n"
     ]
    }
   ],
   "source": [
    "resonance_lineshapes_1 = {\n",
    "    (1, 3): [ \n",
    "                # resonance(0, 1, 2800, 30, 'D2800', p0, p2, (p1, p3)),\n",
    "                # resonance(1, 1, 2800, 80, 'D2800', p0, p2, (p1, p3)) \n",
    "            ], \n",
    "    (2 ,3): [\n",
    "                resonance(1, -1, 2900, 20, 'Xi_c', p0, p1, (p2, p3)),\n",
    "                resonance(3, -1, 3200, 20, 'Xi_c2', p0, p1, (p2, p3)),\n",
    "                resonance(5, -1, 3600, 20, 'Xi_c2', p0, p1, (p2, p3)),\n",
    "                # resonance(5, -1, 3500, 20, 'Xi_c2', p0, p1, (p2, p3)),\n",
    "                # resonance(5, -1, 3100, 20, 'Xi_c2', p0, p1, (p2, p3)),\n",
    "\n",
    "            ]   \n",
    "    }\n",
    "\n",
    "resonance_lineshapes_2 = {\n",
    "    (1, 3): [ \n",
    "                resonance(0, 1, 2800, 30, 'D2800', p0, p2, (p1, p3)),\n",
    "                resonance(2, 1, 2800, 80, 'D2800', p0, p2, (p1, p3)) ,\n",
    "                # resonance(2, 1, 2850, 80, 'D2800', p0, p2, (p1, p3)) ,\n",
    "                # resonance(0, 1, 2800, 80, 'D2800', p0, p2, (p1, p3)) ,\n",
    "                # resonance(2, 1, 2800, 80, 'D2800', p0, p2, (p1, p3)) ,\n",
    "\n",
    "\n",
    "            ], \n",
    "    (2 ,3): [\n",
    "                resonance(1, -1, 2900, 30, 'Xi_c', p0, p1, (p2, p3)),\n",
    "                resonance(3, -1, 3200, 60, 'Xi_c2', p0, p1, (p2, p3)),\n",
    "                resonance(5, -1, 3600, 40, 'Xi_c2', p0, p1, (p2, p3)),\n",
    "                # resonance(5, -1, 3500, 60, 'Xi_c2', p0, p1, (p2, p3)),\n",
    "                # resonance(5, -1, 3100, 20, 'Xi_c2', p0, p1, (p2, p3)),\n",
    "\n",
    "            ]   \n",
    "    }\n",
    "\n",
    "\n",
    "def unpolarized(f, resonances):\n",
    "    return sum(\n",
    "        abs(f(l1, l2, l3, l4, resonance_lineshapes=resonances))**2\n",
    "        for l1 in helicities0\n",
    "        for l2 in helicities1\n",
    "        for l3 in helicities2\n",
    "        for l4 in helicities3\n",
    "    )\n",
    "a2_1 = unpolarized(f, resonance_lineshapes_1)\n",
    "a2_2 = unpolarized(f_minus_phi, resonance_lineshapes_1)\n",
    "print(a2_1/a2_2)\n",
    "\n",
    "\n",
    "a1_1 = unpolarized(f, resonance_lineshapes_2)\n",
    "a1_2 = unpolarized(f_minus_phi, resonance_lineshapes_2)\n",
    "\n",
    "print(a1_1/a1_2)"
   ]
  },
  {
   "cell_type": "code",
   "execution_count": 12,
   "metadata": {},
   "outputs": [
    {
     "data": {
      "text/plain": [
       "Text(0.5, 0, '$M(\\\\Lambda_c \\\\,D^0)$')"
      ]
     },
     "execution_count": 12,
     "metadata": {},
     "output_type": "execute_result"
    },
    {
     "data": {
      "image/png": "[encoded data removed]",
      "text/plain": [
       "<Figure size 640x480 with 2 Axes>"
      ]
     },
     "metadata": {},
     "output_type": "display_data"
    }
   ],
   "source": [
    "from matplotlib.colors import LogNorm\n",
    "a= plt.hist2d(m2_12, m2_23, bins=100, weights=a1/ a2 *weights, norm=LogNorm())\n",
    "plt.colorbar()\n",
    "plt.ylabel(r\"$M(\\Lambda_c\\, K)$\")\n",
    "plt.xlabel(r\"$M(\\Lambda_c \\,D^0)$\")"
   ]
  },
  {
   "cell_type": "code",
   "execution_count": 13,
   "metadata": {},
   "outputs": [
    {
     "data": {
      "text/plain": [
       "Text(0.5, 0, '$M(D^0 \\\\, K)$')"
      ]
     },
     "execution_count": 13,
     "metadata": {},
     "output_type": "execute_result"
    },
    {
     "data": {
      "image/png": "[encoded data removed]",
      "text/plain": [
       "<Figure size 640x480 with 2 Axes>"
      ]
     },
     "metadata": {},
     "output_type": "display_data"
    }
   ],
   "source": [
    "a= plt.hist2d(m2_13, m2_23, bins=100, weights=a1/a2*weights, norm=LogNorm())\n",
    "plt.colorbar()\n",
    "plt.ylabel(r\"$M(\\Lambda_c\\, K)$\")\n",
    "plt.xlabel(r\"$M(D^0 \\, K)$\")"
   ]
  },
  {
   "cell_type": "code",
   "execution_count": 14,
   "metadata": {},
   "outputs": [],
   "source": [
    "# n, bins, _ = np.histogram2d(m2_13, m2_23, bins=20, weights=full_amplitude *weights)\n",
    "# n2, bins, _ = np.histogram2d(m2_13, m2_23, bins=20, weights=full_amplitude_minus_phi*weights)\n",
    "# plt.imshow(n/n2, aspect='auto')\n",
    "# plt.colorbar()\n",
    "# print(np.min(np.nan_to_num(n/n2, 1.0)), np.max(np.nan_to_num(n/n2, 1.0)))"
   ]
  }
 ],
 "metadata": {
  "kernelspec": {
   "display_name": "decayangle",
   "language": "python",
   "name": "python3"
  },
  "language_info": {
   "codemirror_mode": {
    "name": "ipython",
    "version": 3
   },
   "file_extension": ".py",
   "mimetype": "text/x-python",
   "name": "python",
   "nbconvert_exporter": "python",
   "pygments_lexer": "ipython3",
   "version": "3.12.2"
  }
 },
 "nbformat": 4,
 "nbformat_minor": 2
}
