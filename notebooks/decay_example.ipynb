{
 "cells": [
  {
   "cell_type": "code",
   "execution_count": 2,
   "metadata": {},
   "outputs": [
    {
     "name": "stdout",
     "output_type": "stream",
     "text": [
      "Requirement already satisfied: particle in /home/kai/anaconda3/envs/decayangle_dev/lib/python3.11/site-packages (0.23.1)\n",
      "Requirement already satisfied: attrs>=19.2 in /home/kai/anaconda3/envs/decayangle_dev/lib/python3.11/site-packages (from particle) (23.2.0)\n",
      "Requirement already satisfied: hepunits>=2.0.0 in /home/kai/anaconda3/envs/decayangle_dev/lib/python3.11/site-packages (from particle) (2.3.3)\n",
      "Requirement already satisfied: typing-extensions>=4.5 in /home/kai/anaconda3/envs/decayangle_dev/lib/python3.11/site-packages (from particle) (4.10.0)\n",
      "Note: you may need to restart the kernel to use updated packages.\n",
      "Requirement already satisfied: sympy in /home/kai/anaconda3/envs/decayangle_dev/lib/python3.11/site-packages (1.12)\n",
      "Requirement already satisfied: mpmath>=0.19 in /home/kai/anaconda3/envs/decayangle_dev/lib/python3.11/site-packages (from sympy) (1.3.0)\n",
      "Note: you may need to restart the kernel to use updated packages.\n"
     ]
    }
   ],
   "source": [
    "%pip install particle\n",
    "%pip install sympy"
   ]
  },
  {
   "cell_type": "markdown",
   "metadata": {},
   "source": [
    "Lets start by defining a decay. In the code beow you can see how to define a simple utility, which given momenta will be able to claculate all needed rotations.\n",
    "\n",
    "For simplicity we will choose a simple\n",
    "As you see, the isobars are allways isolated, meaning no isobar is the predecessor of another isobar. This makes the the full amplitude straightforward to calculate."
   ]
  },
  {
   "cell_type": "code",
   "execution_count": 3,
   "metadata": {},
   "outputs": [
    {
     "name": "stdout",
     "output_type": "stream",
     "text": [
      "( 0 -> 1, ( (2, 3) -> 2, 3 ) )\n",
      "( 0 -> 2, ( (1, 3) -> 1, 3 ) )\n",
      "( 0 -> ( (1, 2) -> 1, 2 ), 3 )\n"
     ]
    }
   ],
   "source": [
    "from decayangle.DecayTopology import TopologyGroup, Node\n",
    "import numpy as np\n",
    "\n",
    "# Find the possible the decay topologies\n",
    "tg = TopologyGroup(0, [1,2,3])\n",
    "for decay_tree in tg.trees:\n",
    "    print(decay_tree)"
   ]
  },
  {
   "cell_type": "markdown",
   "metadata": {},
   "source": [
    "First lets define some basic utility functions. This is not something you need to understand 100% on the first try.\n",
    "What we do is set up the basic functional setup to be able to perform a three body analysis, which is the simplest case. "
   ]
  },
  {
   "cell_type": "code",
   "execution_count": 4,
   "metadata": {},
   "outputs": [],
   "source": [
    "from typing import NamedTuple, Callable\n",
    "from math import prod\n",
    "from particle import Particle\n",
    "\n",
    "\n",
    "def wigner_small_d(theta, j, m1, m2):\n",
    "    \"\"\"Calculate Wigner small-d function. Needs sympy.\n",
    "      theta : angle\n",
    "      j : spin (in units of 1/2, e.g. 1 for spin=1/2)\n",
    "      m1 and m2 : spin projections (in units of 1/2)\n",
    "\n",
    "    :param theta:\n",
    "    :param j:\n",
    "    :param m1: before rotation\n",
    "    :param m2: after rotation\n",
    "\n",
    "    \"\"\"\n",
    "    from sympy import Rational\n",
    "    from sympy.abc import x\n",
    "    from sympy.utilities.lambdify import lambdify\n",
    "    from sympy.physics.quantum.spin import Rotation as Wigner\n",
    "    j,m1,m2 = int(j),int(m1),int(m2)\n",
    "    # TODO: check if this is correct (the order of the m1 and m2)\n",
    "    d = Wigner.d(Rational(j, 2), Rational(m2, 2), Rational(m1, 2), x).doit().evalf()\n",
    "\n",
    "    return lambdify(x, d, \"jax\")(theta)\n",
    "\n",
    "    \n",
    "def BWResonance(spin, mass, width):\n",
    "    \"\"\"Create a Breit-Wigner resonance function for a given spin.\n",
    "    Args:\n",
    "        spin (int): spin quantum number multiplied by 2\n",
    "    \"\"\"\n",
    "    spin_config = list(range(-spin, spin+1, 2))\n",
    "    def f(s, h0, h1, h2, psi_rf, theta_rf):\n",
    "        return wigner_small_d(theta_rf, spin, h0, h1 - h2) * np.sqrt(s) / (s - mass**2 + 1j * mass * width)\n",
    "    \n",
    "    return f\n",
    "\n",
    "class resonance:\n",
    "    def __init__(self, spin, parity, mass, width, name, mother:Particle, bachelor:Particle, isobar: tuple):\n",
    "        self.spin = spin\n",
    "        self.mass = mass\n",
    "        self.width = width\n",
    "        self.lineshape = BWResonance(spin, mass, width)\n",
    "        self.parity = parity\n",
    "        self.name = name\n",
    "        self.mother = mother\n",
    "        self.bachelor = bachelor\n",
    "        self.isobar = isobar\n",
    "\n",
    "\n",
    "    @property\n",
    "    def possible_helicities(self):\n",
    "        return list(range(-self.spin, self.spin+1, 2))\n",
    "    \n",
    "    @property\n",
    "    def isbar_spins(self):\n",
    "        return [p.spin for p in self.isobar]\n",
    "    \n",
    "    def isobar_parities(self):\n",
    "        return [p.parity for p in self.isobar]\n",
    "\n",
    "    def LS_couplings_mother_decay(self):\n",
    "        allowed_ls = []\n",
    "        LSCoupling = NamedTuple('LSCoupling', [('L', int), ('S', int), ('coupling', complex)])\n",
    "        for L in range(0, self.mother.spin + self.spin + self.bachelor.spin + 1, 2):\n",
    "            for S in range(abs(L - self.mother.spin), L + self.mother.spin + 1, 2):\n",
    "                if abs(L - S) <= self.mother_spin <= L + S:\n",
    "                    allowed_ls.append((L, S))\n",
    "        return {\n",
    "            f\"{self.name}:motherDecay:L{L}.S{S}\": LSCoupling(L, S, 0 + 0j) for L, S in allowed_ls\n",
    "        }\n",
    "    \n",
    "    def LS_coupling_resonance_decay(self):\n",
    "        allowed_ls = []\n",
    "        LSCoupling = NamedTuple('LSCoupling', [('L', int), ('S', int), ('coupling', complex)])\n",
    "        for L in range(0, self.spin + sum(self.isbar_spins), 2):\n",
    "            for S in range(abs(L - self.spin), L + self.spin + 1, 2):\n",
    "                if abs(L - S) <= self.spin <= L + S: # check J double\n",
    "                    if prod(self.isobar_parities) * (-1)**(L) == self.parity: # check parity\n",
    "                        allowed_ls.append((L, S))\n",
    "        return {\n",
    "            f\"{self.name}:resonanceDecay:L{L}.S{S}\": LSCoupling(L, S, 0 + 0j) for L, S in allowed_ls\n",
    "        }\n",
    "    \n",
    "    def h(self, LSmother_decay:dict, LSresonance_decay:dict) -> float:\n",
    "        # TODO: calculate the h values from the LS values and  clebsch gordans\n",
    "        return 1.\n",
    "\n",
    "        \n",
    "\n",
    "possible_helicities = lambda spin: list(range(-spin, spin+1, 2))"
   ]
  },
  {
   "cell_type": "code",
   "execution_count": 5,
   "metadata": {},
   "outputs": [],
   "source": [
    "# shortcut to get the pdg parameters for our particles\n",
    "class particle:\n",
    "    def __init__(self, p):\n",
    "        self.p = p \n",
    "    \n",
    "    @property\n",
    "    def spin(self):\n",
    "        return int(self.p.J * 2)\n",
    "\n",
    "    @property\n",
    "    def parity(self):\n",
    "        return self.p.P\n",
    "\n",
    "    def __getattr__(self, attr):\n",
    "        return getattr(self.p, attr)\n",
    "\n",
    "p0 = particle(Particle.findall('Lambda(b)0')[0])\n",
    "p1 = particle(Particle.findall('D0')[0])\n",
    "p2 = particle(Particle.findall('Lambda(c)+')[0])\n",
    "p3 = particle(Particle.findall('K-')[0])\n",
    "\n",
    "particles = {\n",
    "    0: p0,\n",
    "    1: p1,\n",
    "    2: p2,\n",
    "    3: p3\n",
    "}\n"
   ]
  },
  {
   "cell_type": "markdown",
   "metadata": {},
   "source": [
    "Now we have the main components for the amplitude. We can describe the lineshape for as single resonance, we can compute helicity couplings and we can calculate all the angles. Only thing left to do is write the loops for the sums. The final form should look somewhat like this:\n",
    "\n",
    "$\\sum_{\\mathrm{trees}}\\sum_{\\{\\lambda\\}}\\sum_{\\{\\lambda^{'}\\}} R(m,\\{\\lambda^{'}\\}) d(\\theta, \\lambda_k^{'}, \\lambda_{ij}^{'}) d(\\phi_1,\\lambda^{'}_1,\\lambda_1)d(\\phi_2,\\lambda^{'}_2,\\lambda_2)d(\\phi_3,\\lambda^{'}_3,\\lambda_3)$\n",
    "\n",
    "This simply describes the sum over all different possible decay trees, and the sum over all possible helicities.\n",
    "A second sum over the primes helicities $\\{\\lambda^{'}\\}$ in conjuction with the wigner roatation $d(\\theta, \\lambda_k^{'}, \\lambda_{ij}^{'})$ describes the needed basis change after the rotation to move the $(ij)$ isobar onto the z axis.\n",
    "\n",
    "The rotations $d(\\phi_1,\\lambda^{'}_1,\\lambda_1)d(\\phi_2,\\lambda^{'}_2,\\lambda_2)d(\\phi_3,\\lambda^{'}_3,\\lambda_3)$ describe the rotations rotating the final states of the different chains to a common constellation.\n",
    "\n",
    "The $R(m,\\{\\lambda^{'}\\})$ is the lineshape of the resonance together with the couplings $H_{0 \\rightarrow (ij)\\, k}^{\\lambda_0, \\lambda_{(ij) - \\lambda_k}} \\cdot X(m,L) \\cdot H_{(ij) \\rightarrow i\\, j}^{\\lambda_{(ij)}, \\lambda_i^{'} - \\lambda_j^{'}}$. \n",
    "The couplings $H$ are alled helicity couplings "
   ]
  },
  {
   "cell_type": "code",
   "execution_count": 6,
   "metadata": {},
   "outputs": [],
   "source": [
    "momenta = { \n",
    "    1: np.array([0, 0, -0.9, 1]),\n",
    "    2: np.array([0, 0.15, 0.4,1]),\n",
    "    3: np.array([ 0, 0.3, 0.3,1]),\n",
    "}\n",
    "\n",
    "reference_tree = tg.trees[0]\n",
    "momenta = reference_tree.to_rest_frame(momenta)\n",
    "\n",
    "# We can define resonances based on the isobar they can appear in \n",
    "resonance_lineshapes = {\n",
    "    (1, 3): resonance(2, 1, 2800, 100, 'D2800', p0, p2, (p1, p3)), \n",
    "                        }\n"
   ]
  },
  {
   "cell_type": "markdown",
   "metadata": {},
   "source": [
    "Now we need to get the values for our rotations. For this we can simply iterate through all the possible decay trees, the ```TopologyGroup``` Object generates for us."
   ]
  },
  {
   "cell_type": "code",
   "execution_count": 9,
   "metadata": {},
   "outputs": [
    {
     "name": "stdout",
     "output_type": "stream",
     "text": [
      "( 0 -> 1, ( (2, 3) -> 2, 3 ) ) {(2, 3): (3.141592653589793, -1.1917396523105919)}\n",
      "( 0 -> 2, ( (1, 3) -> 1, 3 ) ) {(1, 3): (5.951828758370096e-17, -0.23908244819164334)}\n",
      "( 0 -> ( (1, 2) -> 1, 2 ), 3 ) {(1, 2): (5.041182631349134e-17, -0.26891484091188184)}\n"
     ]
    },
    {
     "name": "stderr",
     "output_type": "stream",
     "text": [
      "/home/kai/LHCb/decayangle/src/decayangle/kinematics.py:214: RuntimeWarning: invalid value encountered in divide\n",
      "  cosine_input = config.backend.where(abs(abs_mom) <= 1e-19, 0, z_component(V) / abs_mom)\n"
     ]
    }
   ],
   "source": [
    "for tree in tg.trees:\n",
    "        final_state_rotations = {\n",
    "            target:reference_tree.relative_wigner_angles(tree, target, momenta)\n",
    "            for target in [1, 2, 3]\n",
    "        }\n",
    "        isobars = tree.helicity_angles(momenta)\n",
    "        print(tree, isobars)"
   ]
  },
  {
   "cell_type": "markdown",
   "metadata": {},
   "source": [
    "For each tree, we see, that we get exactly one isobar constellation. We also see, that of the two angles we compute, only one is non 0 (or $\\pi$).\n",
    "\n",
    "This is expected, as we are already in the decay plane. Thus this angle should go to 0. Computing it could be left out."
   ]
  },
  {
   "cell_type": "code",
   "execution_count": 8,
   "metadata": {},
   "outputs": [
    {
     "name": "stdout",
     "output_type": "stream",
     "text": [
      "{(2, 3): (3.141592653589793, -1.1917396523105919)}\n",
      "{(1, 3): (5.951828758370096e-17, -0.23908244819164334)}\n",
      "{(1, 2): (5.041182631349134e-17, -0.26891484091188184)}\n"
     ]
    }
   ],
   "source": [
    "# particle 1 \n",
    "spin1 = 1\n",
    "helicities1 = possible_helicities(spin1)\n",
    "\n",
    "# particle 2\n",
    "spin2 = 1\n",
    "helicities2 = possible_helicities(spin2)\n",
    "\n",
    "# particle 3\n",
    "spin3 = 0\n",
    "helicities3 = possible_helicities(spin3)\n",
    "\n",
    "\n",
    "# we can use the tree objects to controll out sums. \n",
    "# This makes the function definition quite simple\n",
    "def f(h0, h1, h2, h3):\n",
    "    for tree in tg.trees:\n",
    "        final_state_rotations = {\n",
    "            target:reference_tree.relative_wigner_angles(tree, target, momenta)\n",
    "            for target in [1, 2, 3]\n",
    "        }\n",
    "        isobars = tree.helicity_angles(momenta)\n",
    "        \n",
    "        print(isobars)\n",
    "\n",
    "f(1, 1, 0, 0)\n",
    "        "
   ]
  }
 ],
 "metadata": {
  "kernelspec": {
   "display_name": "decayangle",
   "language": "python",
   "name": "python3"
  },
  "language_info": {
   "codemirror_mode": {
    "name": "ipython",
    "version": 3
   },
   "file_extension": ".py",
   "mimetype": "text/x-python",
   "name": "python",
   "nbconvert_exporter": "python",
   "pygments_lexer": "ipython3",
   "version": "3.11.0"
  }
 },
 "nbformat": 4,
 "nbformat_minor": 2
}
