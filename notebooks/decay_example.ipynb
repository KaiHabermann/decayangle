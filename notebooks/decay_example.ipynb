{
 "cells": [
  {
   "cell_type": "code",
   "execution_count": 1,
   "metadata": {},
   "outputs": [
    {
     "name": "stdout",
     "output_type": "stream",
     "text": [
      "Requirement already satisfied: particle in /home/kai/anaconda3/envs/decayangle/lib/python3.12/site-packages (0.23.1)\n",
      "Requirement already satisfied: attrs>=19.2 in /home/kai/anaconda3/envs/decayangle/lib/python3.12/site-packages (from particle) (23.2.0)\n",
      "Requirement already satisfied: hepunits>=2.0.0 in /home/kai/anaconda3/envs/decayangle/lib/python3.12/site-packages (from particle) (2.3.3)\n",
      "Requirement already satisfied: typing-extensions>=4.5 in /home/kai/anaconda3/envs/decayangle/lib/python3.12/site-packages (from particle) (4.10.0)\n",
      "Note: you may need to restart the kernel to use updated packages.\n",
      "Requirement already satisfied: sympy in /home/kai/anaconda3/envs/decayangle/lib/python3.12/site-packages (1.12)\n",
      "Requirement already satisfied: mpmath>=0.19 in /home/kai/anaconda3/envs/decayangle/lib/python3.12/site-packages (from sympy) (1.3.0)\n",
      "Note: you may need to restart the kernel to use updated packages.\n"
     ]
    }
   ],
   "source": [
    "%pip install particle\n",
    "%pip install sympy"
   ]
  },
  {
   "cell_type": "markdown",
   "metadata": {},
   "source": [
    "Lets start by defining a decay. In the code beow you can see how to define a simple utility, which given momenta will be able to claculate all needed rotations.\n",
    "\n",
    "For simplicity we will choose a simple\n",
    "As you see, the isobars are allways isolated, meaning no isobar is the predecessor of another isobar. This makes the the full amplitude straightforward to calculate."
   ]
  },
  {
   "cell_type": "code",
   "execution_count": 2,
   "metadata": {},
   "outputs": [
    {
     "name": "stdout",
     "output_type": "stream",
     "text": [
      "Topology: ( 0 -> ( (2, 3) -> 2, 3 ), 1 )\n",
      "Topology: ( 0 -> ( (1, 3) -> 1, 3 ), 2 )\n",
      "Topology: ( 0 -> ( (1, 2) -> 1, 2 ), 3 )\n"
     ]
    }
   ],
   "source": [
    "from decayangle.decay_topology import TopologyCollection, Node\n",
    "import numpy as np\n",
    "\n",
    "# Find the possible the decay topologies\n",
    "tg = TopologyCollection(0, [1,2,3])\n",
    "for decay_topology in tg.topologies:\n",
    "    print(decay_topology)"
   ]
  },
  {
   "cell_type": "markdown",
   "metadata": {},
   "source": [
    "First lets define some basic utility functions. This is not something you need to understand 100% on the first try.\n",
    "What we do is set up the basic functional setup to be able to perform a three body analysis, which is the simplest case. "
   ]
  },
  {
   "cell_type": "code",
   "execution_count": 3,
   "metadata": {},
   "outputs": [],
   "source": [
    "from typing import NamedTuple, Callable\n",
    "from math import prod\n",
    "from particle import Particle\n",
    "\n",
    "\n",
    "def wigner_small_d(theta, j, m1, m2):\n",
    "    \"\"\"Calculate Wigner small-d function. Needs sympy.\n",
    "      theta : angle\n",
    "      j : spin (in units of 1/2, e.g. 1 for spin=1/2)\n",
    "      m1 and m2 : spin projections (in units of 1/2)\n",
    "\n",
    "    :param theta:\n",
    "    :param j:\n",
    "    :param m1: before rotation\n",
    "    :param m2: after rotation\n",
    "\n",
    "    \"\"\"\n",
    "    from sympy import Rational\n",
    "    from sympy.abc import x\n",
    "    from sympy.utilities.lambdify import lambdify\n",
    "    from sympy.physics.quantum.spin import Rotation as Wigner\n",
    "    j,m1,m2 = int(j),int(m1),int(m2)\n",
    "    # TODO: check if this is correct (the order of the m1 and m2)\n",
    "    d = Wigner.d(Rational(j, 2), Rational(m2, 2), Rational(m1, 2), x).doit().evalf()\n",
    "    d = lambdify(x, d, \"jax\")(theta)\n",
    "    return d\n",
    "\n",
    "    \n",
    "def BWResonance(spin, mass, width):\n",
    "    \"\"\"Create a Breit-Wigner resonance function for a given spin.\n",
    "    Args:\n",
    "        spin (int): spin quantum number multiplied by 2\n",
    "    \"\"\"\n",
    "    def f(s, L):\n",
    "        return np.sqrt(s) / (s - mass**2 + 1j * mass * width)\n",
    "    return f\n",
    "\n",
    "class resonance:\n",
    "    def __init__(self, spin, parity, mass, width, name, mother:Particle, bachelor:Particle, isobar: tuple):\n",
    "        self.spin = spin\n",
    "        self.mass = mass\n",
    "        self.width = width\n",
    "        self.lineshape = BWResonance(spin, mass, width)\n",
    "        self.parity = parity\n",
    "        self.name = name\n",
    "        self.mother = mother\n",
    "        self.bachelor = bachelor\n",
    "        self.isobar = isobar\n",
    "\n",
    "\n",
    "    @property\n",
    "    def possible_helicities(self):\n",
    "        return list(range(-self.spin, self.spin+1, 2))\n",
    "    \n",
    "    @property\n",
    "    def isbar_spins(self):\n",
    "        return [p.spin for p in self.isobar]\n",
    "    \n",
    "    @property\n",
    "    def isobar_parities(self):\n",
    "        return [p.parity for p in self.isobar]\n",
    "\n",
    "    def LS_couplings_mother_decay(self):\n",
    "        allowed_ls = []\n",
    "        LSCoupling = NamedTuple('LSCoupling', [('L', int), ('S', int), ('coupling', complex)])\n",
    "        for L in range(0, self.mother.spin + self.spin + self.bachelor.spin + 6, 2):\n",
    "            for S in range(abs(L - self.mother.spin), L + self.mother.spin + 1, 2):\n",
    "                if abs(L - S) <= self.mother.spin <= L + S:\n",
    "                    allowed_ls.append((L, S))\n",
    "        return {\n",
    "            f\"{self.name}:motherDecay:L{L}.S{S}\": LSCoupling(L, S, 1 + 0j) for L, S in allowed_ls\n",
    "        }\n",
    "    \n",
    "    def LS_coupling_resonance_decay(self):\n",
    "        allowed_ls = []\n",
    "        LSCoupling = NamedTuple('LSCoupling', [('L', int), ('S', int), ('coupling', complex)])\n",
    "        for L in range(0, self.spin + sum(self.isbar_spins) + self.mother.spin, 2):\n",
    "            for S in range(abs(L - self.spin), L + self.spin + 1, 2):\n",
    "                if abs(L - S) <= self.spin <= L + S: # check J double\n",
    "                    if prod(self.isobar_parities) * (-1)**(L) == self.parity: # check parity\n",
    "                        allowed_ls.append((L, S))\n",
    "        return {\n",
    "            f\"{self.name}:resonanceDecay:L{L}.S{S}\": LSCoupling(L, S, 1 + 0j) for L, S in allowed_ls\n",
    "        }\n",
    "            \n",
    "    def clebsch_gordan(self, j1, m1, j2, m2, J, M):\n",
    "        \"\"\"\n",
    "        Return clebsch-Gordan coefficient. Note that all arguments should be multiplied by 2\n",
    "        (e.g. 1 for spin 1/2, 2 for spin 1 etc.). Needs sympy.\n",
    "        \"\"\"\n",
    "        from sympy.physics.quantum.cg import CG\n",
    "        from sympy import Rational\n",
    "        cg = CG(\n",
    "                Rational(j1, 2),\n",
    "                Rational(m1, 2),\n",
    "                Rational(j2, 2),\n",
    "                Rational(m2, 2),\n",
    "                Rational(J, 2),\n",
    "                Rational(M, 2),\n",
    "            ).doit().evalf()\n",
    "        return float(cg)\n",
    "    \n",
    "    def helicity_coupling_times_lineshape(self, s, hi_, hj_):\n",
    "        ls_resonance_decay = self.LS_coupling_resonance_decay()\n",
    "        pi, pj = self.isobar\n",
    "        h = sum(\n",
    "            ls.coupling * self.lineshape(s, ls.L) * self.clebsch_gordan(pi.spin, -hi_, pj.spin, hj_, ls.S, hj_ - hi_) * self.clebsch_gordan(ls.S, hj_ - hi_, ls.L, 0 , self.spin, hi_ - hj_)\n",
    "            for ls in ls_resonance_decay.values()\n",
    "        )\n",
    "        return h\n",
    "\n",
    "    \n",
    "    \n",
    "    def h_mother(self,hk_, hiso_) -> float:\n",
    "        # TODO: calculate the h values from the LS values and  clebsch gordans\n",
    "        mother_decay = self.LS_couplings_mother_decay()\n",
    "        pk = self.bachelor\n",
    "        return sum(\n",
    "            ls.coupling *  self.clebsch_gordan(self.spin, hiso_, pk.spin, -hk_, ls.S, hiso_ - hk_) * self.clebsch_gordan(ls.S, hiso_ - hk_, ls.L, 0 , self.mother.spin, hiso_ - hk_)\n",
    "            for ls in mother_decay.values()\n",
    "        )\n",
    "       \n",
    "\n",
    "        \n",
    "\n",
    "possible_helicities = lambda spin: list(range(-spin, spin+1, 2))"
   ]
  },
  {
   "cell_type": "markdown",
   "metadata": {},
   "source": [
    "The particle porperites can be fetched directly from the PDG, with the help of the particles project.\n",
    "\n",
    "We go for a decay of $\\Lambda_b \\rightarrow \\Lambda_c^+ D^0 K^-$"
   ]
  },
  {
   "cell_type": "code",
   "execution_count": 4,
   "metadata": {},
   "outputs": [
    {
     "name": "stdout",
     "output_type": "stream",
     "text": [
      "Particle 0: Lambda(b)0 spin: 1 helicities: [-1, 1]\n",
      "Particle 1: D0 spin: 0 helicities: [0]\n",
      "Particle 2: Lambda(c)+ spin: 1 helicities: [-1, 1]\n",
      "Particle 3: K- spin: 0 helicities: [0]\n"
     ]
    }
   ],
   "source": [
    "# shortcut to get the pdg parameters for our particles\n",
    "class particle:\n",
    "    def __init__(self, p):\n",
    "        self.p = p \n",
    "    \n",
    "    @property\n",
    "    def spin(self):\n",
    "        return int(self.p.J * 2)\n",
    "\n",
    "    @property\n",
    "    def parity(self):\n",
    "        return self.p.P\n",
    "\n",
    "    def __getattr__(self, attr):\n",
    "        return getattr(self.p, attr)\n",
    "    \n",
    "    def helicities(self):\n",
    "        return possible_helicities(self.spin)\n",
    "\n",
    "p0 = particle(Particle.findall('Lambda(b)0')[0])\n",
    "p1 = particle(Particle.findall('D0')[0])\n",
    "p2 = particle(Particle.findall('Lambda(c)+')[0])\n",
    "p3 = particle(Particle.findall('K-')[0])\n",
    "\n",
    "particles = {\n",
    "    0: p0,\n",
    "    1: p1,\n",
    "    2: p2,\n",
    "    3: p3\n",
    "}\n",
    "\n",
    "for i in range(4):\n",
    "    print(f\"Particle {i}: {particles[i].name} spin: {particles[i].spin} helicities: {particles[i].helicities()}\")\n"
   ]
  },
  {
   "cell_type": "markdown",
   "metadata": {},
   "source": [
    "Now we have the main components for the amplitude. We can describe the lineshape for as single resonance, we can compute helicity couplings and we can calculate all the angles. Only thing left to do is write the loops for the sums. The final form should look somewhat like this:\n",
    "\n",
    "$\\sum_{\\mathrm{topologys}}\\sum_{\\{\\lambda\\}}\\sum_{\\{\\lambda^{'}\\}} R(m,\\{\\lambda^{'}\\}) d(\\theta, \\lambda_k^{'}, \\lambda_{ij}^{'}) d(\\phi_1,\\lambda^{'}_1,\\lambda_1)d(\\phi_2,\\lambda^{'}_2,\\lambda_2)d(\\phi_3,\\lambda^{'}_3,\\lambda_3)$\n",
    "\n",
    "This simply describes the sum over all different possible decay topologys, and the sum over all possible helicities.\n",
    "A second sum over the primes helicities $\\{\\lambda^{'}\\}$ in conjuction with the wigner roatation $d(\\theta, \\lambda_k^{'}, \\lambda_{ij}^{'})$ describes the needed basis change after the rotation to move the $(ij)$ isobar onto the z axis.\n",
    "\n",
    "The rotations $d(\\phi_1,\\lambda^{'}_1,\\lambda_1)d(\\phi_2,\\lambda^{'}_2,\\lambda_2)d(\\phi_3,\\lambda^{'}_3,\\lambda_3)$ describe the rotations rotating the final states of the different chains to a common constellation.\n",
    "\n",
    "The $R(m,\\{\\lambda^{'}\\})$ is the lineshape of the resonance together with the couplings $H_{0 \\rightarrow (ij)\\, k}^{\\lambda_0, \\lambda_{(ij) - \\lambda_k}} \\cdot X(m,L) \\cdot H_{(ij) \\rightarrow i\\, j}^{\\lambda_{(ij)}, \\lambda_i^{'} - \\lambda_j^{'}}$. \n",
    "The couplings $H$ are alled helicity couplings "
   ]
  },
  {
   "cell_type": "code",
   "execution_count": 5,
   "metadata": {},
   "outputs": [
    {
     "name": "stdout",
     "output_type": "stream",
     "text": [
      "{'D2800:resonanceDecay:L0.S2': LSCoupling(L=0, S=2, coupling=(1+0j)), 'D2800:resonanceDecay:L2.S0': LSCoupling(L=2, S=0, coupling=(1+0j)), 'D2800:resonanceDecay:L2.S2': LSCoupling(L=2, S=2, coupling=(1+0j)), 'D2800:resonanceDecay:L2.S4': LSCoupling(L=2, S=4, coupling=(1+0j))}\n"
     ]
    }
   ],
   "source": [
    "momenta = { \n",
    "    1: np.array([0, 0, -0.9, 1]),\n",
    "    2: np.array([0, 0.15, 0.4,1]),\n",
    "    3: np.array([ 0, 0.3, 0.3,1]),\n",
    "}\n",
    "\n",
    "reference_topology = tg.topologies[0]\n",
    "momenta = reference_topology.to_rest_frame(momenta)\n",
    "\n",
    "# We can define resonances based on the isobar they can appear in \n",
    "resonance_lineshapes = {\n",
    "    (1, 3): [ \n",
    "                resonance(0, 1, 2800, 100, 'D2800', p0, p2, (p1, p3)) \n",
    "            ], \n",
    "    }\n",
    "\n",
    "print(resonance(2, 1, 2800, 100, 'D2800', p0, p2, (p1, p3)).LS_coupling_resonance_decay())"
   ]
  },
  {
   "cell_type": "markdown",
   "metadata": {},
   "source": [
    "Now we need to get the values for our rotations. For this we can simply iterate through all the possible decay topologys, the ```TopologyCollection``` Object generates for us."
   ]
  },
  {
   "cell_type": "code",
   "execution_count": 6,
   "metadata": {},
   "outputs": [
    {
     "name": "stdout",
     "output_type": "stream",
     "text": [
      "Topology: ( 0 -> ( (2, 3) -> 2, 3 ), 1 ) {((2, 3), 1): HelicityAngles(theta_rf=-0.17491891382569247, psi_rf=-1.5707963267948966), (2, 3): HelicityAngles(theta_rf=-1.1917396523105919, psi_rf=3.141592653589793)}\n",
      "Topology: ( 0 -> ( (1, 3) -> 1, 3 ), 2 ) {((1, 3), 2): HelicityAngles(theta_rf=-3.136500881413798, psi_rf=-1.5707963267948966), (1, 3): HelicityAngles(theta_rf=-0.23908244819164334, psi_rf=5.951828758370096e-17)}\n",
      "Topology: ( 0 -> ( (1, 2) -> 1, 2 ), 3 ) {((1, 2), 3): HelicityAngles(theta_rf=-2.753684909312669, psi_rf=1.5707963267948966), (1, 2): HelicityAngles(theta_rf=-0.26891484091188184, psi_rf=5.041182631349134e-17)}\n"
     ]
    },
    {
     "name": "stderr",
     "output_type": "stream",
     "text": [
      "/home/kai/LHCb/decayangle/src/decayangle/kinematics.py:315: RuntimeWarning: invalid value encountered in divide\n",
      "  cosine_input = cb.where(abs(abs_mom) <= tol, 0, z_component(v) / abs_mom)\n"
     ]
    },
    {
     "data": {
      "text/plain": [
       "{((2, 3),\n",
       "  1): HelicityAngles(theta_rf=-0.17491891382569247, psi_rf=-1.5707963267948966),\n",
       " (2,\n",
       "  3): HelicityAngles(theta_rf=-1.1917396523105919, psi_rf=3.141592653589793)}"
      ]
     },
     "execution_count": 6,
     "metadata": {},
     "output_type": "execute_result"
    }
   ],
   "source": [
    "for topology in tg.topologies:\n",
    "        final_state_rotations = reference_topology.relative_wigner_angles(topology, momenta)\n",
    "        isobars = topology.helicity_angles(momenta)\n",
    "        print(topology, isobars)\n",
    "\n",
    "topo = tg.topologies[0]\n",
    "hel = topo.helicity_angles(momenta)\n",
    "for k, v in hel.items():\n",
    "    print(k, v)"
   ]
  },
  {
   "cell_type": "markdown",
   "metadata": {},
   "source": [
    "For each topology, we see, that we get exactly one isobar constellation. We also see, that of the two angles we compute, only one is non 0 (or $\\pi$).\n",
    "\n",
    "This is expected, as we are already in the decay plane. Thus this angle should go to 0. Computing it could be left out."
   ]
  },
  {
   "cell_type": "code",
   "execution_count": 250,
   "metadata": {},
   "outputs": [
    {
     "name": "stdout",
     "output_type": "stream",
     "text": [
      "0\n",
      "(1.0655444e-08+3.8055173e-10j)\n",
      "0\n"
     ]
    }
   ],
   "source": [
    "# particle 1 \n",
    "spin1 = p1.spin\n",
    "helicities1 = possible_helicities(spin1)\n",
    "\n",
    "# particle 2\n",
    "spin2 = p2.spin\n",
    "helicities2 = possible_helicities(spin2)\n",
    "\n",
    "# particle 3\n",
    "spin3 = p3.spin\n",
    "helicities3 = possible_helicities(spin3)\n",
    "\n",
    "spin0 = p0.spin\n",
    "helicities0 = possible_helicities(spin0)\n",
    "\n",
    "# we can use the topology objects to controll out sums. \n",
    "# This makes the function definition straightforward\n",
    "def f(h0, h1, h2, h3):\n",
    "    helicity_list = [h0, h1, h2, h3]\n",
    "    spin_list = [spin0, spin1, spin2, spin3]\n",
    "    for topology in tg.topologies:\n",
    "        final_state_rotations = reference_topology.relative_wigner_angles(topology, momenta)\n",
    "        isobars = topology.helicity_angles(momenta)\n",
    "        for (isobar, bachelor), (phi, theta) in isobars.items():\n",
    "            # determinethe correct helicities\n",
    "            (i,j), k = isobar, bachelor\n",
    "            hi ,hj, hk = helicity_list[i], helicity_list[j], helicity_list[k]\n",
    "            si, sj, sk = spin_list[i], spin_list[j], spin_list[k]\n",
    "\n",
    "            amplitude = sum(\n",
    "                resonance.helicity_coupling_times_lineshape(topology.nodes[isobar].mass(momenta)**2,hi_, hj_) * wigner_small_d(theta, spin0, h0,  h_iso - hk_) * wigner_small_d(final_state_rotations[i].theta_rf, si, hi, hi_) * wigner_small_d(final_state_rotations[j].theta_rf, sj, hj, hj_) * wigner_small_d(final_state_rotations[k].theta_rf, sk, hk, hk_) * resonance.h_mother(hk_, h_iso)\n",
    "                for resonance in resonance_lineshapes.get(isobar, [])\n",
    "                for h_iso in resonance.possible_helicities\n",
    "                for hk_ in particles[bachelor].helicities()\n",
    "                for hi_ in particles[isobar[0]].helicities()\n",
    "                for hj_ in particles[isobar[1]].helicities()\n",
    "            )\n",
    "            print(amplitude)\n",
    "\n",
    "f(1, 0, 1, 0)"
   ]
  }
 ],
 "metadata": {
  "kernelspec": {
   "display_name": "decayangle",
   "language": "python",
   "name": "python3"
  },
  "language_info": {
   "codemirror_mode": {
    "name": "ipython",
    "version": 3
   },
   "file_extension": ".py",
   "mimetype": "text/x-python",
   "name": "python",
   "nbconvert_exporter": "python",
   "pygments_lexer": "ipython3",
   "version": "3.12.2"
  }
 },
 "nbformat": 4,
 "nbformat_minor": 2
}
