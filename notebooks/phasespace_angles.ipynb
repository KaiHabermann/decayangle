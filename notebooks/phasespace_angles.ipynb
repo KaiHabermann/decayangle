{
 "cells": [
  {
   "cell_type": "code",
   "execution_count": null,
   "metadata": {},
   "outputs": [],
   "source": [
    "%pip install matplotlib\n",
    "%pip install phasespace"
   ]
  },
  {
   "cell_type": "code",
   "execution_count": 1,
   "metadata": {},
   "outputs": [
    {
     "name": "stderr",
     "output_type": "stream",
     "text": [
      "2024-06-21 15:12:26.385505: I tensorflow/core/util/port.cc:113] oneDNN custom operations are on. You may see slightly different numerical results due to floating-point round-off errors from different computation orders. To turn them off, set the environment variable `TF_ENABLE_ONEDNN_OPTS=0`.\n",
      "2024-06-21 15:12:26.386532: I external/local_tsl/tsl/cuda/cudart_stub.cc:32] Could not find cuda drivers on your machine, GPU will not be used.\n",
      "2024-06-21 15:12:26.391495: I external/local_tsl/tsl/cuda/cudart_stub.cc:32] Could not find cuda drivers on your machine, GPU will not be used.\n",
      "2024-06-21 15:12:26.438187: I tensorflow/core/platform/cpu_feature_guard.cc:210] This TensorFlow binary is optimized to use available CPU instructions in performance-critical operations.\n",
      "To enable the following instructions: AVX2 AVX512F AVX512_VNNI AVX512_BF16 FMA, in other operations, rebuild TensorFlow with the appropriate compiler flags.\n",
      "2024-06-21 15:12:27.442831: W tensorflow/compiler/tf2tensorrt/utils/py_utils.cc:38] TF-TRT Warning: Could not find TensorRT\n",
      "WARNING: All log messages before absl::InitializeLog() is called are written to STDERR\n",
      "I0000 00:00:1718975548.940359  197954 service.cc:145] XLA service 0x7fdf94006470 initialized for platform Host (this does not guarantee that XLA will be used). Devices:\n",
      "I0000 00:00:1718975548.940407  197954 service.cc:153]   StreamExecutor device (0): Host, Default Version\n",
      "2024-06-21 15:12:28.946017: I tensorflow/compiler/mlir/tensorflow/utils/dump_mlir_util.cc:268] disabling MLIR crash reproducer, set env var `MLIR_CRASH_REPRODUCER_DIRECTORY` to enable.\n",
      "I0000 00:00:1718975548.958414  197954 device_compiler.h:188] Compiled cluster using XLA!  This line is logged at most once for the lifetime of the process.\n"
     ]
    }
   ],
   "source": [
    "import phasespace as phsp\n",
    "import numpy as np\n",
    "m0 = 5000\n",
    "m1 = 200\n",
    "m2 = 1000\n",
    "m3 = 998\n",
    "m4 = 400\n",
    "m5 = 123\n",
    "\n",
    "# arbitrary masses, since it does not really matter, if the particles do exist or not\n",
    "# Also I couldn't remermber masses for particles, so here we go\n",
    "\n",
    "weights, p = phsp.nbody_decay(m0, [m1, m2, m3, m4, m5]).generate(1)\n",
    "\n",
    "\n",
    "global_momenta = {\n",
    "    i + 1: np.array(p[f\"p_{i}\"])\n",
    "        for i in range(5)\n",
    "}"
   ]
  },
  {
   "cell_type": "code",
   "execution_count": 6,
   "metadata": {},
   "outputs": [
    {
     "name": "stdout",
     "output_type": "stream",
     "text": [
      "Topology: ( 0 -> ( (1, 2, 4, 5) -> ( (2, 4, 5) -> ( (4, 5) -> 4, 5 ), 2 ), 1 ), 3 )\n",
      "Topology: ( 0 -> ( (1, 2, 3, 5) -> ( (2, 3, 5) -> ( (2, 5) -> 2, 5 ), 3 ), 1 ), 4 )\n",
      "2\n",
      "[-3.09184253  1.88201257 -2.2548422 ]\n",
      "[-3.09184253  1.88201257 -2.2548422 ]\n",
      "[ 0.00000000e+00 -2.22044605e-16 -8.88178420e-16]\n",
      "(-4.440892098500626e-16+7.771561172376096e-16j)\n",
      "5\n",
      "[ 3.1567568   0.11839989 -1.01289564]\n",
      "[ 3.1567568   0.11839989 -1.01289564]\n",
      "[ 4.13002965e-14  3.85386167e-14 -3.93018951e-14]\n",
      "(-2.886579864025407e-15+3.114175584073564e-14j)\n",
      "3\n",
      "[ 4.89821011  0.32766015 -2.78978792]\n",
      "[-1.38497519  0.32766015  3.49339739]\n",
      "[ 6.28318531e+00 -4.16333634e-15 -6.28318531e+00]\n",
      "(1.5543122344752192e-15+2.3314683517128287e-15j)\n",
      "1\n",
      "[ 8.86333781  0.41905726 -1.18984867]\n",
      "[-3.7030328   0.41905726 -1.18984867]\n",
      "[1.25663706e+01 1.99840144e-15 2.22044605e-15]\n",
      "-2.220446049250313e-15j\n",
      "4\n",
      "[ 1.33507136  0.07878027 -1.61986997]\n",
      "[ 1.33507136  0.07878027 -1.61986997]\n",
      "[ 8.21565038e-15 -4.23411306e-14 -1.53210777e-14]\n",
      "(4.440892098500626e-16-4.2021941482062175e-14j)\n"
     ]
    }
   ],
   "source": [
    "import numpy as np\n",
    "from decayangle.lorentz import LorentzTrafo\n",
    "from decayangle.decay_topology import Topology, TopologyCollection\n",
    "from decayangle.config import config as cfg\n",
    "import matplotlib.pyplot as plt\n",
    "\n",
    "\n",
    "topology = Topology(root=0, decay_topology=(((2,(4, 5)),1),3))\n",
    "reference = Topology(root=0, decay_topology=(((3,(2, 5)),1),4))\n",
    "\n",
    "tc = TopologyCollection(0, [1,2,3,4,5])\n",
    "print(topology)\n",
    "print(reference)\n",
    "\n",
    "topology = tc.filter((1,2), (4,3))[0]\n",
    "\n",
    "result_full = reference.relative_wigner_angles(topology, global_momenta)\n",
    "\n",
    "result_other = reference.relative_wigner_angles(topology, global_momenta, use_other=True)\n",
    "\n",
    "from decayangle.kinematics import build_2_2\n",
    "for k, v in result_full.items():\n",
    "    print(k)\n",
    "    res1 = np.array(list(val[0] for val in v))\n",
    "    res2 = np.array(list(val[0] for val in result_other[k]))\n",
    "    print(res1)\n",
    "    print(res2)\n",
    "    print(np.fmod(res1 - res2, 4*np.pi))\n",
    "    print(np.sum(build_2_2(0,0,0,*res1) - build_2_2(0,0,0,*res2)))\n",
    "\n",
    "result = result_full[2]"
   ]
  },
  {
   "cell_type": "code",
   "execution_count": null,
   "metadata": {},
   "outputs": [],
   "source": [
    "plt.hist2d(result.theta_rf/np.pi, result.phi_rf/np.pi, bins=100, weights=weights)\n",
    "plt.xlabel(r\"$\\theta_{\\text{rf}}$\")\n",
    "plt.ylabel(r\"$\\phi_{\\text{rf}}$\")"
   ]
  },
  {
   "cell_type": "code",
   "execution_count": null,
   "metadata": {},
   "outputs": [],
   "source": [
    "from matplotlib.colors import LogNorm\n",
    "plt.hist2d(result.psi_rf/np.pi, result.phi_rf/np.pi, bins=100, weights=weights, norm=LogNorm())\n",
    "plt.colorbar()\n",
    "plt.xlabel(r\"$\\psi_{\\text{rf}}$\")\n",
    "plt.ylabel(r\"$\\phi_{\\text{rf}}$\")"
   ]
  },
  {
   "cell_type": "code",
   "execution_count": null,
   "metadata": {},
   "outputs": [],
   "source": [
    "helicity_anges = topology.helicity_angles(global_momenta)\n",
    "for (isobar, bachelor), angle in    helicity_anges.items():\n",
    "    plt.figure()\n",
    "    plt.hist2d(angle.theta_rf/np.pi, angle.psi_rf/np.pi, bins=100, weights=weights)\n",
    "    plt.xlabel(r\"$\\theta$\")\n",
    "    plt.ylabel(r\"$\\psi$\")\n",
    "    plt.title(f\"Isobar {isobar}, Bachelor {bachelor}\")\n",
    "    plt.colorbar()\n"
   ]
  }
 ],
 "metadata": {
  "kernelspec": {
   "display_name": "decayangle",
   "language": "python",
   "name": "python3"
  },
  "language_info": {
   "codemirror_mode": {
    "name": "ipython",
    "version": 3
   },
   "file_extension": ".py",
   "mimetype": "text/x-python",
   "name": "python",
   "nbconvert_exporter": "python",
   "pygments_lexer": "ipython3",
   "version": "3.11.8"
  }
 },
 "nbformat": 4,
 "nbformat_minor": 2
}
