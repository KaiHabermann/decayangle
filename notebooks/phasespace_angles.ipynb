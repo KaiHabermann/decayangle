{
 "cells": [
  {
   "cell_type": "code",
   "execution_count": null,
   "metadata": {},
   "outputs": [],
   "source": [
    "%pip install matplotlib\n",
    "%pip install phasespace"
   ]
  },
  {
   "cell_type": "code",
   "execution_count": null,
   "metadata": {},
   "outputs": [],
   "source": [
    "import phasespace as phsp\n",
    "import numpy as np\n",
    "m0 = 5000\n",
    "m1 = 200\n",
    "m2 = 1000\n",
    "m3 = 998\n",
    "m4 = 400\n",
    "m5 = 123\n",
    "\n",
    "# arbitrary masses, since it does not really matter, if the particles do exist or not\n",
    "# Also I couldn't remermber masses for particles, so here we go\n",
    "\n",
    "weights, p = phsp.nbody_decay(m0, [m1, m2, m3, m4, m5]).generate(100_000)\n",
    "\n",
    "\n",
    "global_momenta = {\n",
    "    i + 1: np.array(p[f\"p_{i}\"])\n",
    "        for i in range(5)\n",
    "}"
   ]
  },
  {
   "cell_type": "code",
   "execution_count": null,
   "metadata": {},
   "outputs": [],
   "source": [
    "import numpy as np\n",
    "from decayangle.lorentz import LorentzTrafo\n",
    "from decayangle.decay_topology import Topology, TopologyCollection\n",
    "from decayangle.config import config as cfg\n",
    "import matplotlib.pyplot as plt\n",
    "\n",
    "\n",
    "topology = Topology(root=0, decay_topology=(((2,(4, 5)),1),3))\n",
    "reference = Topology(root=0, decay_topology=(((3,(2, 5)),1),4))\n",
    "\n",
    "tc = TopologyCollection(0, [1,2,3,4,5])\n",
    "print(topology)\n",
    "print(reference)\n",
    "\n",
    "topology = tc.filter((1,2), (4,3))[0]\n",
    "\n",
    "result = reference.relative_wigner_angles(topology, global_momenta)[2]\n"
   ]
  },
  {
   "cell_type": "code",
   "execution_count": null,
   "metadata": {},
   "outputs": [],
   "source": [
    "plt.hist2d(result.theta_rf/np.pi, result.phi_rf/np.pi, bins=100, weights=weights)\n",
    "plt.xlabel(r\"$\\theta_{\\text{rf}}$\")\n",
    "plt.ylabel(r\"$\\phi_{\\text{rf}}$\")"
   ]
  },
  {
   "cell_type": "code",
   "execution_count": null,
   "metadata": {},
   "outputs": [],
   "source": [
    "from matplotlib.colors import LogNorm\n",
    "plt.hist2d(result.psi_rf/np.pi, result.phi_rf/np.pi, bins=100, weights=weights, norm=LogNorm())\n",
    "plt.colorbar()\n",
    "plt.xlabel(r\"$\\psi_{\\text{rf}}$\")\n",
    "plt.ylabel(r\"$\\phi_{\\text{rf}}$\")"
   ]
  },
  {
   "cell_type": "code",
   "execution_count": null,
   "metadata": {},
   "outputs": [],
   "source": [
    "helicity_anges = topology.helicity_angles(global_momenta)\n",
    "for (isobar, bachelor), angle in    helicity_anges.items():\n",
    "    plt.figure()\n",
    "    plt.hist2d(angle.theta_rf/np.pi, angle.psi_rf/np.pi, bins=100, weights=weights)\n",
    "    plt.xlabel(r\"$\\theta$\")\n",
    "    plt.ylabel(r\"$\\psi$\")\n",
    "    plt.title(f\"Isobar {isobar}, Bachelor {bachelor}\")\n",
    "    plt.colorbar()\n"
   ]
  }
 ],
 "metadata": {
  "kernelspec": {
   "display_name": "decayangle",
   "language": "python",
   "name": "python3"
  },
  "language_info": {
   "codemirror_mode": {
    "name": "ipython",
    "version": 3
   },
   "file_extension": ".py",
   "mimetype": "text/x-python",
   "name": "python",
   "nbconvert_exporter": "python",
   "pygments_lexer": "ipython3",
   "version": "3.12.3"
  }
 },
 "nbformat": 4,
 "nbformat_minor": 2
}
