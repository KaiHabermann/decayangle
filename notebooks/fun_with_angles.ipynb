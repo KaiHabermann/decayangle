{
 "cells": [
  {
   "cell_type": "code",
   "execution_count": 1,
   "metadata": {},
   "outputs": [
    {
     "name": "stdout",
     "output_type": "stream",
     "text": [
      "Requirement already satisfied: matplotlib in /home/kai/Envs/decayangle_dev/lib/python3.11/site-packages (3.9.0)\n",
      "Requirement already satisfied: contourpy>=1.0.1 in /home/kai/Envs/decayangle_dev/lib/python3.11/site-packages (from matplotlib) (1.2.1)\n",
      "Requirement already satisfied: cycler>=0.10 in /home/kai/Envs/decayangle_dev/lib/python3.11/site-packages (from matplotlib) (0.12.1)\n",
      "Requirement already satisfied: fonttools>=4.22.0 in /home/kai/Envs/decayangle_dev/lib/python3.11/site-packages (from matplotlib) (4.52.1)\n",
      "Requirement already satisfied: kiwisolver>=1.3.1 in /home/kai/Envs/decayangle_dev/lib/python3.11/site-packages (from matplotlib) (1.4.5)\n",
      "Requirement already satisfied: numpy>=1.23 in /home/kai/Envs/decayangle_dev/lib/python3.11/site-packages (from matplotlib) (1.26.4)\n",
      "Requirement already satisfied: packaging>=20.0 in /home/kai/Envs/decayangle_dev/lib/python3.11/site-packages (from matplotlib) (24.0)\n",
      "Requirement already satisfied: pillow>=8 in /home/kai/Envs/decayangle_dev/lib/python3.11/site-packages (from matplotlib) (10.3.0)\n",
      "Requirement already satisfied: pyparsing>=2.3.1 in /home/kai/Envs/decayangle_dev/lib/python3.11/site-packages (from matplotlib) (3.1.2)\n",
      "Requirement already satisfied: python-dateutil>=2.7 in /home/kai/Envs/decayangle_dev/lib/python3.11/site-packages (from matplotlib) (2.9.0.post0)\n",
      "Requirement already satisfied: six>=1.5 in /home/kai/Envs/decayangle_dev/lib/python3.11/site-packages (from python-dateutil>=2.7->matplotlib) (1.16.0)\n",
      "Note: you may need to restart the kernel to use updated packages.\n"
     ]
    }
   ],
   "source": [
    "%pip install matplotlib"
   ]
  },
  {
   "cell_type": "code",
   "execution_count": 2,
   "metadata": {},
   "outputs": [],
   "source": [
    "import numpy as np\n",
    "from decayangle.lorentz import LorentzTrafo\n",
    "from decayangle.decay_topology import Topology\n",
    "from decayangle.config import config as cfg\n",
    "import matplotlib.pyplot as plt\n",
    "\n",
    "def make_four_vectors(phi_rf, theta_rf, psi_rf):\n",
    "    import numpy as np\n",
    "\n",
    "    # Make sure, the sorting is turned off\n",
    "    cfg.sorting = \"off\"\n",
    "\n",
    "    # Given values\n",
    "    # Lc -> p K pi\n",
    "    m1, m2, m3, m0 = 0.93827, 0.493677, 0.139570, 2.28646\n",
    "    m12 = 2.756020646168232**0.5\n",
    "    m23 = 1.3743747462964881**0.5\n",
    "\n",
    "    # Squared masses\n",
    "    m0sq, m1sq, m2sq, m3sq, m12sq, m23sq = [x**2 for x in [m0, m1, m2, m3, m12, m23]]\n",
    "\n",
    "    # Källén function\n",
    "    def Kallen(x, y, z):\n",
    "        return x**2 + y**2 + z**2 - 2 * (x * y + x * z + y * z)\n",
    "\n",
    "    # Calculating missing mass squared using momentum conservation\n",
    "    m31sq = m0sq + m1sq + m2sq + m3sq - m12sq - m23sq\n",
    "\n",
    "    # Momenta magnitudes\n",
    "    p1a = np.sqrt(Kallen(m23sq, m1sq, m0sq)) / (2 * m0)\n",
    "    p2a = np.sqrt(Kallen(m31sq, m2sq, m0sq)) / (2 * m0)\n",
    "\n",
    "    # Directions and components\n",
    "    cos_zeta_12_for0_numerator = (m0sq + m1sq - m23sq) * (\n",
    "        m0sq + m2sq - m31sq\n",
    "    ) - 2 * m0sq * (m12sq - m1sq - m2sq)\n",
    "    cos_zeta_12_for0_denominator = np.sqrt(Kallen(m0sq, m2sq, m31sq)) * np.sqrt(\n",
    "        Kallen(m0sq, m23sq, m1sq)\n",
    "    )\n",
    "    cos_zeta_12_for0 = cos_zeta_12_for0_numerator / cos_zeta_12_for0_denominator\n",
    "\n",
    "    p1z = -p1a\n",
    "    p2z = -p2a * cos_zeta_12_for0\n",
    "    p2x = np.sqrt(p2a**2 - p2z**2)\n",
    "    p3z = -p2z - p1z\n",
    "    p3x = -p2x\n",
    "\n",
    "    # Energy calculations based on the relativistic energy-momentum relation\n",
    "    E1 = np.sqrt(p1z**2 + m1sq)\n",
    "    E2 = np.sqrt(p2z**2 + p2x**2 + m2sq)\n",
    "    E3 = np.sqrt(p3z**2 + p3x**2 + m3sq)\n",
    "\n",
    "    # Vectors\n",
    "    p1 = np.array([0, 0, p1z, E1])\n",
    "    p2 = np.array([p2x, 0, p2z, E2])\n",
    "    p3 = np.array([p3x, 0, p3z, E3])\n",
    "\n",
    "    # Lorentz transformation\n",
    "    momenta = {i: p for i, p in zip([1, 2, 3], [p1, p2, p3])}\n",
    "    tree1 = Topology(root=0, decay_topology=((2, 3), 1))\n",
    "    \n",
    "    rotation = LorentzTrafo(0, 0, 0, phi_rf, theta_rf, psi_rf)\n",
    "    \n",
    "    momenta_23_rotated = tree1.root.transform(rotation, momenta)\n",
    "    return momenta_23_rotated"
   ]
  },
  {
   "cell_type": "code",
   "execution_count": 7,
   "metadata": {},
   "outputs": [
    {
     "name": "stdout",
     "output_type": "stream",
     "text": [
      "2\n",
      "[array([-1.08256035e-10, -3.14159265e+00]), array([0.37017273, 0.37017273]), array([-7.41332233e-16, -6.57114730e-16])]\n",
      "[[ 4.62043697e-16 -2.22044605e-16]\n",
      " [ 1.77635684e-15  2.66453526e-15]]\n",
      "3\n",
      "[array([ 3.14159265, -3.14159265]), array([0.18066287, 0.18066287]), array([-3.84419368e-16,  2.63724691e-16])]\n",
      "[[-5.32907052e-15 -6.66133815e-16]\n",
      " [ 1.24344979e-14  7.32747196e-15]]\n",
      "1\n",
      "[array([ 3.14159265, -3.14159265]), array([0.7287334, 0.7287334]), array([1.e-05, 1.e-05])]\n",
      "[[ 1.e-05  1.e-05]\n",
      " [-1.e-05 -1.e-05]]\n"
     ]
    }
   ],
   "source": [
    "N = 2\n",
    "x = np.linspace(1e-5, np.pi - 1e-5, N)\n",
    "y = np.linspace(-np.pi + 1e-5, np.pi - 1e-5, N)\n",
    "\n",
    "X, Y = np.meshgrid(x, y)\n",
    "momenta_23_rotated = make_four_vectors(1.5, X, Y)\n",
    "\n",
    "tree1 = Topology(root=0, decay_topology=((2, 3), 1))\n",
    "tree2 = Topology(root=0, decay_topology=((3, 1), 2))\n",
    "tree3 = Topology(root=0, decay_topology=((1, 2), 3))\n",
    "\n",
    "result_full = tree1.relative_wigner_angles(tree2, momenta_23_rotated)\n",
    "result_psi = result_full[1].psi_rf\n",
    "result_phi = result_full[1].phi_rf\n",
    "result_theta = result_full[1].theta_rf\n",
    "result = result_psi + result_phi\n",
    "\n",
    "def fmod_4(val):\n",
    "    return np.fmod(val/np.pi + 4,4)"
   ]
  },
  {
   "cell_type": "code",
   "execution_count": null,
   "metadata": {},
   "outputs": [],
   "source": [
    "img = plt.imshow(fmod_4(result), cmap='hot', origin='lower',\n",
    "                 extent=[x.min(), x.max(), y.min(), y.max()], aspect='auto')\n",
    "\n",
    "plt.colorbar(label=r\"$\\psi_{3}^{(1)}(1) + \\phi_{3}^{(1)}(1)$ in multiples of $\\pi$\")\n",
    "plt.xlabel(r'$\\theta_{rf}$')\n",
    "plt.ylabel(r'$\\psi_{rf}$')\n",
    "plt.title(r\"$\\psi_{3}^{(1)}(1) + \\phi_{3}^{(1)}(1)$\")\n",
    "plt.savefig('test.png', dpi = 1200)\n",
    "plt.show()\n",
    "plt.close('all')"
   ]
  },
  {
   "cell_type": "code",
   "execution_count": null,
   "metadata": {},
   "outputs": [],
   "source": [
    "img = plt.imshow(np.fmod(result_phi/np.pi + 4, 4), cmap='hot', origin='lower',\n",
    "                 extent=[x.min(), x.max(), y.min(), y.max()], aspect='auto')\n",
    "\n",
    "plt.colorbar(label=r\"$\\phi_{3}^{(1)}(1)$ in multiples of $\\pi$\")\n",
    "plt.xlabel(r'$\\theta_{rf}$')\n",
    "plt.ylabel(r'$\\psi_{rf}$')\n",
    "plt.title(r\"$\\phi_{3}^{(1)}(1)$\")\n",
    "plt.savefig('test_phi.png', dpi = 1200)\n",
    "plt.show()\n",
    "plt.close('all')"
   ]
  },
  {
   "cell_type": "code",
   "execution_count": null,
   "metadata": {},
   "outputs": [],
   "source": [
    "img = plt.imshow(result_psi/np.pi, cmap='hot', origin='lower',\n",
    "                 extent=[x.min(), x.max(), y.min(), y.max()], aspect='auto')\n",
    "\n",
    "plt.colorbar(label=r\"$\\psi_{3}^{(1)}(1)$ in multiples of $\\pi$\")\n",
    "plt.xlabel(r'$\\theta_{rf}$')\n",
    "plt.ylabel(r'$\\psi_{rf}$')\n",
    "plt.title(r\"$\\psi_{3}^{(1)}(1)$\")\n",
    "plt.savefig('test_psi.png', dpi = 1200)\n",
    "plt.show()\n",
    "plt.close('all')"
   ]
  }
 ],
 "metadata": {
  "kernelspec": {
   "display_name": "decayangle",
   "language": "python",
   "name": "python3"
  },
  "language_info": {
   "codemirror_mode": {
    "name": "ipython",
    "version": 3
   },
   "file_extension": ".py",
   "mimetype": "text/x-python",
   "name": "python",
   "nbconvert_exporter": "python",
   "pygments_lexer": "ipython3",
   "version": "3.11.8"
  }
 },
 "nbformat": 4,
 "nbformat_minor": 2
}
