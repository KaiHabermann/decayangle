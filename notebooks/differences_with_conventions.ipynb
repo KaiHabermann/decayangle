{
 "cells": [
  {
   "cell_type": "code",
   "execution_count": null,
   "metadata": {},
   "outputs": [],
   "source": [
    "%pip install matplotlib"
   ]
  },
  {
   "cell_type": "code",
   "execution_count": null,
   "metadata": {},
   "outputs": [],
   "source": [
    "import numpy as np\n",
    "from decayangle.lorentz import LorentzTrafo\n",
    "from decayangle.decay_topology import Topology\n",
    "from decayangle.config import config as cfg\n",
    "import matplotlib.pyplot as plt\n",
    "\n",
    "def make_four_vectors(phi_rf, theta_rf, psi_rf):\n",
    "    import numpy as np\n",
    "\n",
    "    # Make sure, the sorting is turned off\n",
    "    cfg.sorting = \"off\"\n",
    "\n",
    "    # Given values\n",
    "    # Lc -> p K pi\n",
    "    m1, m2, m3, m0 = 0.93827, 0.493677, 0.139570, 2.28646\n",
    "    m12 = 2.756020646168232**0.5\n",
    "    m23 = 1.3743747462964881**0.5\n",
    "\n",
    "    # Squared masses\n",
    "    m0sq, m1sq, m2sq, m3sq, m12sq, m23sq = [x**2 for x in [m0, m1, m2, m3, m12, m23]]\n",
    "\n",
    "    # Källén function\n",
    "    def Kallen(x, y, z):\n",
    "        return x**2 + y**2 + z**2 - 2 * (x * y + x * z + y * z)\n",
    "\n",
    "    # Calculating missing mass squared using momentum conservation\n",
    "    m31sq = m0sq + m1sq + m2sq + m3sq - m12sq - m23sq\n",
    "\n",
    "    # Momenta magnitudes\n",
    "    p1a = np.sqrt(Kallen(m23sq, m1sq, m0sq)) / (2 * m0)\n",
    "    p2a = np.sqrt(Kallen(m31sq, m2sq, m0sq)) / (2 * m0)\n",
    "\n",
    "    # Directions and components\n",
    "    cos_zeta_12_for0_numerator = (m0sq + m1sq - m23sq) * (\n",
    "        m0sq + m2sq - m31sq\n",
    "    ) - 2 * m0sq * (m12sq - m1sq - m2sq)\n",
    "    cos_zeta_12_for0_denominator = np.sqrt(Kallen(m0sq, m2sq, m31sq)) * np.sqrt(\n",
    "        Kallen(m0sq, m23sq, m1sq)\n",
    "    )\n",
    "    cos_zeta_12_for0 = cos_zeta_12_for0_numerator / cos_zeta_12_for0_denominator\n",
    "\n",
    "    p1z = -p1a\n",
    "    p2z = -p2a * cos_zeta_12_for0\n",
    "    p2x = np.sqrt(p2a**2 - p2z**2)\n",
    "    p3z = -p2z - p1z\n",
    "    p3x = -p2x\n",
    "\n",
    "    # Energy calculations based on the relativistic energy-momentum relation\n",
    "    E1 = np.sqrt(p1z**2 + m1sq)\n",
    "    E2 = np.sqrt(p2z**2 + p2x**2 + m2sq)\n",
    "    E3 = np.sqrt(p3z**2 + p3x**2 + m3sq)\n",
    "\n",
    "    # Vectors\n",
    "    p1 = np.array([0, 0, p1z, E1])\n",
    "    p2 = np.array([p2x, 0, p2z, E2])\n",
    "    p3 = np.array([p3x, 0, p3z, E3])\n",
    "\n",
    "    # Lorentz transformation\n",
    "    momenta = {i: p for i, p in zip([1, 2, 3], [p1, p2, p3])}\n",
    "    tree1 = Topology(root=0, decay_topology=((2, 3), 1))\n",
    "    \n",
    "    rotation = LorentzTrafo(0, 0, 0, phi_rf, theta_rf, psi_rf)\n",
    "    \n",
    "    momenta_23_rotated = tree1.root.transform(rotation, momenta)\n",
    "    return momenta_23_rotated"
   ]
  },
  {
   "cell_type": "code",
   "execution_count": null,
   "metadata": {},
   "outputs": [],
   "source": [
    "N = 1000\n",
    "x = np.linspace(1e-5, np.pi - 1e-5, N)\n",
    "y = np.linspace(-np.pi + 1e-5, np.pi - 1e-5, N)\n",
    "\n",
    "X, Y = np.meshgrid(x, y)\n",
    "momenta_23_rotated = make_four_vectors(1.4, X, Y)\n",
    "\n",
    "tree1 = Topology(root=0, decay_topology=((2, 3), 1))\n",
    "tree2 = Topology(root=0, decay_topology=((3, 1), 2))\n",
    "tree3 = Topology(root=0, decay_topology=((1, 2), 3))"
   ]
  },
  {
   "cell_type": "code",
   "execution_count": null,
   "metadata": {},
   "outputs": [],
   "source": [
    "def plot_for_convention(convention=\"helicity\"):\n",
    "    result_full = tree1.relative_wigner_angles(tree3, momenta_23_rotated, convention=convention)\n",
    "    result_psi = result_full[1].psi_rf\n",
    "    result_phi = result_full[1].phi_rf\n",
    "    result_theta = result_full[1].theta_rf\n",
    "    result = result_psi + result_phi\n",
    "\n",
    "    def fmod_4(val):\n",
    "        intermediate = np.fmod(val/np.pi + 4,4) - 2\n",
    "        intermediate[intermediate < 0] += 4\n",
    "        return intermediate\n",
    "\n",
    "    img = plt.imshow(fmod_4(result), cmap='hot', origin='lower',\n",
    "                    extent=[x.min(), x.max(), y.min(), y.max()], aspect='auto')\n",
    "    plt.colorbar(label=r\"$\\psi_{3}^{(1)}(1) + \\phi_{3}^{(1)}(1)$ in multiples of $\\pi$\")\n",
    "    plt.xlabel(r'$\\theta_{rf}$')\n",
    "    plt.ylabel(r'$\\psi_{rf}$')\n",
    "    plt.title(r\"$\\psi_{3}^{(1)}(1) + \\phi_{3}^{(1)}(1)$\")\n",
    "    plt.savefig(f'test_{convention}.png', dpi = 800)\n",
    "    plt.show()\n",
    "    img = plt.imshow(np.fmod(result_phi/np.pi + 4, 4), cmap='hot', origin='lower',\n",
    "                    extent=[x.min(), x.max(), y.min(), y.max()], aspect='auto')\n",
    "\n",
    "    plt.colorbar(label=r\"$\\phi_{3}^{(1)}(1)$ in multiples of $\\pi$\")\n",
    "    plt.xlabel(r'$\\theta_{rf}$')\n",
    "    plt.ylabel(r'$\\psi_{rf}$')\n",
    "    plt.title(r\"$\\phi_{3}^{(1)}(1)$\")\n",
    "    plt.savefig(f'test_phi_{convention}.png', dpi = 800)\n",
    "    plt.show()\n",
    "    img = plt.imshow(result_psi/np.pi, cmap='hot', origin='lower',\n",
    "                    extent=[x.min(), x.max(), y.min(), y.max()], aspect='auto')\n",
    "\n",
    "    plt.colorbar(label=r\"$\\psi_{3}^{(1)}(1)$ in multiples of $\\pi$\")\n",
    "    plt.xlabel(r'$\\theta_{rf}$')\n",
    "    plt.ylabel(r'$\\psi_{rf}$')\n",
    "    plt.title(r\"$\\psi_{3}^{(1)}(1)$\")\n",
    "    plt.savefig(f'test_psi_{convention}.png', dpi = 800)\n",
    "    plt.show()\n",
    "\n",
    "    img = plt.imshow(result_theta/np.pi, cmap='hot', origin='lower',\n",
    "                    extent=[x.min(), x.max(), y.min(), y.max()], aspect='auto')\n",
    "\n",
    "    plt.colorbar(label=r\"$\\theta{3}^{(1)}(1)$ in multiples of $\\pi$\")\n",
    "    plt.xlabel(r'$\\theta_{rf}$')\n",
    "    plt.ylabel(r'$\\psi_{rf}$')\n",
    "    plt.title(r\"$\\theta{3}^{(1)}(1)$\")\n",
    "    plt.savefig(f'test_theta_{convention}.png', dpi = 800)\n",
    "    plt.show()"
   ]
  },
  {
   "cell_type": "markdown",
   "metadata": {},
   "source": [
    "The `helicity` convention is the default. Here we boost into a new system by aligning the particle momentum with the z-axis and then boosting along the z-axis. Thus the quantization axis for the spins is given by the particles momentum direction. This is why this convention is called the `helicity` convention."
   ]
  },
  {
   "cell_type": "code",
   "execution_count": null,
   "metadata": {},
   "outputs": [],
   "source": [
    "plot_for_convention(\"helicity\")"
   ]
  },
  {
   "cell_type": "markdown",
   "metadata": {},
   "source": [
    "Let us look at the canonical convention. Here we stay in the canonical frame as defined by Chung. Thus after a boost into the next node in the tree, we will add a rotation about the z-axis by $-\\theta$. Here $\\theta$ is the helicity angle in the system that is boosted out of. So the full transformation from isobar 1 frame into isobar 2 frame becomes\n",
    "\n",
    "$R_z(\\phi) R_y(\\theta) B_z(\\xi) R_z(-\\phi) R_y(-\\theta)$\n",
    "\n",
    "This is so, that all movements between frames are **pure** boosts. I.e. we always go back to the quantization axis defined by the first frame\n"
   ]
  },
  {
   "cell_type": "code",
   "execution_count": null,
   "metadata": {},
   "outputs": [],
   "source": [
    "plot_for_convention(\"canonical\")"
   ]
  },
  {
   "cell_type": "markdown",
   "metadata": {},
   "source": [
    "The `minus_phi` convention is similar to the `canonical` convention, but instead of using $\\theta$ and rotation about the y-axis, $\\phi$ is used and a rotation about the z-axis. This does not change the value of the spin projection though."
   ]
  },
  {
   "cell_type": "code",
   "execution_count": null,
   "metadata": {},
   "outputs": [],
   "source": [
    "plot_for_convention(\"minus_phi\")"
   ]
  }
 ],
 "metadata": {
  "kernelspec": {
   "display_name": "decayangle",
   "language": "python",
   "name": "python3"
  },
  "language_info": {
   "codemirror_mode": {
    "name": "ipython",
    "version": 3
   },
   "file_extension": ".py",
   "mimetype": "text/x-python",
   "name": "python",
   "nbconvert_exporter": "python",
   "pygments_lexer": "ipython3",
   "version": "3.12.3"
  }
 },
 "nbformat": 4,
 "nbformat_minor": 2
}
